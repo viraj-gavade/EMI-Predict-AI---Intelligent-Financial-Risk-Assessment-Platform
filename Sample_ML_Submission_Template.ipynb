{
 "cells": [
  {
   "cell_type": "markdown",
   "metadata": {
    "id": "vncDsAP0Gaoa"
   },
   "source": [
    "# **Project Name**    -\n",
    "\n"
   ]
  },
  {
   "cell_type": "markdown",
   "metadata": {
    "id": "beRrZCGUAJYm"
   },
   "source": [
    "##### **Project Type**    - EDA/Regression/Classification/Unsupervised\n",
    "##### **Contribution**    - Individual/Team\n",
    "##### **Team Member 1 -**\n",
    "##### **Team Member 2 -**\n",
    "##### **Team Member 3 -**\n",
    "##### **Team Member 4 -**"
   ]
  },
  {
   "cell_type": "markdown",
   "metadata": {
    "id": "FJNUwmbgGyua"
   },
   "source": [
    "# **Project Summary -**"
   ]
  },
  {
   "cell_type": "markdown",
   "metadata": {
    "id": "F6v_1wHtG2nS"
   },
   "source": [
    "Write the summary here within 500-600 words."
   ]
  },
  {
   "cell_type": "markdown",
   "metadata": {
    "id": "w6K7xa23Elo4"
   },
   "source": [
    "# **GitHub Link -**"
   ]
  },
  {
   "cell_type": "markdown",
   "metadata": {
    "id": "h1o69JH3Eqqn"
   },
   "source": [
    "Provide your GitHub Link here."
   ]
  },
  {
   "cell_type": "markdown",
   "metadata": {
    "id": "yQaldy8SH6Dl"
   },
   "source": [
    "# **Problem Statement**\n"
   ]
  },
  {
   "cell_type": "markdown",
   "metadata": {
    "id": "DpeJGUA3kjGy"
   },
   "source": [
    "**Write Problem Statement Here.**"
   ]
  },
  {
   "cell_type": "markdown",
   "metadata": {
    "id": "mDgbUHAGgjLW"
   },
   "source": [
    "# **General Guidelines** : -  "
   ]
  },
  {
   "cell_type": "markdown",
   "metadata": {
    "id": "ZrxVaUj-hHfC"
   },
   "source": [
    "1.   Well-structured, formatted, and commented code is required.\n",
    "2.   Exception Handling, Production Grade Code & Deployment Ready Code will be a plus. Those students will be awarded some additional credits.\n",
    "     \n",
    "     The additional credits will have advantages over other students during Star Student selection.\n",
    "       \n",
    "             [ Note: - Deployment Ready Code is defined as, the whole .ipynb notebook should be executable in one go\n",
    "                       without a single error logged. ]\n",
    "\n",
    "3.   Each and every logic should have proper comments.\n",
    "4. You may add as many number of charts you want. Make Sure for each and every chart the following format should be answered.\n",
    "        \n",
    "\n",
    "```\n",
    "# Chart visualization code\n",
    "```\n",
    "            \n",
    "\n",
    "*   Why did you pick the specific chart?\n",
    "*   What is/are the insight(s) found from the chart?\n",
    "* Will the gained insights help creating a positive business impact?\n",
    "Are there any insights that lead to negative growth? Justify with specific reason.\n",
    "\n",
    "5. You have to create at least 15 logical & meaningful charts having important insights.\n",
    "\n",
    "\n",
    "[ Hints : - Do the Vizualization in  a structured way while following \"UBM\" Rule.\n",
    "\n",
    "U - Univariate Analysis,\n",
    "\n",
    "B - Bivariate Analysis (Numerical - Categorical, Numerical - Numerical, Categorical - Categorical)\n",
    "\n",
    "M - Multivariate Analysis\n",
    " ]\n",
    "\n",
    "\n",
    "\n",
    "\n",
    "\n",
    "6. You may add more ml algorithms for model creation. Make sure for each and every algorithm, the following format should be answered.\n",
    "\n",
    "\n",
    "*   Explain the ML Model used and it's performance using Evaluation metric Score Chart.\n",
    "\n",
    "\n",
    "*   Cross- Validation & Hyperparameter Tuning\n",
    "\n",
    "*   Have you seen any improvement? Note down the improvement with updates Evaluation metric Score Chart.\n",
    "\n",
    "*   Explain each evaluation metric's indication towards business and the business impact pf the ML model used.\n",
    "\n",
    "\n",
    "\n",
    "\n",
    "\n",
    "\n",
    "\n",
    "\n",
    "\n",
    "\n",
    "\n",
    "\n",
    "\n",
    "\n",
    "\n",
    "\n",
    "\n",
    "\n"
   ]
  },
  {
   "cell_type": "markdown",
   "metadata": {
    "id": "O_i_v8NEhb9l"
   },
   "source": [
    "# ***Let's Begin !***"
   ]
  },
  {
   "cell_type": "markdown",
   "metadata": {
    "id": "HhfV-JJviCcP"
   },
   "source": [
    "## ***1. Know Your Data***"
   ]
  },
  {
   "cell_type": "markdown",
   "metadata": {
    "id": "Y3lxredqlCYt"
   },
   "source": [
    "### Import Libraries"
   ]
  },
  {
   "cell_type": "code",
   "execution_count": 143,
   "metadata": {
    "id": "M8Vqi-pPk-HR"
   },
   "outputs": [],
   "source": [
    "# Import Libraries\n",
    "import pandas as pd \n",
    "import numpy as np\n",
    "import matplotlib.pyplot as plt\n",
    "import seaborn as sns\n",
    "from sklearn.model_selection import train_test_split\n",
    "%matplotlib inline"
   ]
  },
  {
   "cell_type": "markdown",
   "metadata": {
    "id": "3RnN4peoiCZX"
   },
   "source": [
    "### Dataset Loading"
   ]
  },
  {
   "cell_type": "code",
   "execution_count": 144,
   "metadata": {
    "id": "4CkvbW_SlZ_R"
   },
   "outputs": [
    {
     "name": "stderr",
     "output_type": "stream",
     "text": [
      "C:\\Users\\vrajg\\AppData\\Local\\Temp\\ipykernel_15616\\574895720.py:2: DtypeWarning: Columns (0) have mixed types. Specify dtype option on import or set low_memory=False.\n",
      "  df = pd.read_csv('./DataSet/emi_prediction_dataset.csv')\n"
     ]
    }
   ],
   "source": [
    "# Load Dataset\n",
    "df = pd.read_csv('./DataSet/emi_prediction_dataset.csv')"
   ]
  },
  {
   "cell_type": "markdown",
   "metadata": {
    "id": "x71ZqKXriCWQ"
   },
   "source": [
    "### Dataset First View"
   ]
  },
  {
   "cell_type": "code",
   "execution_count": 145,
   "metadata": {
    "id": "LWNFOSvLl09H"
   },
   "outputs": [
    {
     "data": {
      "text/html": [
       "<div>\n",
       "<style scoped>\n",
       "    .dataframe tbody tr th:only-of-type {\n",
       "        vertical-align: middle;\n",
       "    }\n",
       "\n",
       "    .dataframe tbody tr th {\n",
       "        vertical-align: top;\n",
       "    }\n",
       "\n",
       "    .dataframe thead th {\n",
       "        text-align: right;\n",
       "    }\n",
       "</style>\n",
       "<table border=\"1\" class=\"dataframe\">\n",
       "  <thead>\n",
       "    <tr style=\"text-align: right;\">\n",
       "      <th></th>\n",
       "      <th>age</th>\n",
       "      <th>gender</th>\n",
       "      <th>marital_status</th>\n",
       "      <th>education</th>\n",
       "      <th>monthly_salary</th>\n",
       "      <th>employment_type</th>\n",
       "      <th>years_of_employment</th>\n",
       "      <th>company_type</th>\n",
       "      <th>house_type</th>\n",
       "      <th>monthly_rent</th>\n",
       "      <th>...</th>\n",
       "      <th>existing_loans</th>\n",
       "      <th>current_emi_amount</th>\n",
       "      <th>credit_score</th>\n",
       "      <th>bank_balance</th>\n",
       "      <th>emergency_fund</th>\n",
       "      <th>emi_scenario</th>\n",
       "      <th>requested_amount</th>\n",
       "      <th>requested_tenure</th>\n",
       "      <th>emi_eligibility</th>\n",
       "      <th>max_monthly_emi</th>\n",
       "    </tr>\n",
       "  </thead>\n",
       "  <tbody>\n",
       "    <tr>\n",
       "      <th>0</th>\n",
       "      <td>38.0</td>\n",
       "      <td>Female</td>\n",
       "      <td>Married</td>\n",
       "      <td>Professional</td>\n",
       "      <td>82600.0</td>\n",
       "      <td>Private</td>\n",
       "      <td>0.9</td>\n",
       "      <td>Mid-size</td>\n",
       "      <td>Rented</td>\n",
       "      <td>20000.0</td>\n",
       "      <td>...</td>\n",
       "      <td>Yes</td>\n",
       "      <td>23700.0</td>\n",
       "      <td>660.0</td>\n",
       "      <td>303200.0</td>\n",
       "      <td>70200.0</td>\n",
       "      <td>Personal Loan EMI</td>\n",
       "      <td>850000.0</td>\n",
       "      <td>15</td>\n",
       "      <td>Not_Eligible</td>\n",
       "      <td>500.0</td>\n",
       "    </tr>\n",
       "    <tr>\n",
       "      <th>1</th>\n",
       "      <td>38.0</td>\n",
       "      <td>Female</td>\n",
       "      <td>Married</td>\n",
       "      <td>Graduate</td>\n",
       "      <td>21500.0</td>\n",
       "      <td>Private</td>\n",
       "      <td>7.0</td>\n",
       "      <td>MNC</td>\n",
       "      <td>Family</td>\n",
       "      <td>0.0</td>\n",
       "      <td>...</td>\n",
       "      <td>Yes</td>\n",
       "      <td>4100.0</td>\n",
       "      <td>714.0</td>\n",
       "      <td>92500.0</td>\n",
       "      <td>26900.0</td>\n",
       "      <td>E-commerce Shopping EMI</td>\n",
       "      <td>128000.0</td>\n",
       "      <td>19</td>\n",
       "      <td>Not_Eligible</td>\n",
       "      <td>700.0</td>\n",
       "    </tr>\n",
       "    <tr>\n",
       "      <th>2</th>\n",
       "      <td>38.0</td>\n",
       "      <td>Male</td>\n",
       "      <td>Married</td>\n",
       "      <td>Professional</td>\n",
       "      <td>86100.0</td>\n",
       "      <td>Private</td>\n",
       "      <td>5.8</td>\n",
       "      <td>Startup</td>\n",
       "      <td>Own</td>\n",
       "      <td>0.0</td>\n",
       "      <td>...</td>\n",
       "      <td>No</td>\n",
       "      <td>0.0</td>\n",
       "      <td>650.0</td>\n",
       "      <td>672100.0</td>\n",
       "      <td>324200.0</td>\n",
       "      <td>Education EMI</td>\n",
       "      <td>306000.0</td>\n",
       "      <td>16</td>\n",
       "      <td>Eligible</td>\n",
       "      <td>27775.0</td>\n",
       "    </tr>\n",
       "    <tr>\n",
       "      <th>3</th>\n",
       "      <td>58.0</td>\n",
       "      <td>Female</td>\n",
       "      <td>Married</td>\n",
       "      <td>High School</td>\n",
       "      <td>66800.0</td>\n",
       "      <td>Private</td>\n",
       "      <td>2.2</td>\n",
       "      <td>Mid-size</td>\n",
       "      <td>Own</td>\n",
       "      <td>0.0</td>\n",
       "      <td>...</td>\n",
       "      <td>No</td>\n",
       "      <td>0.0</td>\n",
       "      <td>685.0</td>\n",
       "      <td>440900.0</td>\n",
       "      <td>178100.0</td>\n",
       "      <td>Vehicle EMI</td>\n",
       "      <td>304000.0</td>\n",
       "      <td>83</td>\n",
       "      <td>Eligible</td>\n",
       "      <td>16170.0</td>\n",
       "    </tr>\n",
       "    <tr>\n",
       "      <th>4</th>\n",
       "      <td>48.0</td>\n",
       "      <td>Female</td>\n",
       "      <td>Married</td>\n",
       "      <td>Professional</td>\n",
       "      <td>57300.0</td>\n",
       "      <td>Private</td>\n",
       "      <td>3.4</td>\n",
       "      <td>Mid-size</td>\n",
       "      <td>Family</td>\n",
       "      <td>0.0</td>\n",
       "      <td>...</td>\n",
       "      <td>No</td>\n",
       "      <td>0.0</td>\n",
       "      <td>770.0</td>\n",
       "      <td>97300.0</td>\n",
       "      <td>28200.0</td>\n",
       "      <td>Home Appliances EMI</td>\n",
       "      <td>252000.0</td>\n",
       "      <td>7</td>\n",
       "      <td>Not_Eligible</td>\n",
       "      <td>500.0</td>\n",
       "    </tr>\n",
       "  </tbody>\n",
       "</table>\n",
       "<p>5 rows × 27 columns</p>\n",
       "</div>"
      ],
      "text/plain": [
       "    age  gender marital_status     education monthly_salary employment_type  \\\n",
       "0  38.0  Female        Married  Professional        82600.0         Private   \n",
       "1  38.0  Female        Married      Graduate        21500.0         Private   \n",
       "2  38.0    Male        Married  Professional        86100.0         Private   \n",
       "3  58.0  Female        Married   High School        66800.0         Private   \n",
       "4  48.0  Female        Married  Professional        57300.0         Private   \n",
       "\n",
       "   years_of_employment company_type house_type  monthly_rent  ...  \\\n",
       "0                  0.9     Mid-size     Rented       20000.0  ...   \n",
       "1                  7.0          MNC     Family           0.0  ...   \n",
       "2                  5.8      Startup        Own           0.0  ...   \n",
       "3                  2.2     Mid-size        Own           0.0  ...   \n",
       "4                  3.4     Mid-size     Family           0.0  ...   \n",
       "\n",
       "   existing_loans  current_emi_amount  credit_score  bank_balance  \\\n",
       "0             Yes             23700.0         660.0      303200.0   \n",
       "1             Yes              4100.0         714.0       92500.0   \n",
       "2              No                 0.0         650.0      672100.0   \n",
       "3              No                 0.0         685.0      440900.0   \n",
       "4              No                 0.0         770.0       97300.0   \n",
       "\n",
       "   emergency_fund             emi_scenario  requested_amount requested_tenure  \\\n",
       "0         70200.0        Personal Loan EMI          850000.0               15   \n",
       "1         26900.0  E-commerce Shopping EMI          128000.0               19   \n",
       "2        324200.0            Education EMI          306000.0               16   \n",
       "3        178100.0              Vehicle EMI          304000.0               83   \n",
       "4         28200.0      Home Appliances EMI          252000.0                7   \n",
       "\n",
       "   emi_eligibility  max_monthly_emi  \n",
       "0     Not_Eligible            500.0  \n",
       "1     Not_Eligible            700.0  \n",
       "2         Eligible          27775.0  \n",
       "3         Eligible          16170.0  \n",
       "4     Not_Eligible            500.0  \n",
       "\n",
       "[5 rows x 27 columns]"
      ]
     },
     "execution_count": 145,
     "metadata": {},
     "output_type": "execute_result"
    }
   ],
   "source": [
    "# Dataset First Lodok\n",
    "df.head()"
   ]
  },
  {
   "cell_type": "markdown",
   "metadata": {
    "id": "7hBIi_osiCS2"
   },
   "source": [
    "### Dataset Rows & Columns count"
   ]
  },
  {
   "cell_type": "code",
   "execution_count": 95,
   "metadata": {
    "id": "Kllu7SJgmLij"
   },
   "outputs": [
    {
     "data": {
      "text/plain": [
       "(404800, 27)"
      ]
     },
     "execution_count": 95,
     "metadata": {},
     "output_type": "execute_result"
    }
   ],
   "source": [
    "# Dataset Rows & Columns count\n",
    "df.shape"
   ]
  },
  {
   "cell_type": "markdown",
   "metadata": {
    "id": "JlHwYmJAmNHm"
   },
   "source": [
    "### Dataset Information"
   ]
  },
  {
   "cell_type": "code",
   "execution_count": 96,
   "metadata": {
    "id": "e9hRXRi6meOf"
   },
   "outputs": [
    {
     "name": "stdout",
     "output_type": "stream",
     "text": [
      "<class 'pandas.core.frame.DataFrame'>\n",
      "RangeIndex: 404800 entries, 0 to 404799\n",
      "Data columns (total 27 columns):\n",
      " #   Column                  Non-Null Count   Dtype  \n",
      "---  ------                  --------------   -----  \n",
      " 0   age                     404800 non-null  object \n",
      " 1   gender                  404800 non-null  object \n",
      " 2   marital_status          404800 non-null  object \n",
      " 3   education               402396 non-null  object \n",
      " 4   monthly_salary          404800 non-null  object \n",
      " 5   employment_type         404800 non-null  object \n",
      " 6   years_of_employment     404800 non-null  float64\n",
      " 7   company_type            404800 non-null  object \n",
      " 8   house_type              404800 non-null  object \n",
      " 9   monthly_rent            402374 non-null  float64\n",
      " 10  family_size             404800 non-null  int64  \n",
      " 11  dependents              404800 non-null  int64  \n",
      " 12  school_fees             404800 non-null  float64\n",
      " 13  college_fees            404800 non-null  float64\n",
      " 14  travel_expenses         404800 non-null  float64\n",
      " 15  groceries_utilities     404800 non-null  float64\n",
      " 16  other_monthly_expenses  404800 non-null  float64\n",
      " 17  existing_loans          404800 non-null  object \n",
      " 18  current_emi_amount      404800 non-null  float64\n",
      " 19  credit_score            402380 non-null  float64\n",
      " 20  bank_balance            402374 non-null  object \n",
      " 21  emergency_fund          402449 non-null  float64\n",
      " 22  emi_scenario            404800 non-null  object \n",
      " 23  requested_amount        404800 non-null  float64\n",
      " 24  requested_tenure        404800 non-null  int64  \n",
      " 25  emi_eligibility         404800 non-null  object \n",
      " 26  max_monthly_emi         404800 non-null  float64\n",
      "dtypes: float64(12), int64(3), object(12)\n",
      "memory usage: 83.4+ MB\n"
     ]
    }
   ],
   "source": [
    "# Dataset Info\n",
    "df.info()"
   ]
  },
  {
   "cell_type": "markdown",
   "metadata": {
    "id": "35m5QtbWiB9F"
   },
   "source": [
    "#### Duplicate Values"
   ]
  },
  {
   "cell_type": "code",
   "execution_count": 97,
   "metadata": {
    "id": "1sLdpKYkmox0"
   },
   "outputs": [
    {
     "data": {
      "text/plain": [
       "np.int64(0)"
      ]
     },
     "execution_count": 97,
     "metadata": {},
     "output_type": "execute_result"
    }
   ],
   "source": [
    "# Dataset Duplicate Value Count\n",
    "df.duplicated().sum()"
   ]
  },
  {
   "cell_type": "markdown",
   "metadata": {
    "id": "PoPl-ycgm1ru"
   },
   "source": [
    "#### Missing Values/Null Values"
   ]
  },
  {
   "cell_type": "code",
   "execution_count": 98,
   "metadata": {
    "id": "GgHWkxvamxVg"
   },
   "outputs": [
    {
     "data": {
      "text/plain": [
       "age                          0\n",
       "gender                       0\n",
       "marital_status               0\n",
       "education                 2404\n",
       "monthly_salary               0\n",
       "employment_type              0\n",
       "years_of_employment          0\n",
       "company_type                 0\n",
       "house_type                   0\n",
       "monthly_rent              2426\n",
       "family_size                  0\n",
       "dependents                   0\n",
       "school_fees                  0\n",
       "college_fees                 0\n",
       "travel_expenses              0\n",
       "groceries_utilities          0\n",
       "other_monthly_expenses       0\n",
       "existing_loans               0\n",
       "current_emi_amount           0\n",
       "credit_score              2420\n",
       "bank_balance              2426\n",
       "emergency_fund            2351\n",
       "emi_scenario                 0\n",
       "requested_amount             0\n",
       "requested_tenure             0\n",
       "emi_eligibility              0\n",
       "max_monthly_emi              0\n",
       "dtype: int64"
      ]
     },
     "execution_count": 98,
     "metadata": {},
     "output_type": "execute_result"
    }
   ],
   "source": [
    "# Missing Values/Null Values Count\n",
    "df.isnull().sum()"
   ]
  },
  {
   "cell_type": "code",
   "execution_count": 99,
   "metadata": {
    "id": "3q5wnI3om9sJ"
   },
   "outputs": [
    {
     "data": {
      "image/png": "[encoded data removed]",
      "text/plain": [
       "<Figure size 1000x600 with 1 Axes>"
      ]
     },
     "metadata": {},
     "output_type": "display_data"
    }
   ],
   "source": [
    "# Visualizing the missing values\n",
    "plt.figure(figsize=(10,6))\n",
    "sns.heatmap(df.isnull(), cbar=False, cmap='viridis')\n",
    "plt.title('Missing Values Heatmap')\n",
    "plt.show()"
   ]
  },
  {
   "cell_type": "markdown",
   "metadata": {
    "id": "H0kj-8xxnORC"
   },
   "source": [
    "### What did you know about your dataset?"
   ]
  },
  {
   "cell_type": "markdown",
   "metadata": {
    "id": "gfoNAAC-nUe_"
   },
   "source": [
    "### Dataset Overview\n",
    "\n",
    "1. **Shape:**  \n",
    "   The dataset contains a total of 404,800 records and 27 columns, including both input features and output variables.  \n",
    "   - Rows: 404,800  \n",
    "   - Columns: 27  \n",
    "\n",
    "2. **Data Types:**  \n",
    "   The dataset consists of three data types:  \n",
    "   - Integer (`int64`)  \n",
    "   - Float (`float64`)  \n",
    "   - String/Object (`object`)  \n",
    "\n",
    "3. **Duplicates:**  \n",
    "   The dataset does not contain any duplicate records.\n",
    "\n",
    "4. **Missing Values:**  \n",
    "   The dataset has no missing values except in the following columns:  \n",
    "   - `education`  \n",
    "   - `monthly_rent`  \n",
    "   - `credit_score`  \n",
    "   - `bank_balance`  \n",
    "   - `emergency_fund`\n"
   ]
  },
  {
   "cell_type": "markdown",
   "metadata": {
    "id": "nA9Y7ga8ng1Z"
   },
   "source": [
    "## ***2. Understanding Your Variables***"
   ]
  },
  {
   "cell_type": "code",
   "execution_count": 100,
   "metadata": {
    "id": "j7xfkqrt5Ag5"
   },
   "outputs": [
    {
     "data": {
      "text/plain": [
       "Index(['age', 'gender', 'marital_status', 'education', 'monthly_salary',\n",
       "       'employment_type', 'years_of_employment', 'company_type', 'house_type',\n",
       "       'monthly_rent', 'family_size', 'dependents', 'school_fees',\n",
       "       'college_fees', 'travel_expenses', 'groceries_utilities',\n",
       "       'other_monthly_expenses', 'existing_loans', 'current_emi_amount',\n",
       "       'credit_score', 'bank_balance', 'emergency_fund', 'emi_scenario',\n",
       "       'requested_amount', 'requested_tenure', 'emi_eligibility',\n",
       "       'max_monthly_emi'],\n",
       "      dtype='object')"
      ]
     },
     "execution_count": 100,
     "metadata": {},
     "output_type": "execute_result"
    }
   ],
   "source": [
    "# Dataset Columns\n",
    "df.columns"
   ]
  },
  {
   "cell_type": "code",
   "execution_count": 101,
   "metadata": {
    "id": "DnOaZdaE5Q5t"
   },
   "outputs": [
    {
     "data": {
      "text/html": [
       "<div>\n",
       "<style scoped>\n",
       "    .dataframe tbody tr th:only-of-type {\n",
       "        vertical-align: middle;\n",
       "    }\n",
       "\n",
       "    .dataframe tbody tr th {\n",
       "        vertical-align: top;\n",
       "    }\n",
       "\n",
       "    .dataframe thead th {\n",
       "        text-align: right;\n",
       "    }\n",
       "</style>\n",
       "<table border=\"1\" class=\"dataframe\">\n",
       "  <thead>\n",
       "    <tr style=\"text-align: right;\">\n",
       "      <th></th>\n",
       "      <th>years_of_employment</th>\n",
       "      <th>monthly_rent</th>\n",
       "      <th>family_size</th>\n",
       "      <th>dependents</th>\n",
       "      <th>school_fees</th>\n",
       "      <th>college_fees</th>\n",
       "      <th>travel_expenses</th>\n",
       "      <th>groceries_utilities</th>\n",
       "      <th>other_monthly_expenses</th>\n",
       "      <th>current_emi_amount</th>\n",
       "      <th>credit_score</th>\n",
       "      <th>emergency_fund</th>\n",
       "      <th>requested_amount</th>\n",
       "      <th>requested_tenure</th>\n",
       "      <th>max_monthly_emi</th>\n",
       "    </tr>\n",
       "  </thead>\n",
       "  <tbody>\n",
       "    <tr>\n",
       "      <th>count</th>\n",
       "      <td>404800.000000</td>\n",
       "      <td>402374.000000</td>\n",
       "      <td>404800.000000</td>\n",
       "      <td>404800.000000</td>\n",
       "      <td>404800.000000</td>\n",
       "      <td>404800.000000</td>\n",
       "      <td>404800.000000</td>\n",
       "      <td>404800.000000</td>\n",
       "      <td>404800.000000</td>\n",
       "      <td>404800.000000</td>\n",
       "      <td>402380.000000</td>\n",
       "      <td>402449.000000</td>\n",
       "      <td>4.048000e+05</td>\n",
       "      <td>404800.000000</td>\n",
       "      <td>404800.000000</td>\n",
       "    </tr>\n",
       "    <tr>\n",
       "      <th>mean</th>\n",
       "      <td>5.364079</td>\n",
       "      <td>5828.446490</td>\n",
       "      <td>2.940425</td>\n",
       "      <td>1.940425</td>\n",
       "      <td>4624.575593</td>\n",
       "      <td>4066.253706</td>\n",
       "      <td>5687.497777</td>\n",
       "      <td>12804.999506</td>\n",
       "      <td>7119.309783</td>\n",
       "      <td>4543.407609</td>\n",
       "      <td>700.856223</td>\n",
       "      <td>96769.051731</td>\n",
       "      <td>3.708554e+05</td>\n",
       "      <td>29.126677</td>\n",
       "      <td>6763.602156</td>\n",
       "    </tr>\n",
       "    <tr>\n",
       "      <th>std</th>\n",
       "      <td>6.079135</td>\n",
       "      <td>8648.604639</td>\n",
       "      <td>1.075199</td>\n",
       "      <td>1.075199</td>\n",
       "      <td>5061.074401</td>\n",
       "      <td>7319.344289</td>\n",
       "      <td>3392.671132</td>\n",
       "      <td>6993.853745</td>\n",
       "      <td>4510.447300</td>\n",
       "      <td>7034.901139</td>\n",
       "      <td>88.435548</td>\n",
       "      <td>81373.053976</td>\n",
       "      <td>3.451945e+05</td>\n",
       "      <td>18.100854</td>\n",
       "      <td>7741.263317</td>\n",
       "    </tr>\n",
       "    <tr>\n",
       "      <th>min</th>\n",
       "      <td>0.500000</td>\n",
       "      <td>0.000000</td>\n",
       "      <td>1.000000</td>\n",
       "      <td>0.000000</td>\n",
       "      <td>0.000000</td>\n",
       "      <td>0.000000</td>\n",
       "      <td>600.000000</td>\n",
       "      <td>1800.000000</td>\n",
       "      <td>600.000000</td>\n",
       "      <td>0.000000</td>\n",
       "      <td>0.000000</td>\n",
       "      <td>1400.000000</td>\n",
       "      <td>1.000000e+04</td>\n",
       "      <td>3.000000</td>\n",
       "      <td>500.000000</td>\n",
       "    </tr>\n",
       "    <tr>\n",
       "      <th>25%</th>\n",
       "      <td>1.200000</td>\n",
       "      <td>0.000000</td>\n",
       "      <td>2.000000</td>\n",
       "      <td>1.000000</td>\n",
       "      <td>0.000000</td>\n",
       "      <td>0.000000</td>\n",
       "      <td>3200.000000</td>\n",
       "      <td>7700.000000</td>\n",
       "      <td>3800.000000</td>\n",
       "      <td>0.000000</td>\n",
       "      <td>654.000000</td>\n",
       "      <td>38400.000000</td>\n",
       "      <td>1.240000e+05</td>\n",
       "      <td>15.000000</td>\n",
       "      <td>500.000000</td>\n",
       "    </tr>\n",
       "    <tr>\n",
       "      <th>50%</th>\n",
       "      <td>3.200000</td>\n",
       "      <td>0.000000</td>\n",
       "      <td>3.000000</td>\n",
       "      <td>2.000000</td>\n",
       "      <td>3000.000000</td>\n",
       "      <td>0.000000</td>\n",
       "      <td>4900.000000</td>\n",
       "      <td>11400.000000</td>\n",
       "      <td>6000.000000</td>\n",
       "      <td>0.000000</td>\n",
       "      <td>701.000000</td>\n",
       "      <td>74000.000000</td>\n",
       "      <td>2.360000e+05</td>\n",
       "      <td>25.000000</td>\n",
       "      <td>4211.200000</td>\n",
       "    </tr>\n",
       "    <tr>\n",
       "      <th>75%</th>\n",
       "      <td>7.200000</td>\n",
       "      <td>10600.000000</td>\n",
       "      <td>4.000000</td>\n",
       "      <td>3.000000</td>\n",
       "      <td>9000.000000</td>\n",
       "      <td>6500.000000</td>\n",
       "      <td>7400.000000</td>\n",
       "      <td>16400.000000</td>\n",
       "      <td>9300.000000</td>\n",
       "      <td>8000.000000</td>\n",
       "      <td>748.000000</td>\n",
       "      <td>130600.000000</td>\n",
       "      <td>4.940000e+05</td>\n",
       "      <td>40.000000</td>\n",
       "      <td>9792.000000</td>\n",
       "    </tr>\n",
       "    <tr>\n",
       "      <th>max</th>\n",
       "      <td>36.000000</td>\n",
       "      <td>80000.000000</td>\n",
       "      <td>5.000000</td>\n",
       "      <td>4.000000</td>\n",
       "      <td>15000.000000</td>\n",
       "      <td>25000.000000</td>\n",
       "      <td>30300.000000</td>\n",
       "      <td>71200.000000</td>\n",
       "      <td>42900.000000</td>\n",
       "      <td>56300.000000</td>\n",
       "      <td>1200.000000</td>\n",
       "      <td>891500.000000</td>\n",
       "      <td>1.500000e+06</td>\n",
       "      <td>84.000000</td>\n",
       "      <td>91040.400000</td>\n",
       "    </tr>\n",
       "  </tbody>\n",
       "</table>\n",
       "</div>"
      ],
      "text/plain": [
       "       years_of_employment   monthly_rent    family_size     dependents  \\\n",
       "count        404800.000000  402374.000000  404800.000000  404800.000000   \n",
       "mean              5.364079    5828.446490       2.940425       1.940425   \n",
       "std               6.079135    8648.604639       1.075199       1.075199   \n",
       "min               0.500000       0.000000       1.000000       0.000000   \n",
       "25%               1.200000       0.000000       2.000000       1.000000   \n",
       "50%               3.200000       0.000000       3.000000       2.000000   \n",
       "75%               7.200000   10600.000000       4.000000       3.000000   \n",
       "max              36.000000   80000.000000       5.000000       4.000000   \n",
       "\n",
       "         school_fees   college_fees  travel_expenses  groceries_utilities  \\\n",
       "count  404800.000000  404800.000000    404800.000000        404800.000000   \n",
       "mean     4624.575593    4066.253706      5687.497777         12804.999506   \n",
       "std      5061.074401    7319.344289      3392.671132          6993.853745   \n",
       "min         0.000000       0.000000       600.000000          1800.000000   \n",
       "25%         0.000000       0.000000      3200.000000          7700.000000   \n",
       "50%      3000.000000       0.000000      4900.000000         11400.000000   \n",
       "75%      9000.000000    6500.000000      7400.000000         16400.000000   \n",
       "max     15000.000000   25000.000000     30300.000000         71200.000000   \n",
       "\n",
       "       other_monthly_expenses  current_emi_amount   credit_score  \\\n",
       "count           404800.000000       404800.000000  402380.000000   \n",
       "mean              7119.309783         4543.407609     700.856223   \n",
       "std               4510.447300         7034.901139      88.435548   \n",
       "min                600.000000            0.000000       0.000000   \n",
       "25%               3800.000000            0.000000     654.000000   \n",
       "50%               6000.000000            0.000000     701.000000   \n",
       "75%               9300.000000         8000.000000     748.000000   \n",
       "max              42900.000000        56300.000000    1200.000000   \n",
       "\n",
       "       emergency_fund  requested_amount  requested_tenure  max_monthly_emi  \n",
       "count   402449.000000      4.048000e+05     404800.000000    404800.000000  \n",
       "mean     96769.051731      3.708554e+05         29.126677      6763.602156  \n",
       "std      81373.053976      3.451945e+05         18.100854      7741.263317  \n",
       "min       1400.000000      1.000000e+04          3.000000       500.000000  \n",
       "25%      38400.000000      1.240000e+05         15.000000       500.000000  \n",
       "50%      74000.000000      2.360000e+05         25.000000      4211.200000  \n",
       "75%     130600.000000      4.940000e+05         40.000000      9792.000000  \n",
       "max     891500.000000      1.500000e+06         84.000000     91040.400000  "
      ]
     },
     "execution_count": 101,
     "metadata": {},
     "output_type": "execute_result"
    }
   ],
   "source": [
    "# Dataset Describe\n",
    "df.describe()"
   ]
  },
  {
   "cell_type": "markdown",
   "metadata": {
    "id": "PBTbrJXOngz2"
   },
   "source": [
    "### Variables Description"
   ]
  },
  {
   "cell_type": "markdown",
   "metadata": {
    "id": "aJV4KIxSnxay"
   },
   "source": [
    "### Variable Description\n",
    "\n",
    "The dataset consists of 27 variables capturing demographic, financial, and loan-related attributes of individuals applying for EMI. Below is the overview of the variables:\n",
    "\n",
    "1. **age** – Age of the applicant (in years).  \n",
    "2. **gender** – Gender of the applicant (Male/Female).  \n",
    "3. **marital_status** – Marital status (Single/Married).  \n",
    "4. **education** – Educational qualification (High School, Graduate, Post Graduate, Professional).  \n",
    "5. **monthly_salary** – Gross monthly income of the applicant (in INR).  \n",
    "6. **employment_type** – Employment category (Private, Government, Self-employed).  \n",
    "7. **years_of_employment** – Total years of work experience.  \n",
    "8. **company_type** – Type of company or organization where the applicant works.  \n",
    "9. **house_type** – Type of residential ownership (Rented, Owned, Family).  \n",
    "10. **monthly_rent** – Monthly rent amount (in INR).  \n",
    "11. **family_size** – Total number of family members.  \n",
    "12. **dependents** – Number of financial dependents in the household.  \n",
    "13. **school_fees** – Monthly educational expenses for dependents in school.  \n",
    "14. **college_fees** – Monthly educational expenses for dependents in college.  \n",
    "15. **travel_expenses** – Monthly travel or commuting expenses.  \n",
    "16. **groceries_utilities** – Combined monthly cost of groceries and utilities.  \n",
    "17. **other_monthly_expenses** – Other miscellaneous monthly financial obligations.  \n",
    "18. **existing_loans** – Indicator showing if the applicant currently has other active loans.  \n",
    "19. **current_emi_amount** – The total of all current EMI payments (in INR).  \n",
    "20. **credit_score** – Creditworthiness score (typically ranges between 300 and 850).  \n",
    "21. **bank_balance** – Current balance in the applicant’s bank account.  \n",
    "22. **emergency_fund** – Amount reserved as an emergency financial backup.  \n",
    "23. **emi_scenario** – Type of EMI or loan scenario (E-commerce, Vehicle, Education, etc.).  \n",
    "24. **requested_amount** – The loan amount requested by the applicant.  \n",
    "25. **requested_tenure** – Loan repayment tenure in months.  \n",
    "26. **emi_eligibility** – Classification label showing EMI eligibility status (Eligible, High_Risk, Not_Eligible).  \n",
    "27. **max_monthly_emi** – Regression target variable indicating the maximum safe EMI amount the applicant can afford.\n",
    "\n",
    "---\n",
    "\n",
    "### Statistical Summary (Numerical Variables)\n",
    "\n",
    "The key numerical variables such as `years_of_employment`, `monthly_rent`, `credit_score`, and `max_monthly_emi` show wide variability, indicating diverse financial backgrounds among applicants.  \n",
    "For example:\n",
    "- **Years of employment** ranges from 0.5 to 36 years.  \n",
    "- **Monthly rent** varies between ₹0 and ₹80,000.  \n",
    "- **Credit score** ranges from 0 to 1200 (with a mean of around 700).  \n",
    "- **Maximum EMI amount** ranges from ₹500 to ₹91,040.  \n",
    "\n",
    "This diversity highlights the dataset’s representativeness across different income levels, employment types, and financial capacities.\n"
   ]
  },
  {
   "cell_type": "markdown",
   "metadata": {},
   "source": []
  },
  {
   "cell_type": "markdown",
   "metadata": {
    "id": "u3PMJOP6ngxN"
   },
   "source": [
    "### Check Unique Values for each variable."
   ]
  },
  {
   "cell_type": "code",
   "execution_count": 146,
   "metadata": {
    "id": "zms12Yq5n-jE"
   },
   "outputs": [
    {
     "name": "stdout",
     "output_type": "stream",
     "text": [
      "age: [38.0 58.0 48.0 32.0 27.0 47.0 37.0 31.0 59.0 49.0 33.0 26.0 39.0 57.0\n",
      " 28.0 '58' '38' '48' '32' '27' '37' '48.0' '33' '38.0' '49' '27.0' '31'\n",
      " '39' '47' '59' '32.0' '58.0' '57' '26' '28' '58.0.0' '39.0' '26.0' '37.0'\n",
      " '38.0.0' '32.0.0'] , Count: 41\n",
      "gender: ['Female' 'Male' 'female' 'male' 'M' 'MALE' 'F' 'FEMALE'] , Count: 8\n",
      "marital_status: ['Married' 'Single'] , Count: 2\n",
      "education: ['Professional' 'Graduate' 'High School' 'Post Graduate' nan] , Count: 5\n",
      "monthly_salary: ['82600.0' '21500.0' '86100.0' ... '56779.0' '56280.0' '55905.0'] , Count: 13662\n",
      "employment_type: ['Private' 'Government' 'Self-employed'] , Count: 3\n",
      "years_of_employment: [ 0.9  7.   5.8  2.2  3.4  5.  36.  12.9  1.9  7.5  3.7  1.3  3.2  0.5\n",
      " 26.   0.8  4.2  2.6  3.9  9.7  4.7  9.6  1.7  9.4  4.1  1.   7.6 16.\n",
      "  2.5  1.6 17.1  6.6 12.6  2.3  4.5 11.3 10.   0.7  3.   2.1  2.7  0.6\n",
      "  8.6  5.9  8.4 12.4  2.8 15.9 10.2  1.2  1.5 14.   1.1  6.5  7.4  7.2\n",
      " 20.7 17.6 16.6 10.9 20.6 29.7  8.5 10.8 14.2  9.9 24.3  9.1 11.4 11.8\n",
      "  2.   6.2  6.9  5.2 11.7 18.1  8.2  3.1  3.3  7.1  5.5 10.4  4.   2.4\n",
      "  8.3  6.1  4.4  8.8  5.6  5.4  4.6 17.8 20.2 22.7 13.6  8.   4.3  2.9\n",
      " 10.5 13.1 14.1 11.2  4.8 15.7  6.3  5.3 18.9 11.9 21.3  6.4 15.5  3.5\n",
      " 12.   1.8 13.3  1.4 20.5  8.9 10.3  8.1 14.8 32.   5.1  7.9 21.9  7.7\n",
      " 15.  25.8 14.3  6.7  3.8 21.8  9.2  7.3  5.7  4.9  9.  15.1  6.8 15.3\n",
      " 13.  20.  12.2 12.1 13.8 23.8 12.8 27.7  6.  18.2 15.6  8.7 17.4  3.6\n",
      " 17.3  9.5 33.4 11.1 15.4 20.1 24.1 10.1 19.7 16.5 10.7 23.6 13.9  9.8\n",
      "  9.3 25.3 14.4 21.4 24.5 23.5 17.5 13.5 19.3 22.8 14.9 10.6 12.5 16.8\n",
      " 19.8 11.6 11.5 19.5 18.7 14.7 14.6 17.9 23.  23.1 19.1 13.4 35.2 15.8\n",
      " 16.7 30.  22.9 12.3 25.7 13.7 22.6 19.9 27.3 33.3 31.7 30.5 27.2 34.8\n",
      " 21.7 13.2  7.8 16.9 22.1 26.5 21.6 14.5 27.1 19.  25.1 17.  12.7 26.1\n",
      " 28.4 20.8 25.2 21.1 16.2 26.4 22.  25.5 16.3 18.  28.9 18.8 18.3 20.4\n",
      " 24.6 16.1 21.5 17.2 20.3 25.  26.6 29.5 22.5 19.4 15.2 18.6 16.4 35.1\n",
      " 28.5 11.  23.2 21.2 27.5 28.7 27.8 32.8 30.4 23.7 24.  23.9 31.8 30.1\n",
      " 17.7 18.4 22.3 19.2 32.4 32.5 34.9 23.3 34.5 22.4 24.8 18.5 21.  24.2\n",
      " 32.1 31.9 24.4 25.6 32.7 20.9 24.7 33.  23.4 24.9 26.7 26.8 27.9 35.\n",
      " 35.4 34.  30.8 30.7 29.3 34.4 28.8 33.1 28.2 29.8 29.  19.6 32.9 28.1\n",
      " 30.9 33.8 22.2 27.  35.5 31.3 30.2 31.6 28.3 32.3 29.4 35.3 31.1 32.6\n",
      " 31.  34.6 29.9 33.2 27.6 28.6 27.4 29.2 25.9 33.5 29.1 26.3 26.9 33.7\n",
      " 32.2 25.4 26.2 30.6 31.2 34.3 29.6 35.7 33.9 35.6 35.9 34.1 30.3 31.4\n",
      " 34.7 34.2 31.5 33.6 28.  35.8] , Count: 356\n",
      "company_type: ['Mid-size' 'MNC' 'Startup' 'Large Indian' 'Small'] , Count: 5\n",
      "house_type: ['Rented' 'Family' 'Own'] , Count: 3\n",
      "monthly_rent: [20000.     0. 13500. ... 54600.  6143.  8366.] , Count: 4397\n",
      "family_size: [3 2 4 5 1] , Count: 5\n",
      "dependents: [2 1 3 4 0] , Count: 5\n",
      "school_fees: [    0.  5100. 11400.  9400. 10200. 15000.  8100. 10900. 12000.  9100.\n",
      " 10800.  9300. 11700.  5500.  5400.  8000.  2400. 14400.  3000. 12900.\n",
      "  8300. 10600. 12300. 13800.  9900. 12500.  5900.  3900.  8500. 12700.\n",
      "  6800.  7900. 11000.  7700. 14100. 14300. 11200.  4700. 11600.  6500.\n",
      "  6200. 10300.  9800.  5700.  5200.  2500. 14800.  2000. 14500.  9500.\n",
      "  5000.  8800. 11800.  5300.  2700.  9600.  7300.  8200. 11300.  4200.\n",
      "  2200.  3400.  2100. 14700. 13500.  8600. 10500.  4400.  3200. 10700.\n",
      "  9000.  3800.  5600.  3500.  7600. 13100.  6600. 12800. 11100.  3600.\n",
      " 13900.  4500.  7500.  7400.  2900. 11900.  7100.  4100.  8700. 14000.\n",
      " 12100.  5800. 10000. 10100.  3700.  7000. 14900.  3300.  4300.  4600.\n",
      " 14200.  6300.  2300.  6100. 13000. 13200. 11500.  8900. 13400.  2600.\n",
      " 13600. 14600.  8400.  9200. 12400.  2800.  7800.  6900.  4900.  3100.\n",
      " 13300.  4000.  6000. 10400.  7200. 12200.  4800.  9700.  6700. 12600.\n",
      " 13700.  6400.] , Count: 132\n",
      "college_fees: [    0. 21300. 24100. 11300.  8900. 15300. 20300. 22400.  6500. 15000.\n",
      " 12700. 17400. 14900. 24000. 22000. 12300. 17300.  8300. 17600. 17900.\n",
      " 21900. 18900.  5400. 10300.  9500. 18000. 15500. 10200.  8600.  5300.\n",
      " 20700. 20900. 10600.  7900. 13400.  5000. 21700. 19100. 16200. 24600.\n",
      " 19700. 24500. 12600. 15700.  5800. 13600. 10700.  9000. 21800. 15100.\n",
      "  8500.  6100.  6800. 19800.  5100. 16500.  6400. 19600. 11000. 11900.\n",
      " 16800. 14600. 10900. 14000.  5500. 20400. 17200. 21600. 16400. 24900.\n",
      " 21200.  6000. 19200. 18300. 14300.  9400. 16300.  9800.  7100.  7400.\n",
      " 16700.  9700.  8400. 23200. 11600.  5900. 11200. 10100. 23700.  6300.\n",
      " 13700. 17000.  9100. 12000. 20800. 20200. 10000. 14100. 17500. 22700.\n",
      " 19900. 23600. 22800.  9200. 19300. 20500. 22600. 22900. 14800.  7700.\n",
      " 13300. 14500. 10800.  7200. 15200.  8100.  9900. 11700. 13000. 24400.\n",
      " 23300. 18400. 18600.  5700. 13100. 12400. 23900. 21000.  7500. 14400.\n",
      " 19500.  6600. 18100. 13900. 22500. 10500.  9600. 11800.  6700.  6900.\n",
      " 18500. 15400. 11400. 23000. 24200. 13800. 18800.  7000. 18200. 20600.\n",
      "  8800. 18700. 22200. 21500. 21100.  8700. 23500. 15600. 16100. 13200.\n",
      " 17100. 17800. 12100. 20000.  7800.  9300. 21400. 23100.  6200.  5200.\n",
      " 12800. 16600. 19000. 17700. 11500. 16900. 23800. 10400. 23400. 20100.\n",
      " 14200. 16000. 12200. 13500. 14700.  8000. 25000.  8200. 19400.  7600.\n",
      "  5600. 22300. 22100. 24700. 15900. 15800. 12900. 12500. 24800. 11100.\n",
      " 24300.  7300.] , Count: 202\n",
      "travel_expenses: [ 7200.  1400. 10200.  6200.  3600.  3400.  1600.  5600.  6100. 11800.\n",
      "  3100.  6800.  3800.  4000.  4900.  6300.  8300.  3200.  9600.  2600.\n",
      "  5300.  5500.  8700.  3000.  4200.  3300.  7100. 10800.  4300. 11000.\n",
      "  3900.  9700.  2800.  5800.  7500.  1900. 19400.  9300.  8400.  1300.\n",
      "  8200.  6900. 16000.  4600. 12500.  6500.  6600.  3500.  7000. 13700.\n",
      "  9100.  4700. 14000.  2500.  6000.  5200.  5900.  8100.  4800. 15500.\n",
      "  2700.  5000. 16600.  2100.  9000.  9900.  1000.  6400.  3700.  9200.\n",
      "  1100. 11600. 14700.  2000.  8500.  5100. 19100.  7400. 12600.  8600.\n",
      "  8800.  5400. 12100.  7900. 13400.  2200.  4400.  9400.  1500. 11200.\n",
      "  7700.  5700.  4100.  6700. 17800.  4500.  2300. 15200. 11900.  9500.\n",
      "  1700. 10700.  8900. 14600.  2900.  2400. 13800. 16400. 13300. 12000.\n",
      "  7800. 10300. 13500. 10900. 15000.  7600. 12700. 15600. 10400. 21400.\n",
      "  1800.  8000.  9800. 11400. 20300. 10500. 19500. 13100. 12300. 14300.\n",
      " 11300. 12400. 17300. 12800. 15400. 23300. 14800. 10100. 13000. 13200.\n",
      "  1200. 16200. 12900.  7300. 11100. 19200.   900. 15100. 15900. 13600.\n",
      " 10600. 11500. 11700. 10000. 14100. 21700. 17700. 16700. 15300. 17200.\n",
      " 19600. 12200. 16900. 18100. 15800. 14500. 18200. 17000. 18700. 14200.\n",
      " 14400.   700. 21200.   800. 20800. 22000. 14900. 13900. 15700. 17500.\n",
      " 24000. 18500. 17600. 16100. 16300. 16800. 17400. 22300. 20600. 23100.\n",
      " 18800. 18900. 16500. 18000. 19000. 19800. 18300. 19700. 18600. 21300.\n",
      " 21600.   600. 17900. 17100. 20900. 19300. 28700. 25200. 22200. 23500.\n",
      " 20000. 19900. 21000. 20700. 22700. 20100. 23000. 26200. 20200. 25600.\n",
      " 24100. 20500. 21900. 26000. 21500. 23900. 18400. 25000. 25700. 22600.\n",
      " 22800. 24300. 20400. 23800. 27000. 22100. 23200. 24900. 24600. 23700.\n",
      " 22400. 22900. 28000. 23600. 21100. 21800. 24200. 25300. 25800. 30300.\n",
      " 26300. 26400. 23400. 28500. 28900. 27500. 28600. 22500. 24800. 25500.\n",
      " 25100. 25400. 27100. 24400. 24500. 24700. 27200. 28800. 27800. 26500.\n",
      " 29100. 26700. 29500. 26800. 26600. 27400. 28100. 26100. 26900. 27700.\n",
      " 29300. 28200. 28400. 30000.] , Count: 284\n",
      "groceries_utilities: [19500.  5400. 19400. 11900. 16200.  8200.  7300. 12300. 24100. 11000.\n",
      "  8900. 14000. 10500. 27700. 10000. 15600.  8800. 13500. 18500. 17600.\n",
      "  2600.  5500. 12700. 11100.  6500. 20300.  5800.  6700.  8600. 23400.\n",
      "  5600. 22500. 10700. 11200. 26000.  8400. 13600. 13200. 19800. 16500.\n",
      " 11400.  5300. 36400.  4900. 22700. 16700.  3700. 24200. 15300. 23800.\n",
      " 14100.  6300. 18000. 10400. 12900. 15100. 11800.  7500. 19100.  5900.\n",
      "  9300. 18400. 24000.  9500. 17400.  9800.  7100.  8300.  9900.  8700.\n",
      "  7400. 12600. 27500.  7900. 27600.  7800. 14400.  9100. 29100.  4800.\n",
      "  5700. 23900. 31700. 29000.  9200. 12100. 15700.  2800. 14800. 12500.\n",
      " 18700. 10600. 12800.  4200.  7600.  3100. 29200. 20200. 14900.  8500.\n",
      "  8100.  4600. 13300.  3900. 28200.  9600. 16600.  6600.  6900. 32600.\n",
      " 18300. 19000. 15900. 17800. 10800. 19300.  9400. 14500. 25400. 25200.\n",
      " 10100. 20700.  6200. 13000. 10200. 17900. 14300.  8000.  7000. 25500.\n",
      " 22200.  6400.  5000. 21300. 20100. 21100. 19200. 16300.  2700. 20800.\n",
      " 17200. 40500. 18100. 16400. 12000.  5200.  6800.  3000. 32700. 21200.\n",
      " 17000. 13900.  3400. 13100. 24900. 15800.  2400. 24700. 19600. 17700.\n",
      " 22300. 31600. 16100. 22600.  7700. 30800. 18600. 11700. 24500. 22000.\n",
      " 16800. 24600. 13800. 16000. 22800. 11600. 15400. 18900.  3800. 20400.\n",
      "  3300.  4300.  7200.  9700.  9000. 21700.  2200. 20600.  4700. 25700.\n",
      "  5100. 27400. 34600. 25900. 20900. 13700. 25800. 26600. 10300. 42700.\n",
      " 10900.  2500.  3500.  2300. 11300. 34900.  6100. 17100. 24800.  4500.\n",
      " 26100. 27300. 22100. 21900. 15500. 16900. 19700. 27000. 17500. 12400.\n",
      " 11500. 24300. 17300. 14200. 26500.  6000. 25100. 21800. 27800. 31500.\n",
      " 12200.  3600. 26300. 15200.  4400. 13400. 29900. 14700. 33300. 34700.\n",
      " 26400. 28400. 23200. 23700. 15000. 23000. 14600.  4000. 18200. 37500.\n",
      " 22900. 31800. 30100. 29300. 23500. 21000. 31900.  2900. 36500. 29400.\n",
      " 23600. 19900. 25000.  4100. 20500. 22400. 28500. 27100. 29500. 36000.\n",
      " 21500. 21600. 32100. 38800. 27900. 28000. 31400. 23300. 30400. 37900.\n",
      " 31300. 27200.  3200. 30700. 32400. 29600. 21400. 37700. 41000. 26800.\n",
      " 28100. 26200. 28800. 20000. 26700. 18800. 29700. 35700. 28700. 30200.\n",
      " 36600. 24400. 28600. 40000. 42000. 29800. 34800. 33200. 30900. 34100.\n",
      " 25300. 23100. 31000. 45400. 25600. 30000. 32300. 32500. 28300. 26900.\n",
      " 34000. 46800. 31100. 35500. 35400. 33800. 37100. 41200. 37400. 37300.\n",
      " 46700. 48100. 37800. 39800. 33900. 39300. 33700. 36700. 39100.  1800.\n",
      " 32000. 45600. 36200. 30600. 35300. 33100. 38600. 34500. 33000. 35000.\n",
      " 39700. 38900. 46200. 41300. 35200. 38200. 40300. 44400. 31200. 32800.\n",
      " 49300.  2100. 34400. 48800. 45800. 33500. 30500. 28900. 32900. 49000.\n",
      " 39200. 37200. 36900. 33400. 33600. 40700. 35600. 36100. 42400. 45200.\n",
      " 35900. 47300. 45900. 35800. 44100. 30300. 47900. 62100. 42800. 35100.\n",
      " 46500. 42500. 41400. 44300. 40800. 41900. 38400. 36300. 41600. 37000.\n",
      " 39500. 40400. 44600. 38300. 43600. 39900. 40200. 49200. 32200. 40600.\n",
      "  2000. 38100. 48600. 46300. 51500. 46100. 43700. 38000. 40900. 34200.\n",
      " 53700. 43100. 47100. 34300. 44500. 41500. 43500. 48500. 51300.  1900.\n",
      " 42900. 52800. 38500. 39000. 43000. 43400. 42300. 52000. 51000. 43900.\n",
      " 39400. 42100. 52600. 47000. 45500. 37600. 40100. 50000. 54100. 47500.\n",
      " 56900. 44800. 54000. 41700. 43300. 43800. 42200. 36800. 45000. 49800.\n",
      " 49100. 38700. 43200. 47800. 39600. 41100. 48300. 44200. 47600. 45100.\n",
      " 48900. 45700. 57000. 47700. 53200. 42600. 49400. 48000. 50700. 48400.\n",
      " 44000. 55000. 46900. 50400. 58200. 50100. 51800. 55600. 46400. 59000.\n",
      " 56600. 44900. 46000. 54200. 52300. 41800. 53800. 44700. 47400. 54900.\n",
      " 59800. 45300. 48700. 51200. 51600. 49900. 46600. 52400. 50600. 48200.\n",
      " 64800. 49600. 50900. 60800. 53900. 71200. 55700. 63200. 51900. 52900.\n",
      " 63500. 50500. 49500. 59900. 51100. 52500. 55800. 47200. 62800. 50200.\n",
      " 53300. 50300. 50800. 63700. 57200. 57600. 53600. 56400. 51700. 56300.\n",
      " 58600. 58500. 55400. 58900.] , Count: 544\n",
      "other_monthly_expenses: [13200.  3500.  6000.  7900.  8100.  6700.  4100.  3000.  8300. 16500.\n",
      "  9300.  2500.  3400.  3900.  9000.  8400.  5400. 10300.  6600.  6900.\n",
      "  7600.  8000.  1700.  4500. 12100.  8200.  3300. 16100.  2300.  6400.\n",
      "  9900. 10100.  5100. 25300.  2900.  6300. 11600.  3700.  4400. 10600.\n",
      " 14200.  9800.  3100.  4300. 21700. 13000.  7400.  2100.  5600.  4000.\n",
      " 10700. 12400.  8700.  9700. 12600.  8800.  5000.  7000.  5700. 10200.\n",
      " 11300. 20400.  3200. 14500.  6500.  3800.  8500.  4600.  6200. 15200.\n",
      "  4800. 11100. 29100. 10800.   800.  9600.  7700.  7800. 12800.  5300.\n",
      " 18000.  4200.  2400.  2200.  5500.  3600.  5800.  1800. 12300. 15600.\n",
      "  7300. 17200. 12000.  5200. 14000.  8900. 17800.  7200. 16600.  7500.\n",
      " 11900. 10400. 10500.  2800. 18500.  2000. 15000.  1900. 14400.  8600.\n",
      "  2700.  1100. 13300.  6800.  9200. 11700.  4700. 11800. 27400.  1400.\n",
      "  4900. 14300. 15700. 10000.  2600. 11200. 18700.  1000. 12700.   700.\n",
      "  7100. 16400. 15100. 15900. 16200.  6100.  9400. 13100. 11500. 18400.\n",
      " 27500. 10900. 17600.   900. 17900. 13800.  1500.  9100. 13500. 13900.\n",
      " 12200. 12500. 13400. 14800. 21800. 24800. 19200. 20200. 20500.  1600.\n",
      " 27800. 13700. 14600. 11400. 11000. 15300. 22500. 22300. 20900.  5900.\n",
      "  9500.  1300. 15800. 20100. 12900. 21400. 23200. 19600. 18600. 17100.\n",
      " 26700. 16700. 14700. 23600.  1200. 23000. 18100. 19400. 27200. 22900.\n",
      " 15400. 23100. 29300. 28000. 13600. 20300. 15500. 17700. 16800. 16900.\n",
      " 24900. 16300. 14100. 28600. 14900. 18800. 22800. 19000. 26800. 16000.\n",
      " 19800. 17300. 20800. 26000. 17000. 20000. 19300. 18200. 22100. 20700.\n",
      " 23500. 22700. 28200. 25200. 24600. 17500. 26200. 23300. 18300. 19700.\n",
      " 24400. 24000. 22000. 28400. 25000. 19100. 19500. 19900. 26100. 21500.\n",
      " 30600. 18900. 23400. 31300. 22400. 25600. 21200. 21100. 24300. 23900.\n",
      " 24200. 20600. 24700. 17400. 23700. 28500. 21900. 23800. 22200. 21600.\n",
      " 35800. 25500.   600. 24500. 21300. 28300. 28900. 26300. 24100. 25400.\n",
      " 36300. 33000. 21000. 22600. 26900. 27900. 26500. 29700. 30000. 35400.\n",
      " 32400. 31400. 26600. 33400. 25700. 25100. 27000. 32300. 31500. 29900.\n",
      " 27300. 25800. 31600. 32800. 26400. 27600. 30700. 28700. 36800. 32100.\n",
      " 30500. 27100. 31700. 35000. 25900. 35200. 31200. 30400. 31100. 33100.\n",
      " 27700. 28100. 32600. 29000. 33300. 31000. 34300. 32900. 34600. 29800.\n",
      " 39800. 30800. 30300. 29400. 32700. 29500. 30900. 34700. 33800. 32000.\n",
      " 34500. 35700. 30100. 31900. 29600. 39000. 33500. 36600. 38100. 29200.\n",
      " 28800. 40400. 38800. 30200. 35100. 37900. 37700. 32200. 34200. 36900.\n",
      " 34000. 39400. 42900. 33600. 37400. 41400. 33200. 36000. 31800. 40700.\n",
      " 38000. 35300. 33900. 34100. 35500. 36200. 35900. 33700. 37600. 36700.\n",
      " 36100. 37500. 39500.] , Count: 373\n",
      "existing_loans: ['Yes' 'No'] , Count: 2\n",
      "current_emi_amount: [23700.  4100.     0.  9900. 33100.  7100. 11300.  6300. 18600. 10400.\n",
      " 21200.  4800. 13600.  5200.  7800.  5300.  6400. 34300.  7500.  6500.\n",
      "  9300.  3200. 29400. 11600. 20700.  5700. 12300. 14300.  6700. 14600.\n",
      "  9000.  3600.  4700. 14100. 21300.  5900.  6900.  8900.  5100. 11200.\n",
      " 10900.  5600.  2900. 17800.  9500. 14400. 34000. 19000.  5500. 14200.\n",
      "  9800.  4300. 36700.  5800. 12700.  3300.  9700. 16700.  9600. 22200.\n",
      "  6200. 12200. 12600.  8000.  4600. 12800. 18000. 14800. 14900.  8100.\n",
      " 16100. 13200.  4000.  2300. 17200. 13100.  5000. 26800.  8400.  8200.\n",
      "  3000. 10600.  7000. 10200. 12500. 21800.  8500. 31200. 12000.  7600.\n",
      " 15000.  9400. 19200.  7700. 13500. 23300. 28500. 10500. 20200. 12400.\n",
      "  4400. 24800.  8800.  1900. 15900. 14000. 10800. 17400.  6600. 10700.\n",
      " 28800. 24200. 18800. 11900. 18500.  9200. 10300.  2200.  4500.  7900.\n",
      " 17300.  3800. 13900.  6000.  3700.  8700.  9100.  8600. 15200. 12100.\n",
      "  2600. 23500.  6800. 12900.  5400. 10100. 17600. 11800. 16300. 27700.\n",
      " 25200. 14500. 16900. 18200. 24300. 14700. 15500. 23000.  3500. 15300.\n",
      " 18900. 21700. 24500. 22600.  1800. 19700. 28200.  4200. 35300. 22800.\n",
      " 15100.  7300. 19400. 19500. 16000. 11400. 11500. 20600. 31700. 22900.\n",
      "  7200. 17100. 16600.  6100. 10000.  7400.  2100.  3100. 11700. 13700.\n",
      " 19900. 17000.  3900. 13300. 26700. 21400. 23600. 13800. 11000. 30800.\n",
      "  2800. 29500. 16500.  2700. 23900. 26900. 15400. 13400. 29700. 34100.\n",
      " 11100. 21100. 20800.  1700. 15600. 31400. 22000. 31500. 38500. 28300.\n",
      " 17500. 19300. 18100. 37600. 13000. 20400.  8300. 35800. 24900. 26400.\n",
      " 16400. 23100. 21600. 22300. 39100.  2500. 20900. 24000. 16200. 18700.\n",
      " 22100. 15800. 17900. 31300.  4900. 15700. 29900. 27900. 36000. 24600.\n",
      " 26300. 28000. 30500. 25400. 18400. 31000.  2400. 27000. 19600. 19100.\n",
      " 30000. 34600. 27400. 25600. 23200. 20300. 24400. 18300. 17700. 31600.\n",
      " 27200. 32600. 16800. 30100. 27500. 28900. 20100. 21000. 32000. 31100.\n",
      "  3400. 20500. 28400. 23800. 30700. 26200. 28600. 29300. 22700. 21900.\n",
      " 25000. 38600. 34500. 37000. 30400. 40300. 24100. 20000. 33600. 28700.\n",
      " 27100. 33800. 43900. 31800. 23400. 29100. 25100. 34900.  1600. 28100.\n",
      " 19800. 29600. 26600. 27800. 30600. 27600. 25300. 25700. 42100.  1300.\n",
      " 29000. 37400. 25500. 22500. 24700. 33200.  2000. 27300. 30900. 35700.\n",
      " 33300. 33700. 26100. 36200. 29200. 21500. 36500. 22400. 39300. 38000.\n",
      " 38800. 32900. 41900. 26500. 36300. 25900. 36800. 26000. 36100. 31900.\n",
      " 32100. 37800. 43200. 39400. 42200. 42600. 30200. 49300. 30300. 44200.\n",
      "  1500. 38400. 42400. 33900. 43800. 52500. 37700. 35100. 33000. 46400.\n",
      " 32500. 36400. 25800. 37200. 37900. 50800. 35400. 42800. 38100. 41400.\n",
      " 32200. 35000. 42900. 33500. 34200. 42700. 32400. 39000. 46200. 47600.\n",
      " 40400. 37300. 32800. 44600. 32700. 41800. 39600. 34400. 46000. 40100.\n",
      " 40700. 44100. 38300. 29800. 34700. 36600. 43600. 51400. 37500. 40800.\n",
      " 50900. 36900. 35900. 44900. 40600. 33400. 37100. 39700. 40200. 34800.\n",
      " 44400. 39200. 32300. 38900. 40900. 35500. 43500. 40500. 45700. 35200.\n",
      " 38700. 44000. 49700. 44300. 52600. 49400. 50000. 45800. 56300. 52900.\n",
      " 47100. 48400. 46300. 41700. 41500. 48600. 35600.  1400. 38200. 41100.\n",
      " 46800. 47900. 43100. 39900. 42000. 49200. 45300. 41200. 53400. 50100.\n",
      " 45200. 47200. 45500. 39500. 46600. 45900. 41300. 47500. 48700. 44500.\n",
      " 50300.  1200. 45400. 44800. 43000. 43300. 55400. 47000. 41000. 39800.\n",
      " 51000. 48300. 48900. 40000. 54300. 46900. 51300. 53800. 48800. 52100.\n",
      " 52800. 45000. 41600. 42300. 47700. 43400. 51600. 50500. 52200. 45100.\n",
      " 53200. 43700. 47300. 53000. 46100. 42500. 51900. 51700. 53300. 44700.\n",
      " 48100. 51800. 46700. 54900. 48500. 45600. 52000. 52300.] , Count: 508\n",
      "credit_score: [ 660.  714.  650.  685.  770.  792.  741.  623.  712.  681.  791.  560.\n",
      "  695.  691.  788.  664.  662.  665.  655.  719.  663.  765.  804.  755.\n",
      "  808.  710.  769.  648.  746.  614.  819.  570.  606.  717.  546.  702.\n",
      "  718.  694.  729.  732.  705.  850.  697.  737.  670.  700.  727.  628.\n",
      "  731.  730.  745.  798.  668.  653.  735.  630.  704.  686.  716.  678.\n",
      "  578.  762.  693.  756.  703.  799.  543.  690.  639.  669.  608.  728.\n",
      "  676.  777.  636.  840.  616.  849.  688.  722.  725.  617.  739.  637.\n",
      "  706.  846.  818.  654.  698.  631.  753.  790.  713.  738.  696.  748.\n",
      "  821.  626.  618.  658.  841.  679.  794.  646.  780.  640.  721.  692.\n",
      "  673.  656.  843.  715.  701.  754.  805.  595.  576.  747.   nan  644.\n",
      "  776.  734.  751. 1200.  682.  625.  720.  811.  523.  778.  652.  803.\n",
      "  708.  736.  675.  588.  647.  531.  752.  633.  645.  772.  766.  711.\n",
      "  683.  768.  689.  661.  600.  744.  699.  659.  707.  598.  620.  643.\n",
      "  611.  651.    0.  574.  587.  677.  838.  733.  759.  627.  742.  750.\n",
      "  774.  657.  999.  607.  767.  642.  540.  680.  764.  785.  723.  621.\n",
      "  589.  672.  815.  586.  674.  624.  797.  740.  568.  795.  763.  666.\n",
      "  612.  615.  758.  634.  641.  518.  743.  782.  823.  775.  757.  783.\n",
      "  609.  801.  687.  671.  550.  584.  596.  559.  787.  569.  684.  454.\n",
      "  580.  806.  749.  807.  812.  831.  836.  771.  592.  619.  827.  824.\n",
      "  610.  597.  582.  726.  709.  761.  603.  724.  789.  796.  632.  622.\n",
      "  581.  800.  565.  667.  835.  810.  813.  779.  828.  635.  495.  466.\n",
      "  555.  585.  649.  556.  760.  825.  604.  548.  527.  602.  773.  583.\n",
      "  594.  793.  784.  809.  847.  573.  599.  493.  566.  593.  833.  601.\n",
      "  844.  579.  557.  826.  814.  535.  590.  613.  781.  638.  505.  802.\n",
      "  629.  605.  564.  834.  817.  562.  832.  820.  547.  845.  786.  591.\n",
      "  848.  538.  552.  534.  830.  577.  822.  532.  551.  553.  571.  575.\n",
      "  837.  816.  533.  839.  558.  497.  526.  510.  563.  521.  561.  572.\n",
      "  471.  567.  494.  507.  506.  842.  541.  536.  528.  544.  549.  472.\n",
      "  482.  829.  512.  539.  554.  520.  503.  514.  542.  537.  469.  519.\n",
      "  502.  515.  516.  530.  524.  529.  509.  545.  504.  501.  467.  452.\n",
      "  511.  481.  484.  474.  486.  522.  513.  498.  488.  479.  517.  525.\n",
      "  485.  496.  492.  429.  450.  490.  464.  508.  483.  500.  489.  462.\n",
      "  478.  499.  491.  427.  442.  447.  465.  449.  463.  433.  441.  460.\n",
      "  487.  468.  439.  448.  477.  436.  461.  475.  440.  456.  457.  470.\n",
      "  476.  480.  453.  473.  409.  430.  410.  451.  425.  432.  459.  424.\n",
      "  446.  407.  434.  458.  417.  443.  421.  431.] , Count: 428\n",
      "bank_balance: ['303200.0' '92500.0' '672100.0' ... '1026700.0' '302100.0.0' '141400.0.0'] , Count: 12262\n",
      "emergency_fund: [ 70200.  26900. 324200. ... 470100. 711600. 525000.] , Count: 5487\n",
      "emi_scenario: ['Personal Loan EMI' 'E-commerce Shopping EMI' 'Education EMI'\n",
      " 'Vehicle EMI' 'Home Appliances EMI'] , Count: 5\n",
      "requested_amount: [ 850000.  128000.  306000. ... 1330000. 1203000. 1149000.] , Count: 1491\n",
      "requested_tenure: [15 19 16 83  7 53 11 12 14  3 77 41 21 60 61 33 35 57 36 63 20 75  8 23\n",
      " 49 45 80 34 18 59  9 48 22 42 13 39 55 44 37 10 25  6 24 31 28 43 29 26\n",
      " 58 32 69 46 17  5 27 30 52 66 79 40 47 51 67 74 50 38 54 76 64 56 71 68\n",
      " 73 65 72  4 81 62 70 84 78 82] , Count: 82\n",
      "emi_eligibility: ['Not_Eligible' 'Eligible' 'High_Risk'] , Count: 3\n",
      "max_monthly_emi: [  500.    700.  27775.  ... 38065.5 49860.  23730. ] , Count: 15383\n"
     ]
    }
   ],
   "source": [
    "# Check Unique Values for each variable.\n",
    "for column in df.columns:\n",
    "    print(f\"{column}: {df[column].unique()} , Count: {len(df[column].unique())}\")\n",
    "\n",
    "\n"
   ]
  },
  {
   "cell_type": "markdown",
   "metadata": {
    "id": "dauF4eBmngu3"
   },
   "source": [
    "## 3. ***Data Wrangling***"
   ]
  },
  {
   "cell_type": "markdown",
   "metadata": {
    "id": "bKJF3rekwFvQ"
   },
   "source": [
    "### Data Wrangling Code"
   ]
  },
  {
   "cell_type": "code",
   "execution_count": 147,
   "metadata": {},
   "outputs": [],
   "source": [
    "# Write your code to make your dataset analysis ready.\n",
    "for col in df.columns:\n",
    "    if df[col].dtype == 'object':\n",
    "        if df[col].str.replace('.', '', 1).str.isdigit().all():\n",
    "            print(f\"{col} contains numeric values stored as strings\")"
   ]
  },
  {
   "cell_type": "code",
   "execution_count": 148,
   "metadata": {},
   "outputs": [
    {
     "data": {
      "text/plain": [
       "0    <class 'str'>\n",
       "1    <class 'str'>\n",
       "2    <class 'str'>\n",
       "3    <class 'str'>\n",
       "4    <class 'str'>\n",
       "5    <class 'str'>\n",
       "6    <class 'str'>\n",
       "7    <class 'str'>\n",
       "8    <class 'str'>\n",
       "9    <class 'str'>\n",
       "Name: monthly_salary, dtype: object"
      ]
     },
     "execution_count": 148,
     "metadata": {},
     "output_type": "execute_result"
    }
   ],
   "source": [
    "df['monthly_salary'].head(10).apply(type)\n"
   ]
  },
  {
   "cell_type": "code",
   "execution_count": 149,
   "metadata": {},
   "outputs": [],
   "source": [
    "df['monthly_salary'] = df['monthly_salary'].astype(str).str.strip(\"[]' \")\n"
   ]
  },
  {
   "cell_type": "code",
   "execution_count": 150,
   "metadata": {},
   "outputs": [
    {
     "data": {
      "text/plain": [
       "0    82600.0\n",
       "1    21500.0\n",
       "2    86100.0\n",
       "3    66800.0\n",
       "4    57300.0\n",
       "Name: monthly_salary, dtype: object"
      ]
     },
     "execution_count": 150,
     "metadata": {},
     "output_type": "execute_result"
    }
   ],
   "source": [
    "df['monthly_salary'].head()\n"
   ]
  },
  {
   "cell_type": "code",
   "execution_count": 151,
   "metadata": {},
   "outputs": [],
   "source": [
    "df['bank_balance'] = df['bank_balance'].astype(str).str.strip(\"[]' \")\n",
    "df['emergency_fund'] = df['emergency_fund'].astype(str).str.strip(\"[]' \")\n",
    "df['credit_score'] = df['credit_score'].astype(str).str.strip(\"[]' \")\n"
   ]
  },
  {
   "cell_type": "code",
   "execution_count": 152,
   "metadata": {},
   "outputs": [],
   "source": [
    "df['monthly_salary'] = pd.to_numeric(df['monthly_salary'], errors='coerce')\n",
    "df['bank_balance'] = pd.to_numeric(df['bank_balance'], errors='coerce')\n",
    "df['emergency_fund'] = pd.to_numeric(df['emergency_fund'], errors='coerce')\n",
    "df['credit_score'] = pd.to_numeric(df['credit_score'], errors='coerce')"
   ]
  },
  {
   "cell_type": "code",
   "execution_count": 153,
   "metadata": {},
   "outputs": [
    {
     "data": {
      "text/plain": [
       "age                          0\n",
       "gender                       0\n",
       "marital_status               0\n",
       "education                 2404\n",
       "monthly_salary            1993\n",
       "employment_type              0\n",
       "years_of_employment          0\n",
       "company_type                 0\n",
       "house_type                   0\n",
       "monthly_rent              2426\n",
       "family_size                  0\n",
       "dependents                   0\n",
       "school_fees                  0\n",
       "college_fees                 0\n",
       "travel_expenses              0\n",
       "groceries_utilities          0\n",
       "other_monthly_expenses       0\n",
       "existing_loans               0\n",
       "current_emi_amount           0\n",
       "credit_score              2420\n",
       "bank_balance              4392\n",
       "emergency_fund            2351\n",
       "emi_scenario                 0\n",
       "requested_amount             0\n",
       "requested_tenure             0\n",
       "emi_eligibility              0\n",
       "max_monthly_emi              0\n",
       "dtype: int64"
      ]
     },
     "execution_count": 153,
     "metadata": {},
     "output_type": "execute_result"
    }
   ],
   "source": [
    "df.isnull().sum()"
   ]
  },
  {
   "cell_type": "code",
   "execution_count": 154,
   "metadata": {
    "id": "wk-9a2fpoLcV"
   },
   "outputs": [],
   "source": [
    "\n",
    "# Finding the missing values and handling them.\n",
    "df['education'] = df['education'].fillna(df['education'].mode()[0])\n",
    "df['bank_balance'] = df['bank_balance'].fillna(df['bank_balance'].median())\n",
    "df['emergency_fund'] = df['emergency_fund'].fillna(df['emergency_fund'].median())\n",
    "df['credit_score'] = df['credit_score'].fillna(df['credit_score'].median())\n"
   ]
  },
  {
   "cell_type": "code",
   "execution_count": 156,
   "metadata": {},
   "outputs": [
    {
     "data": {
      "text/plain": [
       "age                          0\n",
       "gender                       0\n",
       "marital_status               0\n",
       "education                    0\n",
       "monthly_salary            1993\n",
       "employment_type              0\n",
       "years_of_employment          0\n",
       "company_type                 0\n",
       "house_type                   0\n",
       "monthly_rent              2426\n",
       "family_size                  0\n",
       "dependents                   0\n",
       "school_fees                  0\n",
       "college_fees                 0\n",
       "travel_expenses              0\n",
       "groceries_utilities          0\n",
       "other_monthly_expenses       0\n",
       "existing_loans               0\n",
       "current_emi_amount           0\n",
       "credit_score                 0\n",
       "bank_balance                 0\n",
       "emergency_fund               0\n",
       "emi_scenario                 0\n",
       "requested_amount             0\n",
       "requested_tenure             0\n",
       "emi_eligibility              0\n",
       "max_monthly_emi              0\n",
       "dtype: int64"
      ]
     },
     "execution_count": 156,
     "metadata": {},
     "output_type": "execute_result"
    }
   ],
   "source": [
    "df.isnull().sum()"
   ]
  },
  {
   "cell_type": "code",
   "execution_count": 157,
   "metadata": {},
   "outputs": [
    {
     "name": "stdout",
     "output_type": "stream",
     "text": [
      "<class 'pandas.core.frame.DataFrame'>\n",
      "RangeIndex: 404800 entries, 0 to 404799\n",
      "Data columns (total 27 columns):\n",
      " #   Column                  Non-Null Count   Dtype  \n",
      "---  ------                  --------------   -----  \n",
      " 0   age                     404800 non-null  object \n",
      " 1   gender                  404800 non-null  object \n",
      " 2   marital_status          404800 non-null  object \n",
      " 3   education               404800 non-null  object \n",
      " 4   monthly_salary          402807 non-null  float64\n",
      " 5   employment_type         404800 non-null  object \n",
      " 6   years_of_employment     404800 non-null  float64\n",
      " 7   company_type            404800 non-null  object \n",
      " 8   house_type              404800 non-null  object \n",
      " 9   monthly_rent            402374 non-null  float64\n",
      " 10  family_size             404800 non-null  int64  \n",
      " 11  dependents              404800 non-null  int64  \n",
      " 12  school_fees             404800 non-null  float64\n",
      " 13  college_fees            404800 non-null  float64\n",
      " 14  travel_expenses         404800 non-null  float64\n",
      " 15  groceries_utilities     404800 non-null  float64\n",
      " 16  other_monthly_expenses  404800 non-null  float64\n",
      " 17  existing_loans          404800 non-null  object \n",
      " 18  current_emi_amount      404800 non-null  float64\n",
      " 19  credit_score            404800 non-null  float64\n",
      " 20  bank_balance            404800 non-null  float64\n",
      " 21  emergency_fund          404800 non-null  float64\n",
      " 22  emi_scenario            404800 non-null  object \n",
      " 23  requested_amount        404800 non-null  float64\n",
      " 24  requested_tenure        404800 non-null  int64  \n",
      " 25  emi_eligibility         404800 non-null  object \n",
      " 26  max_monthly_emi         404800 non-null  float64\n",
      "dtypes: float64(14), int64(3), object(10)\n",
      "memory usage: 83.4+ MB\n"
     ]
    }
   ],
   "source": [
    "df.info()"
   ]
  },
  {
   "cell_type": "code",
   "execution_count": 158,
   "metadata": {},
   "outputs": [
    {
     "data": {
      "text/html": [
       "<div>\n",
       "<style scoped>\n",
       "    .dataframe tbody tr th:only-of-type {\n",
       "        vertical-align: middle;\n",
       "    }\n",
       "\n",
       "    .dataframe tbody tr th {\n",
       "        vertical-align: top;\n",
       "    }\n",
       "\n",
       "    .dataframe thead th {\n",
       "        text-align: right;\n",
       "    }\n",
       "</style>\n",
       "<table border=\"1\" class=\"dataframe\">\n",
       "  <thead>\n",
       "    <tr style=\"text-align: right;\">\n",
       "      <th></th>\n",
       "      <th>age</th>\n",
       "      <th>gender</th>\n",
       "      <th>marital_status</th>\n",
       "      <th>education</th>\n",
       "      <th>monthly_salary</th>\n",
       "      <th>employment_type</th>\n",
       "      <th>years_of_employment</th>\n",
       "      <th>company_type</th>\n",
       "      <th>house_type</th>\n",
       "      <th>monthly_rent</th>\n",
       "      <th>...</th>\n",
       "      <th>existing_loans</th>\n",
       "      <th>current_emi_amount</th>\n",
       "      <th>credit_score</th>\n",
       "      <th>bank_balance</th>\n",
       "      <th>emergency_fund</th>\n",
       "      <th>emi_scenario</th>\n",
       "      <th>requested_amount</th>\n",
       "      <th>requested_tenure</th>\n",
       "      <th>emi_eligibility</th>\n",
       "      <th>max_monthly_emi</th>\n",
       "    </tr>\n",
       "  </thead>\n",
       "  <tbody>\n",
       "    <tr>\n",
       "      <th>0</th>\n",
       "      <td>38.0</td>\n",
       "      <td>Female</td>\n",
       "      <td>Married</td>\n",
       "      <td>Professional</td>\n",
       "      <td>82600.0</td>\n",
       "      <td>Private</td>\n",
       "      <td>0.9</td>\n",
       "      <td>Mid-size</td>\n",
       "      <td>Rented</td>\n",
       "      <td>20000.0</td>\n",
       "      <td>...</td>\n",
       "      <td>Yes</td>\n",
       "      <td>23700.0</td>\n",
       "      <td>660.0</td>\n",
       "      <td>303200.0</td>\n",
       "      <td>70200.0</td>\n",
       "      <td>Personal Loan EMI</td>\n",
       "      <td>850000.0</td>\n",
       "      <td>15</td>\n",
       "      <td>Not_Eligible</td>\n",
       "      <td>500.0</td>\n",
       "    </tr>\n",
       "    <tr>\n",
       "      <th>1</th>\n",
       "      <td>38.0</td>\n",
       "      <td>Female</td>\n",
       "      <td>Married</td>\n",
       "      <td>Graduate</td>\n",
       "      <td>21500.0</td>\n",
       "      <td>Private</td>\n",
       "      <td>7.0</td>\n",
       "      <td>MNC</td>\n",
       "      <td>Family</td>\n",
       "      <td>0.0</td>\n",
       "      <td>...</td>\n",
       "      <td>Yes</td>\n",
       "      <td>4100.0</td>\n",
       "      <td>714.0</td>\n",
       "      <td>92500.0</td>\n",
       "      <td>26900.0</td>\n",
       "      <td>E-commerce Shopping EMI</td>\n",
       "      <td>128000.0</td>\n",
       "      <td>19</td>\n",
       "      <td>Not_Eligible</td>\n",
       "      <td>700.0</td>\n",
       "    </tr>\n",
       "    <tr>\n",
       "      <th>2</th>\n",
       "      <td>38.0</td>\n",
       "      <td>Male</td>\n",
       "      <td>Married</td>\n",
       "      <td>Professional</td>\n",
       "      <td>86100.0</td>\n",
       "      <td>Private</td>\n",
       "      <td>5.8</td>\n",
       "      <td>Startup</td>\n",
       "      <td>Own</td>\n",
       "      <td>0.0</td>\n",
       "      <td>...</td>\n",
       "      <td>No</td>\n",
       "      <td>0.0</td>\n",
       "      <td>650.0</td>\n",
       "      <td>672100.0</td>\n",
       "      <td>324200.0</td>\n",
       "      <td>Education EMI</td>\n",
       "      <td>306000.0</td>\n",
       "      <td>16</td>\n",
       "      <td>Eligible</td>\n",
       "      <td>27775.0</td>\n",
       "    </tr>\n",
       "    <tr>\n",
       "      <th>3</th>\n",
       "      <td>58.0</td>\n",
       "      <td>Female</td>\n",
       "      <td>Married</td>\n",
       "      <td>High School</td>\n",
       "      <td>66800.0</td>\n",
       "      <td>Private</td>\n",
       "      <td>2.2</td>\n",
       "      <td>Mid-size</td>\n",
       "      <td>Own</td>\n",
       "      <td>0.0</td>\n",
       "      <td>...</td>\n",
       "      <td>No</td>\n",
       "      <td>0.0</td>\n",
       "      <td>685.0</td>\n",
       "      <td>440900.0</td>\n",
       "      <td>178100.0</td>\n",
       "      <td>Vehicle EMI</td>\n",
       "      <td>304000.0</td>\n",
       "      <td>83</td>\n",
       "      <td>Eligible</td>\n",
       "      <td>16170.0</td>\n",
       "    </tr>\n",
       "    <tr>\n",
       "      <th>4</th>\n",
       "      <td>48.0</td>\n",
       "      <td>Female</td>\n",
       "      <td>Married</td>\n",
       "      <td>Professional</td>\n",
       "      <td>57300.0</td>\n",
       "      <td>Private</td>\n",
       "      <td>3.4</td>\n",
       "      <td>Mid-size</td>\n",
       "      <td>Family</td>\n",
       "      <td>0.0</td>\n",
       "      <td>...</td>\n",
       "      <td>No</td>\n",
       "      <td>0.0</td>\n",
       "      <td>770.0</td>\n",
       "      <td>97300.0</td>\n",
       "      <td>28200.0</td>\n",
       "      <td>Home Appliances EMI</td>\n",
       "      <td>252000.0</td>\n",
       "      <td>7</td>\n",
       "      <td>Not_Eligible</td>\n",
       "      <td>500.0</td>\n",
       "    </tr>\n",
       "  </tbody>\n",
       "</table>\n",
       "<p>5 rows × 27 columns</p>\n",
       "</div>"
      ],
      "text/plain": [
       "    age  gender marital_status     education  monthly_salary employment_type  \\\n",
       "0  38.0  Female        Married  Professional         82600.0         Private   \n",
       "1  38.0  Female        Married      Graduate         21500.0         Private   \n",
       "2  38.0    Male        Married  Professional         86100.0         Private   \n",
       "3  58.0  Female        Married   High School         66800.0         Private   \n",
       "4  48.0  Female        Married  Professional         57300.0         Private   \n",
       "\n",
       "   years_of_employment company_type house_type  monthly_rent  ...  \\\n",
       "0                  0.9     Mid-size     Rented       20000.0  ...   \n",
       "1                  7.0          MNC     Family           0.0  ...   \n",
       "2                  5.8      Startup        Own           0.0  ...   \n",
       "3                  2.2     Mid-size        Own           0.0  ...   \n",
       "4                  3.4     Mid-size     Family           0.0  ...   \n",
       "\n",
       "   existing_loans  current_emi_amount  credit_score  bank_balance  \\\n",
       "0             Yes             23700.0         660.0      303200.0   \n",
       "1             Yes              4100.0         714.0       92500.0   \n",
       "2              No                 0.0         650.0      672100.0   \n",
       "3              No                 0.0         685.0      440900.0   \n",
       "4              No                 0.0         770.0       97300.0   \n",
       "\n",
       "   emergency_fund             emi_scenario  requested_amount requested_tenure  \\\n",
       "0         70200.0        Personal Loan EMI          850000.0               15   \n",
       "1         26900.0  E-commerce Shopping EMI          128000.0               19   \n",
       "2        324200.0            Education EMI          306000.0               16   \n",
       "3        178100.0              Vehicle EMI          304000.0               83   \n",
       "4         28200.0      Home Appliances EMI          252000.0                7   \n",
       "\n",
       "   emi_eligibility  max_monthly_emi  \n",
       "0     Not_Eligible            500.0  \n",
       "1     Not_Eligible            700.0  \n",
       "2         Eligible          27775.0  \n",
       "3         Eligible          16170.0  \n",
       "4     Not_Eligible            500.0  \n",
       "\n",
       "[5 rows x 27 columns]"
      ]
     },
     "execution_count": 158,
     "metadata": {},
     "output_type": "execute_result"
    }
   ],
   "source": [
    "df.head()"
   ]
  },
  {
   "cell_type": "code",
   "execution_count": 159,
   "metadata": {},
   "outputs": [
    {
     "data": {
      "text/plain": [
       "age                          0\n",
       "gender                       0\n",
       "marital_status               0\n",
       "education                    0\n",
       "monthly_salary            1993\n",
       "employment_type              0\n",
       "years_of_employment          0\n",
       "company_type                 0\n",
       "house_type                   0\n",
       "monthly_rent              2426\n",
       "family_size                  0\n",
       "dependents                   0\n",
       "school_fees                  0\n",
       "college_fees                 0\n",
       "travel_expenses              0\n",
       "groceries_utilities          0\n",
       "other_monthly_expenses       0\n",
       "existing_loans               0\n",
       "current_emi_amount           0\n",
       "credit_score                 0\n",
       "bank_balance                 0\n",
       "emergency_fund               0\n",
       "emi_scenario                 0\n",
       "requested_amount             0\n",
       "requested_tenure             0\n",
       "emi_eligibility              0\n",
       "max_monthly_emi              0\n",
       "dtype: int64"
      ]
     },
     "execution_count": 159,
     "metadata": {},
     "output_type": "execute_result"
    }
   ],
   "source": [
    "df.isnull().sum()\n",
    "df.isna().sum()\n"
   ]
  },
  {
   "cell_type": "code",
   "execution_count": 160,
   "metadata": {},
   "outputs": [
    {
     "name": "stderr",
     "output_type": "stream",
     "text": [
      "C:\\Users\\vrajg\\AppData\\Local\\Temp\\ipykernel_15616\\4037258468.py:5: FutureWarning: A value is trying to be set on a copy of a DataFrame or Series through chained assignment using an inplace method.\n",
      "The behavior will change in pandas 3.0. This inplace method will never work because the intermediate object on which we are setting values always behaves as a copy.\n",
      "\n",
      "For example, when doing 'df[col].method(value, inplace=True)', try using 'df.method({col: value}, inplace=True)' or df[col] = df[col].method(value) instead, to perform the operation inplace on the original object.\n",
      "\n",
      "\n",
      "  df['age'].fillna(df['age'].median(), inplace=True)\n"
     ]
    }
   ],
   "source": [
    "df['age'] = df['age'].astype(str)\n",
    "df['age'] = df['age'].str.replace(r'\\.{2,}', '.', regex=True)\n",
    "df['age'] = df['age'].str.rstrip('.')\n",
    "df['age'] = pd.to_numeric(df['age'], errors='coerce')\n",
    "df['age'].fillna(df['age'].median(), inplace=True)\n",
    "df['age'] = df['age'].astype(int)\n"
   ]
  },
  {
   "cell_type": "code",
   "execution_count": 161,
   "metadata": {},
   "outputs": [],
   "source": [
    "\n",
    "\n",
    "\n",
    "df['gender'] = df['gender'].astype(str).str.lower().str.strip()\n",
    "df['gender'] = df['gender'].replace({'m': 'male', 'f': 'female'})\n",
    "df['gender'] = df['gender'].replace({'male': 'Male', 'female': 'Female'})\n",
    "\n",
    "\n",
    "df['marital_status'] = df['marital_status'].str.title()\n",
    "\n",
    "\n",
    "df['education'] = df['education'].str.title()\n",
    "\n",
    "\n",
    "df['employment_type'] = df['employment_type'].str.title()\n",
    "\n",
    "\n",
    "df['emi_eligibility'] = df['emi_eligibility'].str.replace(' ', '_').str.title()\n",
    "\n",
    "\n",
    "numeric_cols = ['monthly_salary', 'years_of_employment', 'max_monthly_emi']\n",
    "for col in numeric_cols:\n",
    "    df[col] = pd.to_numeric(df[col], errors='coerce')\n",
    "    df[col] = df[col].fillna(df[col].median())\n"
   ]
  },
  {
   "cell_type": "code",
   "execution_count": 162,
   "metadata": {},
   "outputs": [],
   "source": [
    "df['age'] = df['age'].astype(int)"
   ]
  },
  {
   "cell_type": "code",
   "execution_count": 163,
   "metadata": {},
   "outputs": [
    {
     "name": "stdout",
     "output_type": "stream",
     "text": [
      "age: [38 58 48 32 27 47 37 31 59 49 33 26 39 57 28] , Count: 15\n",
      "gender: ['Female' 'Male'] , Count: 2\n",
      "marital_status: ['Married' 'Single'] , Count: 2\n",
      "education: ['Professional' 'Graduate' 'High School' 'Post Graduate'] , Count: 4\n",
      "monthly_salary: [82600. 21500. 86100. ... 56779. 56280. 55905.] , Count: 12780\n",
      "employment_type: ['Private' 'Government' 'Self-Employed'] , Count: 3\n",
      "years_of_employment: [ 0.9  7.   5.8  2.2  3.4  5.  36.  12.9  1.9  7.5  3.7  1.3  3.2  0.5\n",
      " 26.   0.8  4.2  2.6  3.9  9.7  4.7  9.6  1.7  9.4  4.1  1.   7.6 16.\n",
      "  2.5  1.6 17.1  6.6 12.6  2.3  4.5 11.3 10.   0.7  3.   2.1  2.7  0.6\n",
      "  8.6  5.9  8.4 12.4  2.8 15.9 10.2  1.2  1.5 14.   1.1  6.5  7.4  7.2\n",
      " 20.7 17.6 16.6 10.9 20.6 29.7  8.5 10.8 14.2  9.9 24.3  9.1 11.4 11.8\n",
      "  2.   6.2  6.9  5.2 11.7 18.1  8.2  3.1  3.3  7.1  5.5 10.4  4.   2.4\n",
      "  8.3  6.1  4.4  8.8  5.6  5.4  4.6 17.8 20.2 22.7 13.6  8.   4.3  2.9\n",
      " 10.5 13.1 14.1 11.2  4.8 15.7  6.3  5.3 18.9 11.9 21.3  6.4 15.5  3.5\n",
      " 12.   1.8 13.3  1.4 20.5  8.9 10.3  8.1 14.8 32.   5.1  7.9 21.9  7.7\n",
      " 15.  25.8 14.3  6.7  3.8 21.8  9.2  7.3  5.7  4.9  9.  15.1  6.8 15.3\n",
      " 13.  20.  12.2 12.1 13.8 23.8 12.8 27.7  6.  18.2 15.6  8.7 17.4  3.6\n",
      " 17.3  9.5 33.4 11.1 15.4 20.1 24.1 10.1 19.7 16.5 10.7 23.6 13.9  9.8\n",
      "  9.3 25.3 14.4 21.4 24.5 23.5 17.5 13.5 19.3 22.8 14.9 10.6 12.5 16.8\n",
      " 19.8 11.6 11.5 19.5 18.7 14.7 14.6 17.9 23.  23.1 19.1 13.4 35.2 15.8\n",
      " 16.7 30.  22.9 12.3 25.7 13.7 22.6 19.9 27.3 33.3 31.7 30.5 27.2 34.8\n",
      " 21.7 13.2  7.8 16.9 22.1 26.5 21.6 14.5 27.1 19.  25.1 17.  12.7 26.1\n",
      " 28.4 20.8 25.2 21.1 16.2 26.4 22.  25.5 16.3 18.  28.9 18.8 18.3 20.4\n",
      " 24.6 16.1 21.5 17.2 20.3 25.  26.6 29.5 22.5 19.4 15.2 18.6 16.4 35.1\n",
      " 28.5 11.  23.2 21.2 27.5 28.7 27.8 32.8 30.4 23.7 24.  23.9 31.8 30.1\n",
      " 17.7 18.4 22.3 19.2 32.4 32.5 34.9 23.3 34.5 22.4 24.8 18.5 21.  24.2\n",
      " 32.1 31.9 24.4 25.6 32.7 20.9 24.7 33.  23.4 24.9 26.7 26.8 27.9 35.\n",
      " 35.4 34.  30.8 30.7 29.3 34.4 28.8 33.1 28.2 29.8 29.  19.6 32.9 28.1\n",
      " 30.9 33.8 22.2 27.  35.5 31.3 30.2 31.6 28.3 32.3 29.4 35.3 31.1 32.6\n",
      " 31.  34.6 29.9 33.2 27.6 28.6 27.4 29.2 25.9 33.5 29.1 26.3 26.9 33.7\n",
      " 32.2 25.4 26.2 30.6 31.2 34.3 29.6 35.7 33.9 35.6 35.9 34.1 30.3 31.4\n",
      " 34.7 34.2 31.5 33.6 28.  35.8] , Count: 356\n",
      "company_type: ['Mid-size' 'MNC' 'Startup' 'Large Indian' 'Small'] , Count: 5\n",
      "house_type: ['Rented' 'Family' 'Own'] , Count: 3\n",
      "monthly_rent: [20000.     0. 13500. ... 54600.  6143.  8366.] , Count: 4397\n",
      "family_size: [3 2 4 5 1] , Count: 5\n",
      "dependents: [2 1 3 4 0] , Count: 5\n",
      "school_fees: [    0.  5100. 11400.  9400. 10200. 15000.  8100. 10900. 12000.  9100.\n",
      " 10800.  9300. 11700.  5500.  5400.  8000.  2400. 14400.  3000. 12900.\n",
      "  8300. 10600. 12300. 13800.  9900. 12500.  5900.  3900.  8500. 12700.\n",
      "  6800.  7900. 11000.  7700. 14100. 14300. 11200.  4700. 11600.  6500.\n",
      "  6200. 10300.  9800.  5700.  5200.  2500. 14800.  2000. 14500.  9500.\n",
      "  5000.  8800. 11800.  5300.  2700.  9600.  7300.  8200. 11300.  4200.\n",
      "  2200.  3400.  2100. 14700. 13500.  8600. 10500.  4400.  3200. 10700.\n",
      "  9000.  3800.  5600.  3500.  7600. 13100.  6600. 12800. 11100.  3600.\n",
      " 13900.  4500.  7500.  7400.  2900. 11900.  7100.  4100.  8700. 14000.\n",
      " 12100.  5800. 10000. 10100.  3700.  7000. 14900.  3300.  4300.  4600.\n",
      " 14200.  6300.  2300.  6100. 13000. 13200. 11500.  8900. 13400.  2600.\n",
      " 13600. 14600.  8400.  9200. 12400.  2800.  7800.  6900.  4900.  3100.\n",
      " 13300.  4000.  6000. 10400.  7200. 12200.  4800.  9700.  6700. 12600.\n",
      " 13700.  6400.] , Count: 132\n",
      "college_fees: [    0. 21300. 24100. 11300.  8900. 15300. 20300. 22400.  6500. 15000.\n",
      " 12700. 17400. 14900. 24000. 22000. 12300. 17300.  8300. 17600. 17900.\n",
      " 21900. 18900.  5400. 10300.  9500. 18000. 15500. 10200.  8600.  5300.\n",
      " 20700. 20900. 10600.  7900. 13400.  5000. 21700. 19100. 16200. 24600.\n",
      " 19700. 24500. 12600. 15700.  5800. 13600. 10700.  9000. 21800. 15100.\n",
      "  8500.  6100.  6800. 19800.  5100. 16500.  6400. 19600. 11000. 11900.\n",
      " 16800. 14600. 10900. 14000.  5500. 20400. 17200. 21600. 16400. 24900.\n",
      " 21200.  6000. 19200. 18300. 14300.  9400. 16300.  9800.  7100.  7400.\n",
      " 16700.  9700.  8400. 23200. 11600.  5900. 11200. 10100. 23700.  6300.\n",
      " 13700. 17000.  9100. 12000. 20800. 20200. 10000. 14100. 17500. 22700.\n",
      " 19900. 23600. 22800.  9200. 19300. 20500. 22600. 22900. 14800.  7700.\n",
      " 13300. 14500. 10800.  7200. 15200.  8100.  9900. 11700. 13000. 24400.\n",
      " 23300. 18400. 18600.  5700. 13100. 12400. 23900. 21000.  7500. 14400.\n",
      " 19500.  6600. 18100. 13900. 22500. 10500.  9600. 11800.  6700.  6900.\n",
      " 18500. 15400. 11400. 23000. 24200. 13800. 18800.  7000. 18200. 20600.\n",
      "  8800. 18700. 22200. 21500. 21100.  8700. 23500. 15600. 16100. 13200.\n",
      " 17100. 17800. 12100. 20000.  7800.  9300. 21400. 23100.  6200.  5200.\n",
      " 12800. 16600. 19000. 17700. 11500. 16900. 23800. 10400. 23400. 20100.\n",
      " 14200. 16000. 12200. 13500. 14700.  8000. 25000.  8200. 19400.  7600.\n",
      "  5600. 22300. 22100. 24700. 15900. 15800. 12900. 12500. 24800. 11100.\n",
      " 24300.  7300.] , Count: 202\n",
      "travel_expenses: [ 7200.  1400. 10200.  6200.  3600.  3400.  1600.  5600.  6100. 11800.\n",
      "  3100.  6800.  3800.  4000.  4900.  6300.  8300.  3200.  9600.  2600.\n",
      "  5300.  5500.  8700.  3000.  4200.  3300.  7100. 10800.  4300. 11000.\n",
      "  3900.  9700.  2800.  5800.  7500.  1900. 19400.  9300.  8400.  1300.\n",
      "  8200.  6900. 16000.  4600. 12500.  6500.  6600.  3500.  7000. 13700.\n",
      "  9100.  4700. 14000.  2500.  6000.  5200.  5900.  8100.  4800. 15500.\n",
      "  2700.  5000. 16600.  2100.  9000.  9900.  1000.  6400.  3700.  9200.\n",
      "  1100. 11600. 14700.  2000.  8500.  5100. 19100.  7400. 12600.  8600.\n",
      "  8800.  5400. 12100.  7900. 13400.  2200.  4400.  9400.  1500. 11200.\n",
      "  7700.  5700.  4100.  6700. 17800.  4500.  2300. 15200. 11900.  9500.\n",
      "  1700. 10700.  8900. 14600.  2900.  2400. 13800. 16400. 13300. 12000.\n",
      "  7800. 10300. 13500. 10900. 15000.  7600. 12700. 15600. 10400. 21400.\n",
      "  1800.  8000.  9800. 11400. 20300. 10500. 19500. 13100. 12300. 14300.\n",
      " 11300. 12400. 17300. 12800. 15400. 23300. 14800. 10100. 13000. 13200.\n",
      "  1200. 16200. 12900.  7300. 11100. 19200.   900. 15100. 15900. 13600.\n",
      " 10600. 11500. 11700. 10000. 14100. 21700. 17700. 16700. 15300. 17200.\n",
      " 19600. 12200. 16900. 18100. 15800. 14500. 18200. 17000. 18700. 14200.\n",
      " 14400.   700. 21200.   800. 20800. 22000. 14900. 13900. 15700. 17500.\n",
      " 24000. 18500. 17600. 16100. 16300. 16800. 17400. 22300. 20600. 23100.\n",
      " 18800. 18900. 16500. 18000. 19000. 19800. 18300. 19700. 18600. 21300.\n",
      " 21600.   600. 17900. 17100. 20900. 19300. 28700. 25200. 22200. 23500.\n",
      " 20000. 19900. 21000. 20700. 22700. 20100. 23000. 26200. 20200. 25600.\n",
      " 24100. 20500. 21900. 26000. 21500. 23900. 18400. 25000. 25700. 22600.\n",
      " 22800. 24300. 20400. 23800. 27000. 22100. 23200. 24900. 24600. 23700.\n",
      " 22400. 22900. 28000. 23600. 21100. 21800. 24200. 25300. 25800. 30300.\n",
      " 26300. 26400. 23400. 28500. 28900. 27500. 28600. 22500. 24800. 25500.\n",
      " 25100. 25400. 27100. 24400. 24500. 24700. 27200. 28800. 27800. 26500.\n",
      " 29100. 26700. 29500. 26800. 26600. 27400. 28100. 26100. 26900. 27700.\n",
      " 29300. 28200. 28400. 30000.] , Count: 284\n",
      "groceries_utilities: [19500.  5400. 19400. 11900. 16200.  8200.  7300. 12300. 24100. 11000.\n",
      "  8900. 14000. 10500. 27700. 10000. 15600.  8800. 13500. 18500. 17600.\n",
      "  2600.  5500. 12700. 11100.  6500. 20300.  5800.  6700.  8600. 23400.\n",
      "  5600. 22500. 10700. 11200. 26000.  8400. 13600. 13200. 19800. 16500.\n",
      " 11400.  5300. 36400.  4900. 22700. 16700.  3700. 24200. 15300. 23800.\n",
      " 14100.  6300. 18000. 10400. 12900. 15100. 11800.  7500. 19100.  5900.\n",
      "  9300. 18400. 24000.  9500. 17400.  9800.  7100.  8300.  9900.  8700.\n",
      "  7400. 12600. 27500.  7900. 27600.  7800. 14400.  9100. 29100.  4800.\n",
      "  5700. 23900. 31700. 29000.  9200. 12100. 15700.  2800. 14800. 12500.\n",
      " 18700. 10600. 12800.  4200.  7600.  3100. 29200. 20200. 14900.  8500.\n",
      "  8100.  4600. 13300.  3900. 28200.  9600. 16600.  6600.  6900. 32600.\n",
      " 18300. 19000. 15900. 17800. 10800. 19300.  9400. 14500. 25400. 25200.\n",
      " 10100. 20700.  6200. 13000. 10200. 17900. 14300.  8000.  7000. 25500.\n",
      " 22200.  6400.  5000. 21300. 20100. 21100. 19200. 16300.  2700. 20800.\n",
      " 17200. 40500. 18100. 16400. 12000.  5200.  6800.  3000. 32700. 21200.\n",
      " 17000. 13900.  3400. 13100. 24900. 15800.  2400. 24700. 19600. 17700.\n",
      " 22300. 31600. 16100. 22600.  7700. 30800. 18600. 11700. 24500. 22000.\n",
      " 16800. 24600. 13800. 16000. 22800. 11600. 15400. 18900.  3800. 20400.\n",
      "  3300.  4300.  7200.  9700.  9000. 21700.  2200. 20600.  4700. 25700.\n",
      "  5100. 27400. 34600. 25900. 20900. 13700. 25800. 26600. 10300. 42700.\n",
      " 10900.  2500.  3500.  2300. 11300. 34900.  6100. 17100. 24800.  4500.\n",
      " 26100. 27300. 22100. 21900. 15500. 16900. 19700. 27000. 17500. 12400.\n",
      " 11500. 24300. 17300. 14200. 26500.  6000. 25100. 21800. 27800. 31500.\n",
      " 12200.  3600. 26300. 15200.  4400. 13400. 29900. 14700. 33300. 34700.\n",
      " 26400. 28400. 23200. 23700. 15000. 23000. 14600.  4000. 18200. 37500.\n",
      " 22900. 31800. 30100. 29300. 23500. 21000. 31900.  2900. 36500. 29400.\n",
      " 23600. 19900. 25000.  4100. 20500. 22400. 28500. 27100. 29500. 36000.\n",
      " 21500. 21600. 32100. 38800. 27900. 28000. 31400. 23300. 30400. 37900.\n",
      " 31300. 27200.  3200. 30700. 32400. 29600. 21400. 37700. 41000. 26800.\n",
      " 28100. 26200. 28800. 20000. 26700. 18800. 29700. 35700. 28700. 30200.\n",
      " 36600. 24400. 28600. 40000. 42000. 29800. 34800. 33200. 30900. 34100.\n",
      " 25300. 23100. 31000. 45400. 25600. 30000. 32300. 32500. 28300. 26900.\n",
      " 34000. 46800. 31100. 35500. 35400. 33800. 37100. 41200. 37400. 37300.\n",
      " 46700. 48100. 37800. 39800. 33900. 39300. 33700. 36700. 39100.  1800.\n",
      " 32000. 45600. 36200. 30600. 35300. 33100. 38600. 34500. 33000. 35000.\n",
      " 39700. 38900. 46200. 41300. 35200. 38200. 40300. 44400. 31200. 32800.\n",
      " 49300.  2100. 34400. 48800. 45800. 33500. 30500. 28900. 32900. 49000.\n",
      " 39200. 37200. 36900. 33400. 33600. 40700. 35600. 36100. 42400. 45200.\n",
      " 35900. 47300. 45900. 35800. 44100. 30300. 47900. 62100. 42800. 35100.\n",
      " 46500. 42500. 41400. 44300. 40800. 41900. 38400. 36300. 41600. 37000.\n",
      " 39500. 40400. 44600. 38300. 43600. 39900. 40200. 49200. 32200. 40600.\n",
      "  2000. 38100. 48600. 46300. 51500. 46100. 43700. 38000. 40900. 34200.\n",
      " 53700. 43100. 47100. 34300. 44500. 41500. 43500. 48500. 51300.  1900.\n",
      " 42900. 52800. 38500. 39000. 43000. 43400. 42300. 52000. 51000. 43900.\n",
      " 39400. 42100. 52600. 47000. 45500. 37600. 40100. 50000. 54100. 47500.\n",
      " 56900. 44800. 54000. 41700. 43300. 43800. 42200. 36800. 45000. 49800.\n",
      " 49100. 38700. 43200. 47800. 39600. 41100. 48300. 44200. 47600. 45100.\n",
      " 48900. 45700. 57000. 47700. 53200. 42600. 49400. 48000. 50700. 48400.\n",
      " 44000. 55000. 46900. 50400. 58200. 50100. 51800. 55600. 46400. 59000.\n",
      " 56600. 44900. 46000. 54200. 52300. 41800. 53800. 44700. 47400. 54900.\n",
      " 59800. 45300. 48700. 51200. 51600. 49900. 46600. 52400. 50600. 48200.\n",
      " 64800. 49600. 50900. 60800. 53900. 71200. 55700. 63200. 51900. 52900.\n",
      " 63500. 50500. 49500. 59900. 51100. 52500. 55800. 47200. 62800. 50200.\n",
      " 53300. 50300. 50800. 63700. 57200. 57600. 53600. 56400. 51700. 56300.\n",
      " 58600. 58500. 55400. 58900.] , Count: 544\n",
      "other_monthly_expenses: [13200.  3500.  6000.  7900.  8100.  6700.  4100.  3000.  8300. 16500.\n",
      "  9300.  2500.  3400.  3900.  9000.  8400.  5400. 10300.  6600.  6900.\n",
      "  7600.  8000.  1700.  4500. 12100.  8200.  3300. 16100.  2300.  6400.\n",
      "  9900. 10100.  5100. 25300.  2900.  6300. 11600.  3700.  4400. 10600.\n",
      " 14200.  9800.  3100.  4300. 21700. 13000.  7400.  2100.  5600.  4000.\n",
      " 10700. 12400.  8700.  9700. 12600.  8800.  5000.  7000.  5700. 10200.\n",
      " 11300. 20400.  3200. 14500.  6500.  3800.  8500.  4600.  6200. 15200.\n",
      "  4800. 11100. 29100. 10800.   800.  9600.  7700.  7800. 12800.  5300.\n",
      " 18000.  4200.  2400.  2200.  5500.  3600.  5800.  1800. 12300. 15600.\n",
      "  7300. 17200. 12000.  5200. 14000.  8900. 17800.  7200. 16600.  7500.\n",
      " 11900. 10400. 10500.  2800. 18500.  2000. 15000.  1900. 14400.  8600.\n",
      "  2700.  1100. 13300.  6800.  9200. 11700.  4700. 11800. 27400.  1400.\n",
      "  4900. 14300. 15700. 10000.  2600. 11200. 18700.  1000. 12700.   700.\n",
      "  7100. 16400. 15100. 15900. 16200.  6100.  9400. 13100. 11500. 18400.\n",
      " 27500. 10900. 17600.   900. 17900. 13800.  1500.  9100. 13500. 13900.\n",
      " 12200. 12500. 13400. 14800. 21800. 24800. 19200. 20200. 20500.  1600.\n",
      " 27800. 13700. 14600. 11400. 11000. 15300. 22500. 22300. 20900.  5900.\n",
      "  9500.  1300. 15800. 20100. 12900. 21400. 23200. 19600. 18600. 17100.\n",
      " 26700. 16700. 14700. 23600.  1200. 23000. 18100. 19400. 27200. 22900.\n",
      " 15400. 23100. 29300. 28000. 13600. 20300. 15500. 17700. 16800. 16900.\n",
      " 24900. 16300. 14100. 28600. 14900. 18800. 22800. 19000. 26800. 16000.\n",
      " 19800. 17300. 20800. 26000. 17000. 20000. 19300. 18200. 22100. 20700.\n",
      " 23500. 22700. 28200. 25200. 24600. 17500. 26200. 23300. 18300. 19700.\n",
      " 24400. 24000. 22000. 28400. 25000. 19100. 19500. 19900. 26100. 21500.\n",
      " 30600. 18900. 23400. 31300. 22400. 25600. 21200. 21100. 24300. 23900.\n",
      " 24200. 20600. 24700. 17400. 23700. 28500. 21900. 23800. 22200. 21600.\n",
      " 35800. 25500.   600. 24500. 21300. 28300. 28900. 26300. 24100. 25400.\n",
      " 36300. 33000. 21000. 22600. 26900. 27900. 26500. 29700. 30000. 35400.\n",
      " 32400. 31400. 26600. 33400. 25700. 25100. 27000. 32300. 31500. 29900.\n",
      " 27300. 25800. 31600. 32800. 26400. 27600. 30700. 28700. 36800. 32100.\n",
      " 30500. 27100. 31700. 35000. 25900. 35200. 31200. 30400. 31100. 33100.\n",
      " 27700. 28100. 32600. 29000. 33300. 31000. 34300. 32900. 34600. 29800.\n",
      " 39800. 30800. 30300. 29400. 32700. 29500. 30900. 34700. 33800. 32000.\n",
      " 34500. 35700. 30100. 31900. 29600. 39000. 33500. 36600. 38100. 29200.\n",
      " 28800. 40400. 38800. 30200. 35100. 37900. 37700. 32200. 34200. 36900.\n",
      " 34000. 39400. 42900. 33600. 37400. 41400. 33200. 36000. 31800. 40700.\n",
      " 38000. 35300. 33900. 34100. 35500. 36200. 35900. 33700. 37600. 36700.\n",
      " 36100. 37500. 39500.] , Count: 373\n",
      "existing_loans: ['Yes' 'No'] , Count: 2\n",
      "current_emi_amount: [23700.  4100.     0.  9900. 33100.  7100. 11300.  6300. 18600. 10400.\n",
      " 21200.  4800. 13600.  5200.  7800.  5300.  6400. 34300.  7500.  6500.\n",
      "  9300.  3200. 29400. 11600. 20700.  5700. 12300. 14300.  6700. 14600.\n",
      "  9000.  3600.  4700. 14100. 21300.  5900.  6900.  8900.  5100. 11200.\n",
      " 10900.  5600.  2900. 17800.  9500. 14400. 34000. 19000.  5500. 14200.\n",
      "  9800.  4300. 36700.  5800. 12700.  3300.  9700. 16700.  9600. 22200.\n",
      "  6200. 12200. 12600.  8000.  4600. 12800. 18000. 14800. 14900.  8100.\n",
      " 16100. 13200.  4000.  2300. 17200. 13100.  5000. 26800.  8400.  8200.\n",
      "  3000. 10600.  7000. 10200. 12500. 21800.  8500. 31200. 12000.  7600.\n",
      " 15000.  9400. 19200.  7700. 13500. 23300. 28500. 10500. 20200. 12400.\n",
      "  4400. 24800.  8800.  1900. 15900. 14000. 10800. 17400.  6600. 10700.\n",
      " 28800. 24200. 18800. 11900. 18500.  9200. 10300.  2200.  4500.  7900.\n",
      " 17300.  3800. 13900.  6000.  3700.  8700.  9100.  8600. 15200. 12100.\n",
      "  2600. 23500.  6800. 12900.  5400. 10100. 17600. 11800. 16300. 27700.\n",
      " 25200. 14500. 16900. 18200. 24300. 14700. 15500. 23000.  3500. 15300.\n",
      " 18900. 21700. 24500. 22600.  1800. 19700. 28200.  4200. 35300. 22800.\n",
      " 15100.  7300. 19400. 19500. 16000. 11400. 11500. 20600. 31700. 22900.\n",
      "  7200. 17100. 16600.  6100. 10000.  7400.  2100.  3100. 11700. 13700.\n",
      " 19900. 17000.  3900. 13300. 26700. 21400. 23600. 13800. 11000. 30800.\n",
      "  2800. 29500. 16500.  2700. 23900. 26900. 15400. 13400. 29700. 34100.\n",
      " 11100. 21100. 20800.  1700. 15600. 31400. 22000. 31500. 38500. 28300.\n",
      " 17500. 19300. 18100. 37600. 13000. 20400.  8300. 35800. 24900. 26400.\n",
      " 16400. 23100. 21600. 22300. 39100.  2500. 20900. 24000. 16200. 18700.\n",
      " 22100. 15800. 17900. 31300.  4900. 15700. 29900. 27900. 36000. 24600.\n",
      " 26300. 28000. 30500. 25400. 18400. 31000.  2400. 27000. 19600. 19100.\n",
      " 30000. 34600. 27400. 25600. 23200. 20300. 24400. 18300. 17700. 31600.\n",
      " 27200. 32600. 16800. 30100. 27500. 28900. 20100. 21000. 32000. 31100.\n",
      "  3400. 20500. 28400. 23800. 30700. 26200. 28600. 29300. 22700. 21900.\n",
      " 25000. 38600. 34500. 37000. 30400. 40300. 24100. 20000. 33600. 28700.\n",
      " 27100. 33800. 43900. 31800. 23400. 29100. 25100. 34900.  1600. 28100.\n",
      " 19800. 29600. 26600. 27800. 30600. 27600. 25300. 25700. 42100.  1300.\n",
      " 29000. 37400. 25500. 22500. 24700. 33200.  2000. 27300. 30900. 35700.\n",
      " 33300. 33700. 26100. 36200. 29200. 21500. 36500. 22400. 39300. 38000.\n",
      " 38800. 32900. 41900. 26500. 36300. 25900. 36800. 26000. 36100. 31900.\n",
      " 32100. 37800. 43200. 39400. 42200. 42600. 30200. 49300. 30300. 44200.\n",
      "  1500. 38400. 42400. 33900. 43800. 52500. 37700. 35100. 33000. 46400.\n",
      " 32500. 36400. 25800. 37200. 37900. 50800. 35400. 42800. 38100. 41400.\n",
      " 32200. 35000. 42900. 33500. 34200. 42700. 32400. 39000. 46200. 47600.\n",
      " 40400. 37300. 32800. 44600. 32700. 41800. 39600. 34400. 46000. 40100.\n",
      " 40700. 44100. 38300. 29800. 34700. 36600. 43600. 51400. 37500. 40800.\n",
      " 50900. 36900. 35900. 44900. 40600. 33400. 37100. 39700. 40200. 34800.\n",
      " 44400. 39200. 32300. 38900. 40900. 35500. 43500. 40500. 45700. 35200.\n",
      " 38700. 44000. 49700. 44300. 52600. 49400. 50000. 45800. 56300. 52900.\n",
      " 47100. 48400. 46300. 41700. 41500. 48600. 35600.  1400. 38200. 41100.\n",
      " 46800. 47900. 43100. 39900. 42000. 49200. 45300. 41200. 53400. 50100.\n",
      " 45200. 47200. 45500. 39500. 46600. 45900. 41300. 47500. 48700. 44500.\n",
      " 50300.  1200. 45400. 44800. 43000. 43300. 55400. 47000. 41000. 39800.\n",
      " 51000. 48300. 48900. 40000. 54300. 46900. 51300. 53800. 48800. 52100.\n",
      " 52800. 45000. 41600. 42300. 47700. 43400. 51600. 50500. 52200. 45100.\n",
      " 53200. 43700. 47300. 53000. 46100. 42500. 51900. 51700. 53300. 44700.\n",
      " 48100. 51800. 46700. 54900. 48500. 45600. 52000. 52300.] , Count: 508\n",
      "credit_score: [ 660.  714.  650.  685.  770.  792.  741.  623.  712.  681.  791.  560.\n",
      "  695.  691.  788.  664.  662.  665.  655.  719.  663.  765.  804.  755.\n",
      "  808.  710.  769.  648.  746.  614.  819.  570.  606.  717.  546.  702.\n",
      "  718.  694.  729.  732.  705.  850.  697.  737.  670.  700.  727.  628.\n",
      "  731.  730.  745.  798.  668.  653.  735.  630.  704.  686.  716.  678.\n",
      "  578.  762.  693.  756.  703.  799.  543.  690.  639.  669.  608.  728.\n",
      "  676.  777.  636.  840.  616.  849.  688.  722.  725.  617.  739.  637.\n",
      "  706.  846.  818.  654.  698.  631.  753.  790.  713.  738.  696.  748.\n",
      "  821.  626.  618.  658.  841.  679.  794.  646.  780.  640.  721.  692.\n",
      "  673.  656.  843.  715.  701.  754.  805.  595.  576.  747.  644.  776.\n",
      "  734.  751. 1200.  682.  625.  720.  811.  523.  778.  652.  803.  708.\n",
      "  736.  675.  588.  647.  531.  752.  633.  645.  772.  766.  711.  683.\n",
      "  768.  689.  661.  600.  744.  699.  659.  707.  598.  620.  643.  611.\n",
      "  651.    0.  574.  587.  677.  838.  733.  759.  627.  742.  750.  774.\n",
      "  657.  999.  607.  767.  642.  540.  680.  764.  785.  723.  621.  589.\n",
      "  672.  815.  586.  674.  624.  797.  740.  568.  795.  763.  666.  612.\n",
      "  615.  758.  634.  641.  518.  743.  782.  823.  775.  757.  783.  609.\n",
      "  801.  687.  671.  550.  584.  596.  559.  787.  569.  684.  454.  580.\n",
      "  806.  749.  807.  812.  831.  836.  771.  592.  619.  827.  824.  610.\n",
      "  597.  582.  726.  709.  761.  603.  724.  789.  796.  632.  622.  581.\n",
      "  800.  565.  667.  835.  810.  813.  779.  828.  635.  495.  466.  555.\n",
      "  585.  649.  556.  760.  825.  604.  548.  527.  602.  773.  583.  594.\n",
      "  793.  784.  809.  847.  573.  599.  493.  566.  593.  833.  601.  844.\n",
      "  579.  557.  826.  814.  535.  590.  613.  781.  638.  505.  802.  629.\n",
      "  605.  564.  834.  817.  562.  832.  820.  547.  845.  786.  591.  848.\n",
      "  538.  552.  534.  830.  577.  822.  532.  551.  553.  571.  575.  837.\n",
      "  816.  533.  839.  558.  497.  526.  510.  563.  521.  561.  572.  471.\n",
      "  567.  494.  507.  506.  842.  541.  536.  528.  544.  549.  472.  482.\n",
      "  829.  512.  539.  554.  520.  503.  514.  542.  537.  469.  519.  502.\n",
      "  515.  516.  530.  524.  529.  509.  545.  504.  501.  467.  452.  511.\n",
      "  481.  484.  474.  486.  522.  513.  498.  488.  479.  517.  525.  485.\n",
      "  496.  492.  429.  450.  490.  464.  508.  483.  500.  489.  462.  478.\n",
      "  499.  491.  427.  442.  447.  465.  449.  463.  433.  441.  460.  487.\n",
      "  468.  439.  448.  477.  436.  461.  475.  440.  456.  457.  470.  476.\n",
      "  480.  453.  473.  409.  430.  410.  451.  425.  432.  459.  424.  446.\n",
      "  407.  434.  458.  417.  443.  421.  431.] , Count: 427\n",
      "bank_balance: [ 303200.   92500.  672100. ...  922300.  844600. 1026700.] , Count: 10614\n",
      "emergency_fund: [ 70200.  26900. 324200. ... 470100. 711600. 525000.] , Count: 5486\n",
      "emi_scenario: ['Personal Loan EMI' 'E-commerce Shopping EMI' 'Education EMI'\n",
      " 'Vehicle EMI' 'Home Appliances EMI'] , Count: 5\n",
      "requested_amount: [ 850000.  128000.  306000. ... 1330000. 1203000. 1149000.] , Count: 1491\n",
      "requested_tenure: [15 19 16 83  7 53 11 12 14  3 77 41 21 60 61 33 35 57 36 63 20 75  8 23\n",
      " 49 45 80 34 18 59  9 48 22 42 13 39 55 44 37 10 25  6 24 31 28 43 29 26\n",
      " 58 32 69 46 17  5 27 30 52 66 79 40 47 51 67 74 50 38 54 76 64 56 71 68\n",
      " 73 65 72  4 81 62 70 84 78 82] , Count: 82\n",
      "emi_eligibility: ['Not_Eligible' 'Eligible' 'High_Risk'] , Count: 3\n",
      "max_monthly_emi: [  500.    700.  27775.  ... 38065.5 49860.  23730. ] , Count: 15383\n"
     ]
    }
   ],
   "source": [
    "\n",
    "for column in df.columns:\n",
    "    print(f\"{column}: {df[column].unique()} , Count: {len(df[column].unique())}\")\n",
    "\n",
    "\n"
   ]
  },
  {
   "cell_type": "markdown",
   "metadata": {
    "id": "MSa1f5Uengrz"
   },
   "source": [
    "### What all manipulations have you done and insights you found?"
   ]
  },
  {
   "cell_type": "markdown",
   "metadata": {
    "id": "LbyXE7I1olp8"
   },
   "source": [
    "\n",
    "\n",
    "1. The columns **education**, **monthly_salary**, **emergency_fund**, **credit_score**, and **bank_balance** contained missing values.  \n",
    "2. The missing values in the **education** column (categorical) were handled using the **mode()** method.  \n",
    "3. The missing values in the **numeric columns** were handled using the **median()** method to avoid skewing due to outliers.  \n",
    "4. During inspection, **data inconsistency** was found in several columns — some numeric data were stored as strings (e.g., `'270700.0.0'` or `'58.0.0'`).  \n",
    "5. These inconsistencies were resolved by **cleaning and converting** such string-based numbers into proper numeric formats.  \n",
    "6. The **‘age’** column was stabilized by removing incorrect decimal patterns (like `'58.0.0'`) and converting all values into integers.  \n",
    "7. The **‘gender’** column was standardized by converting all variations (`'M'`, `'male'`, `'MALE'`, `'F'`, `'female'`, etc.) into consistent categories — `'Male'` and `'Female'`.  \n",
    "8. Other categorical columns like **‘marital_status’**, **‘education’**, and **‘employment_type’** were standardized to maintain proper case formatting (e.g., `'Married'`, `'Graduate'`).  \n",
    "9. The **‘emi_eligibility’** column was also cleaned to ensure consistent formatting (e.g., `'High_Risk'`, `'Eligible'`, `'Not_Eligible'`).  \n"
   ]
  },
  {
   "cell_type": "markdown",
   "metadata": {
    "id": "GF8Ens_Soomf"
   },
   "source": [
    "## ***4. Data Vizualization, Storytelling & Experimenting with charts : Understand the relationships between variables***"
   ]
  },
  {
   "cell_type": "markdown",
   "metadata": {
    "id": "0wOQAZs5pc--"
   },
   "source": [
    "#### Chart - 1"
   ]
  },
  {
   "cell_type": "code",
   "execution_count": 164,
   "metadata": {
    "id": "7v_ESjsspbW7"
   },
   "outputs": [],
   "source": [
    "# Chart - 1 visualization code"
   ]
  },
  {
   "cell_type": "markdown",
   "metadata": {
    "id": "K5QZ13OEpz2H"
   },
   "source": [
    "##### 1. Why did you pick the specific chart?"
   ]
  },
  {
   "cell_type": "markdown",
   "metadata": {
    "id": "XESiWehPqBRc"
   },
   "source": [
    "Answer Here."
   ]
  },
  {
   "cell_type": "markdown",
   "metadata": {
    "id": "lQ7QKXXCp7Bj"
   },
   "source": [
    "##### 2. What is/are the insight(s) found from the chart?"
   ]
  },
  {
   "cell_type": "markdown",
   "metadata": {
    "id": "C_j1G7yiqdRP"
   },
   "source": [
    "Answer Here"
   ]
  },
  {
   "cell_type": "markdown",
   "metadata": {
    "id": "448CDAPjqfQr"
   },
   "source": [
    "##### 3. Will the gained insights help creating a positive business impact?\n",
    "Are there any insights that lead to negative growth? Justify with specific reason."
   ]
  },
  {
   "cell_type": "markdown",
   "metadata": {
    "id": "3cspy4FjqxJW"
   },
   "source": [
    "Answer Here"
   ]
  },
  {
   "cell_type": "markdown",
   "metadata": {
    "id": "KSlN3yHqYklG"
   },
   "source": [
    "#### Chart - 2"
   ]
  },
  {
   "cell_type": "code",
   "execution_count": null,
   "metadata": {
    "id": "R4YgtaqtYklH"
   },
   "outputs": [],
   "source": [
    "# Chart - 2 visualization code"
   ]
  },
  {
   "cell_type": "markdown",
   "metadata": {
    "id": "t6dVpIINYklI"
   },
   "source": [
    "##### 1. Why did you pick the specific chart?"
   ]
  },
  {
   "cell_type": "markdown",
   "metadata": {
    "id": "5aaW0BYyYklI"
   },
   "source": [
    "Answer Here."
   ]
  },
  {
   "cell_type": "markdown",
   "metadata": {
    "id": "ijmpgYnKYklI"
   },
   "source": [
    "##### 2. What is/are the insight(s) found from the chart?"
   ]
  },
  {
   "cell_type": "markdown",
   "metadata": {
    "id": "PSx9atu2YklI"
   },
   "source": [
    "Answer Here"
   ]
  },
  {
   "cell_type": "markdown",
   "metadata": {
    "id": "-JiQyfWJYklI"
   },
   "source": [
    "##### 3. Will the gained insights help creating a positive business impact?\n",
    "Are there any insights that lead to negative growth? Justify with specific reason."
   ]
  },
  {
   "cell_type": "markdown",
   "metadata": {
    "id": "BcBbebzrYklV"
   },
   "source": [
    "Answer Here"
   ]
  },
  {
   "cell_type": "markdown",
   "metadata": {
    "id": "EM7whBJCYoAo"
   },
   "source": [
    "#### Chart - 3"
   ]
  },
  {
   "cell_type": "code",
   "execution_count": null,
   "metadata": {
    "id": "t6GMdE67YoAp"
   },
   "outputs": [],
   "source": [
    "# Chart - 3 visualization code"
   ]
  },
  {
   "cell_type": "markdown",
   "metadata": {
    "id": "fge-S5ZAYoAp"
   },
   "source": [
    "##### 1. Why did you pick the specific chart?"
   ]
  },
  {
   "cell_type": "markdown",
   "metadata": {
    "id": "5dBItgRVYoAp"
   },
   "source": [
    "Answer Here."
   ]
  },
  {
   "cell_type": "markdown",
   "metadata": {
    "id": "85gYPyotYoAp"
   },
   "source": [
    "##### 2. What is/are the insight(s) found from the chart?"
   ]
  },
  {
   "cell_type": "markdown",
   "metadata": {
    "id": "4jstXR6OYoAp"
   },
   "source": [
    "Answer Here"
   ]
  },
  {
   "cell_type": "markdown",
   "metadata": {
    "id": "RoGjAbkUYoAp"
   },
   "source": [
    "##### 3. Will the gained insights help creating a positive business impact?\n",
    "Are there any insights that lead to negative growth? Justify with specific reason."
   ]
  },
  {
   "cell_type": "markdown",
   "metadata": {
    "id": "zfJ8IqMcYoAp"
   },
   "source": [
    "Answer Here"
   ]
  },
  {
   "cell_type": "markdown",
   "metadata": {
    "id": "4Of9eVA-YrdM"
   },
   "source": [
    "#### Chart - 4"
   ]
  },
  {
   "cell_type": "code",
   "execution_count": null,
   "metadata": {
    "id": "irlUoxc8YrdO"
   },
   "outputs": [],
   "source": [
    "# Chart - 4 visualization code"
   ]
  },
  {
   "cell_type": "markdown",
   "metadata": {
    "id": "iky9q4vBYrdO"
   },
   "source": [
    "##### 1. Why did you pick the specific chart?"
   ]
  },
  {
   "cell_type": "markdown",
   "metadata": {
    "id": "aJRCwT6DYrdO"
   },
   "source": [
    "Answer Here."
   ]
  },
  {
   "cell_type": "markdown",
   "metadata": {
    "id": "F6T5p64dYrdO"
   },
   "source": [
    "##### 2. What is/are the insight(s) found from the chart?"
   ]
  },
  {
   "cell_type": "markdown",
   "metadata": {
    "id": "Xx8WAJvtYrdO"
   },
   "source": [
    "Answer Here"
   ]
  },
  {
   "cell_type": "markdown",
   "metadata": {
    "id": "y-Ehk30pYrdP"
   },
   "source": [
    "##### 3. Will the gained insights help creating a positive business impact?\n",
    "Are there any insights that lead to negative growth? Justify with specific reason."
   ]
  },
  {
   "cell_type": "markdown",
   "metadata": {
    "id": "jLNxxz7MYrdP"
   },
   "source": [
    "Answer Here"
   ]
  },
  {
   "cell_type": "markdown",
   "metadata": {
    "id": "bamQiAODYuh1"
   },
   "source": [
    "#### Chart - 5"
   ]
  },
  {
   "cell_type": "code",
   "execution_count": null,
   "metadata": {
    "id": "TIJwrbroYuh3"
   },
   "outputs": [],
   "source": [
    "# Chart - 5 visualization code"
   ]
  },
  {
   "cell_type": "markdown",
   "metadata": {
    "id": "QHF8YVU7Yuh3"
   },
   "source": [
    "##### 1. Why did you pick the specific chart?"
   ]
  },
  {
   "cell_type": "markdown",
   "metadata": {
    "id": "dcxuIMRPYuh3"
   },
   "source": [
    "Answer Here."
   ]
  },
  {
   "cell_type": "markdown",
   "metadata": {
    "id": "GwzvFGzlYuh3"
   },
   "source": [
    "##### 2. What is/are the insight(s) found from the chart?"
   ]
  },
  {
   "cell_type": "markdown",
   "metadata": {
    "id": "uyqkiB8YYuh3"
   },
   "source": [
    "Answer Here"
   ]
  },
  {
   "cell_type": "markdown",
   "metadata": {
    "id": "qYpmQ266Yuh3"
   },
   "source": [
    "##### 3. Will the gained insights help creating a positive business impact?\n",
    "Are there any insights that lead to negative growth? Justify with specific reason."
   ]
  },
  {
   "cell_type": "markdown",
   "metadata": {
    "id": "_WtzZ_hCYuh4"
   },
   "source": [
    "Answer Here"
   ]
  },
  {
   "cell_type": "markdown",
   "metadata": {
    "id": "OH-pJp9IphqM"
   },
   "source": [
    "#### Chart - 6"
   ]
  },
  {
   "cell_type": "code",
   "execution_count": null,
   "metadata": {
    "id": "kuRf4wtuphqN"
   },
   "outputs": [],
   "source": [
    "# Chart - 6 visualization code"
   ]
  },
  {
   "cell_type": "markdown",
   "metadata": {
    "id": "bbFf2-_FphqN"
   },
   "source": [
    "##### 1. Why did you pick the specific chart?"
   ]
  },
  {
   "cell_type": "markdown",
   "metadata": {
    "id": "loh7H2nzphqN"
   },
   "source": [
    "Answer Here."
   ]
  },
  {
   "cell_type": "markdown",
   "metadata": {
    "id": "_ouA3fa0phqN"
   },
   "source": [
    "##### 2. What is/are the insight(s) found from the chart?"
   ]
  },
  {
   "cell_type": "markdown",
   "metadata": {
    "id": "VECbqPI7phqN"
   },
   "source": [
    "Answer Here"
   ]
  },
  {
   "cell_type": "markdown",
   "metadata": {
    "id": "Seke61FWphqN"
   },
   "source": [
    "##### 3. Will the gained insights help creating a positive business impact?\n",
    "Are there any insights that lead to negative growth? Justify with specific reason."
   ]
  },
  {
   "cell_type": "markdown",
   "metadata": {
    "id": "DW4_bGpfphqN"
   },
   "source": [
    "Answer Here"
   ]
  },
  {
   "cell_type": "markdown",
   "metadata": {
    "id": "PIIx-8_IphqN"
   },
   "source": [
    "#### Chart - 7"
   ]
  },
  {
   "cell_type": "code",
   "execution_count": null,
   "metadata": {
    "id": "lqAIGUfyphqO"
   },
   "outputs": [],
   "source": [
    "# Chart - 7 visualization code"
   ]
  },
  {
   "cell_type": "markdown",
   "metadata": {
    "id": "t27r6nlMphqO"
   },
   "source": [
    "##### 1. Why did you pick the specific chart?"
   ]
  },
  {
   "cell_type": "markdown",
   "metadata": {
    "id": "iv6ro40sphqO"
   },
   "source": [
    "Answer Here."
   ]
  },
  {
   "cell_type": "markdown",
   "metadata": {
    "id": "r2jJGEOYphqO"
   },
   "source": [
    "##### 2. What is/are the insight(s) found from the chart?"
   ]
  },
  {
   "cell_type": "markdown",
   "metadata": {
    "id": "Po6ZPi4hphqO"
   },
   "source": [
    "Answer Here"
   ]
  },
  {
   "cell_type": "markdown",
   "metadata": {
    "id": "b0JNsNcRphqO"
   },
   "source": [
    "##### 3. Will the gained insights help creating a positive business impact?\n",
    "Are there any insights that lead to negative growth? Justify with specific reason."
   ]
  },
  {
   "cell_type": "markdown",
   "metadata": {
    "id": "xvSq8iUTphqO"
   },
   "source": [
    "Answer Here"
   ]
  },
  {
   "cell_type": "markdown",
   "metadata": {
    "id": "BZR9WyysphqO"
   },
   "source": [
    "#### Chart - 8"
   ]
  },
  {
   "cell_type": "code",
   "execution_count": null,
   "metadata": {
    "id": "TdPTWpAVphqO"
   },
   "outputs": [],
   "source": [
    "# Chart - 8 visualization code"
   ]
  },
  {
   "cell_type": "markdown",
   "metadata": {
    "id": "jj7wYXLtphqO"
   },
   "source": [
    "##### 1. Why did you pick the specific chart?"
   ]
  },
  {
   "cell_type": "markdown",
   "metadata": {
    "id": "Ob8u6rCTphqO"
   },
   "source": [
    "Answer Here."
   ]
  },
  {
   "cell_type": "markdown",
   "metadata": {
    "id": "eZrbJ2SmphqO"
   },
   "source": [
    "##### 2. What is/are the insight(s) found from the chart?"
   ]
  },
  {
   "cell_type": "markdown",
   "metadata": {
    "id": "mZtgC_hjphqO"
   },
   "source": [
    "Answer Here"
   ]
  },
  {
   "cell_type": "markdown",
   "metadata": {
    "id": "rFu4xreNphqO"
   },
   "source": [
    "##### 3. Will the gained insights help creating a positive business impact?\n",
    "Are there any insights that lead to negative growth? Justify with specific reason."
   ]
  },
  {
   "cell_type": "markdown",
   "metadata": {
    "id": "ey_0qi68phqO"
   },
   "source": [
    "Answer Here"
   ]
  },
  {
   "cell_type": "markdown",
   "metadata": {
    "id": "YJ55k-q6phqO"
   },
   "source": [
    "#### Chart - 9"
   ]
  },
  {
   "cell_type": "code",
   "execution_count": null,
   "metadata": {
    "id": "B2aS4O1ophqO"
   },
   "outputs": [],
   "source": [
    "# Chart - 9 visualization code"
   ]
  },
  {
   "cell_type": "markdown",
   "metadata": {
    "id": "gCFgpxoyphqP"
   },
   "source": [
    "##### 1. Why did you pick the specific chart?"
   ]
  },
  {
   "cell_type": "markdown",
   "metadata": {
    "id": "TVxDimi2phqP"
   },
   "source": [
    "Answer Here."
   ]
  },
  {
   "cell_type": "markdown",
   "metadata": {
    "id": "OVtJsKN_phqQ"
   },
   "source": [
    "##### 2. What is/are the insight(s) found from the chart?"
   ]
  },
  {
   "cell_type": "markdown",
   "metadata": {
    "id": "ngGi97qjphqQ"
   },
   "source": [
    "Answer Here"
   ]
  },
  {
   "cell_type": "markdown",
   "metadata": {
    "id": "lssrdh5qphqQ"
   },
   "source": [
    "##### 3. Will the gained insights help creating a positive business impact?\n",
    "Are there any insights that lead to negative growth? Justify with specific reason."
   ]
  },
  {
   "cell_type": "markdown",
   "metadata": {
    "id": "tBpY5ekJphqQ"
   },
   "source": [
    "Answer Here"
   ]
  },
  {
   "cell_type": "markdown",
   "metadata": {
    "id": "U2RJ9gkRphqQ"
   },
   "source": [
    "#### Chart - 10"
   ]
  },
  {
   "cell_type": "code",
   "execution_count": null,
   "metadata": {
    "id": "GM7a4YP4phqQ"
   },
   "outputs": [],
   "source": [
    "# Chart - 10 visualization code"
   ]
  },
  {
   "cell_type": "markdown",
   "metadata": {
    "id": "1M8mcRywphqQ"
   },
   "source": [
    "##### 1. Why did you pick the specific chart?"
   ]
  },
  {
   "cell_type": "markdown",
   "metadata": {
    "id": "8agQvks0phqQ"
   },
   "source": [
    "Answer Here."
   ]
  },
  {
   "cell_type": "markdown",
   "metadata": {
    "id": "tgIPom80phqQ"
   },
   "source": [
    "##### 2. What is/are the insight(s) found from the chart?"
   ]
  },
  {
   "cell_type": "markdown",
   "metadata": {
    "id": "Qp13pnNzphqQ"
   },
   "source": [
    "Answer Here"
   ]
  },
  {
   "cell_type": "markdown",
   "metadata": {
    "id": "JMzcOPDDphqR"
   },
   "source": [
    "##### 3. Will the gained insights help creating a positive business impact?\n",
    "Are there any insights that lead to negative growth? Justify with specific reason."
   ]
  },
  {
   "cell_type": "markdown",
   "metadata": {
    "id": "R4Ka1PC2phqR"
   },
   "source": [
    "Answer Here"
   ]
  },
  {
   "cell_type": "markdown",
   "metadata": {
    "id": "x-EpHcCOp1ci"
   },
   "source": [
    "#### Chart - 11"
   ]
  },
  {
   "cell_type": "code",
   "execution_count": null,
   "metadata": {
    "id": "mAQTIvtqp1cj"
   },
   "outputs": [],
   "source": [
    "# Chart - 11 visualization code"
   ]
  },
  {
   "cell_type": "markdown",
   "metadata": {
    "id": "X_VqEhTip1ck"
   },
   "source": [
    "##### 1. Why did you pick the specific chart?"
   ]
  },
  {
   "cell_type": "markdown",
   "metadata": {
    "id": "-vsMzt_np1ck"
   },
   "source": [
    "Answer Here."
   ]
  },
  {
   "cell_type": "markdown",
   "metadata": {
    "id": "8zGJKyg5p1ck"
   },
   "source": [
    "##### 2. What is/are the insight(s) found from the chart?"
   ]
  },
  {
   "cell_type": "markdown",
   "metadata": {
    "id": "ZYdMsrqVp1ck"
   },
   "source": [
    "Answer Here"
   ]
  },
  {
   "cell_type": "markdown",
   "metadata": {
    "id": "PVzmfK_Ep1ck"
   },
   "source": [
    "##### 3. Will the gained insights help creating a positive business impact?\n",
    "Are there any insights that lead to negative growth? Justify with specific reason."
   ]
  },
  {
   "cell_type": "markdown",
   "metadata": {
    "id": "druuKYZpp1ck"
   },
   "source": [
    "Answer Here"
   ]
  },
  {
   "cell_type": "markdown",
   "metadata": {
    "id": "n3dbpmDWp1ck"
   },
   "source": [
    "#### Chart - 12"
   ]
  },
  {
   "cell_type": "code",
   "execution_count": null,
   "metadata": {
    "id": "bwevp1tKp1ck"
   },
   "outputs": [],
   "source": [
    "# Chart - 12 visualization code"
   ]
  },
  {
   "cell_type": "markdown",
   "metadata": {
    "id": "ylSl6qgtp1ck"
   },
   "source": [
    "##### 1. Why did you pick the specific chart?"
   ]
  },
  {
   "cell_type": "markdown",
   "metadata": {
    "id": "m2xqNkiQp1ck"
   },
   "source": [
    "Answer Here."
   ]
  },
  {
   "cell_type": "markdown",
   "metadata": {
    "id": "ZWILFDl5p1ck"
   },
   "source": [
    "##### 2. What is/are the insight(s) found from the chart?"
   ]
  },
  {
   "cell_type": "markdown",
   "metadata": {
    "id": "x-lUsV2mp1ck"
   },
   "source": [
    "Answer Here"
   ]
  },
  {
   "cell_type": "markdown",
   "metadata": {
    "id": "M7G43BXep1ck"
   },
   "source": [
    "##### 3. Will the gained insights help creating a positive business impact?\n",
    "Are there any insights that lead to negative growth? Justify with specific reason."
   ]
  },
  {
   "cell_type": "markdown",
   "metadata": {
    "id": "5wwDJXsLp1cl"
   },
   "source": [
    "Answer Here"
   ]
  },
  {
   "cell_type": "markdown",
   "metadata": {
    "id": "Ag9LCva-p1cl"
   },
   "source": [
    "#### Chart - 13"
   ]
  },
  {
   "cell_type": "code",
   "execution_count": null,
   "metadata": {
    "id": "EUfxeq9-p1cl"
   },
   "outputs": [],
   "source": [
    "# Chart - 13 visualization code"
   ]
  },
  {
   "cell_type": "markdown",
   "metadata": {
    "id": "E6MkPsBcp1cl"
   },
   "source": [
    "##### 1. Why did you pick the specific chart?"
   ]
  },
  {
   "cell_type": "markdown",
   "metadata": {
    "id": "V22bRsFWp1cl"
   },
   "source": [
    "Answer Here."
   ]
  },
  {
   "cell_type": "markdown",
   "metadata": {
    "id": "2cELzS2fp1cl"
   },
   "source": [
    "##### 2. What is/are the insight(s) found from the chart?"
   ]
  },
  {
   "cell_type": "markdown",
   "metadata": {
    "id": "ozQPc2_Ip1cl"
   },
   "source": [
    "Answer Here"
   ]
  },
  {
   "cell_type": "markdown",
   "metadata": {
    "id": "3MPXvC8up1cl"
   },
   "source": [
    "##### 3. Will the gained insights help creating a positive business impact?\n",
    "Are there any insights that lead to negative growth? Justify with specific reason."
   ]
  },
  {
   "cell_type": "markdown",
   "metadata": {
    "id": "GL8l1tdLp1cl"
   },
   "source": [
    "Answer Here"
   ]
  },
  {
   "cell_type": "markdown",
   "metadata": {
    "id": "NC_X3p0fY2L0"
   },
   "source": [
    "#### Chart - 14 - Correlation Heatmap"
   ]
  },
  {
   "cell_type": "code",
   "execution_count": null,
   "metadata": {
    "id": "xyC9zolEZNRQ"
   },
   "outputs": [],
   "source": [
    "# Correlation Heatmap visualization code"
   ]
  },
  {
   "cell_type": "markdown",
   "metadata": {
    "id": "UV0SzAkaZNRQ"
   },
   "source": [
    "##### 1. Why did you pick the specific chart?"
   ]
  },
  {
   "cell_type": "markdown",
   "metadata": {
    "id": "DVPuT8LYZNRQ"
   },
   "source": [
    "Answer Here."
   ]
  },
  {
   "cell_type": "markdown",
   "metadata": {
    "id": "YPEH6qLeZNRQ"
   },
   "source": [
    "##### 2. What is/are the insight(s) found from the chart?"
   ]
  },
  {
   "cell_type": "markdown",
   "metadata": {
    "id": "bfSqtnDqZNRR"
   },
   "source": [
    "Answer Here"
   ]
  },
  {
   "cell_type": "markdown",
   "metadata": {
    "id": "q29F0dvdveiT"
   },
   "source": [
    "#### Chart - 15 - Pair Plot"
   ]
  },
  {
   "cell_type": "code",
   "execution_count": null,
   "metadata": {
    "id": "o58-TEIhveiU"
   },
   "outputs": [],
   "source": [
    "# Pair Plot visualization code"
   ]
  },
  {
   "cell_type": "markdown",
   "metadata": {
    "id": "EXh0U9oCveiU"
   },
   "source": [
    "##### 1. Why did you pick the specific chart?"
   ]
  },
  {
   "cell_type": "markdown",
   "metadata": {
    "id": "eMmPjTByveiU"
   },
   "source": [
    "Answer Here."
   ]
  },
  {
   "cell_type": "markdown",
   "metadata": {
    "id": "22aHeOlLveiV"
   },
   "source": [
    "##### 2. What is/are the insight(s) found from the chart?"
   ]
  },
  {
   "cell_type": "markdown",
   "metadata": {
    "id": "uPQ8RGwHveiV"
   },
   "source": [
    "Answer Here"
   ]
  },
  {
   "cell_type": "markdown",
   "metadata": {
    "id": "g-ATYxFrGrvw"
   },
   "source": [
    "## ***5. Hypothesis Testing***"
   ]
  },
  {
   "cell_type": "markdown",
   "metadata": {
    "id": "Yfr_Vlr8HBkt"
   },
   "source": [
    "### Based on your chart experiments, define three hypothetical statements from the dataset. In the next three questions, perform hypothesis testing to obtain final conclusion about the statements through your code and statistical testing."
   ]
  },
  {
   "cell_type": "markdown",
   "metadata": {
    "id": "8yEUt7NnHlrM"
   },
   "source": [
    "### Hypothetical Statement - 1: Salary vs Gender\n"
   ]
  },
  {
   "cell_type": "markdown",
   "metadata": {
    "id": "tEA2Xm5dHt1r"
   },
   "source": [
    "#### 1. State Your research hypothesis as a null hypothesis and alternate hypothesis."
   ]
  },
  {
   "cell_type": "markdown",
   "metadata": {
    "id": "HI9ZP0laH0D-"
   },
   "source": [
    "- Null Hypothesis (H₀): There is no significant difference in monthly salary between male and female employees.\n",
    "\n",
    "- Alternate Hypothesis (H₁): There is a significant difference in monthly salary between male and female employees."
   ]
  },
  {
   "cell_type": "markdown",
   "metadata": {
    "id": "I79__PHVH19G"
   },
   "source": [
    "#### 2. Perform an appropriate statistical test."
   ]
  },
  {
   "cell_type": "code",
   "execution_count": 165,
   "metadata": {},
   "outputs": [],
   "source": [
    "from scipy import stats\n"
   ]
  },
  {
   "cell_type": "code",
   "execution_count": 166,
   "metadata": {
    "id": "oZrfquKtyian"
   },
   "outputs": [
    {
     "name": "stdout",
     "output_type": "stream",
     "text": [
      "Test 1: Salary vs Gender\n",
      "T-statistic: 0.6647, P-value: 0.5062\n",
      "Fail to reject H₀ → No significant difference in salary by gender\n",
      "\n"
     ]
    }
   ],
   "source": [
    "# Perform Statistical Test to obtain P-Value\n",
    "male_salary = df[df['gender'] == 'Male']['monthly_salary']\n",
    "female_salary = df[df['gender'] == 'Female']['monthly_salary']\n",
    "\n",
    "t_stat, p_val = stats.ttest_ind(male_salary, female_salary, equal_var=False)\n",
    "print(\"Test 1: Salary vs Gender\")\n",
    "print(f\"T-statistic: {t_stat:.4f}, P-value: {p_val:.4f}\")\n",
    "if p_val < 0.05:\n",
    "    print(\"Reject H₀ → Salary differs significantly between genders\\n\")\n",
    "else:\n",
    "    print(\"Fail to reject H₀ → No significant difference in salary by gender\\n\")"
   ]
  },
  {
   "cell_type": "markdown",
   "metadata": {
    "id": "Ou-I18pAyIpj"
   },
   "source": [
    "##### Which statistical test have you done to obtain P-Value?"
   ]
  },
  {
   "cell_type": "markdown",
   "metadata": {
    "id": "s2U0kk00ygSB"
   },
   "source": [
    "Independent Samples t-test (Student’s t-test)"
   ]
  },
  {
   "cell_type": "markdown",
   "metadata": {
    "id": "fF3858GYyt-u"
   },
   "source": [
    "##### Why did you choose the specific statistical test?"
   ]
  },
  {
   "cell_type": "markdown",
   "metadata": {
    "id": "HO4K0gP5y3B4"
   },
   "source": [
    "Because we are comparing the means of two independent groups (Male vs Female) for a continuous variable (Monthly Salary)."
   ]
  },
  {
   "cell_type": "markdown",
   "metadata": {
    "id": "4_0_7-oCpUZd"
   },
   "source": [
    "###  Hypothetical Statement - 2: Credit Score vs EMI Eligibility"
   ]
  },
  {
   "cell_type": "markdown",
   "metadata": {
    "id": "hwyV_J3ipUZe"
   },
   "source": [
    "#### 1. State Your research hypothesis as a null hypothesis and alternate hypothesis."
   ]
  },
  {
   "cell_type": "markdown",
   "metadata": {
    "id": "FnpLGJ-4pUZe"
   },
   "source": [
    "- Null Hypothesis (H₀): Credit score and EMI eligibility are independent.\n",
    "\n",
    "- Alternate Hypothesis (H₁): Credit score and EMI eligibility are dependent (related)."
   ]
  },
  {
   "cell_type": "markdown",
   "metadata": {
    "id": "3yB-zSqbpUZe"
   },
   "source": [
    "#### 2. Perform an appropriate statistical test."
   ]
  },
  {
   "cell_type": "code",
   "execution_count": 167,
   "metadata": {
    "id": "sWxdNTXNpUZe"
   },
   "outputs": [
    {
     "name": "stdout",
     "output_type": "stream",
     "text": [
      "Test 2: Credit Score vs EMI Eligibility\n",
      "Chi2: 9157.8564, P-value: 0.0000\n",
      "Reject H₀ → Credit score and EMI eligibility are related\n",
      "\n"
     ]
    }
   ],
   "source": [
    "# Perform Statistical Test to obtain P-Value\n",
    "contingency = pd.crosstab(df['emi_eligibility'], pd.cut(df['credit_score'], bins=5))\n",
    "chi2, p_val, dof, expected = stats.chi2_contingency(contingency)\n",
    "print(\"Test 2: Credit Score vs EMI Eligibility\")\n",
    "print(f\"Chi2: {chi2:.4f}, P-value: {p_val:.4f}\")\n",
    "if p_val < 0.05:\n",
    "    print(\"Reject H₀ → Credit score and EMI eligibility are related\\n\")\n",
    "else:\n",
    "    print(\"Fail to reject H₀ → No significant relationship\\n\")\n"
   ]
  },
  {
   "cell_type": "markdown",
   "metadata": {
    "id": "dEUvejAfpUZe"
   },
   "source": [
    "##### Which statistical test have you done to obtain P-Value?"
   ]
  },
  {
   "cell_type": "markdown",
   "metadata": {
    "id": "oLDrPz7HpUZf"
   },
   "source": [
    "Chi-Square Test of Independence"
   ]
  },
  {
   "cell_type": "markdown",
   "metadata": {
    "id": "Fd15vwWVpUZf"
   },
   "source": [
    "##### Why did you choose the specific statistical test?"
   ]
  },
  {
   "cell_type": "markdown",
   "metadata": {
    "id": "4xOGYyiBpUZf"
   },
   "source": [
    "Because both variables (Credit Score Category and EMI Eligibility) are categorical, and we want to check for association between them."
   ]
  },
  {
   "cell_type": "markdown",
   "metadata": {
    "id": "bn_IUdTipZyH"
   },
   "source": [
    "### Hypothetical Statement - 3: Years of Employment vs Monthly Salary"
   ]
  },
  {
   "cell_type": "markdown",
   "metadata": {
    "id": "49K5P_iCpZyH"
   },
   "source": [
    "#### 1. State Your research hypothesis as a null hypothesis and alternate hypothesis."
   ]
  },
  {
   "cell_type": "markdown",
   "metadata": {
    "id": "7gWI5rT9pZyH"
   },
   "source": [
    "- Null Hypothesis (H₀): There is no significant correlation between years of employment and monthly salary.\n",
    "\n",
    "- Alternate Hypothesis (H₁): There is a significant correlation between years of employment and monthly salary."
   ]
  },
  {
   "cell_type": "markdown",
   "metadata": {
    "id": "Nff-vKELpZyI"
   },
   "source": [
    "#### 2. Perform an appropriate statistical test."
   ]
  },
  {
   "cell_type": "code",
   "execution_count": 168,
   "metadata": {
    "id": "s6AnJQjtpZyI"
   },
   "outputs": [
    {
     "name": "stdout",
     "output_type": "stream",
     "text": [
      "Test 3: Years of Employment vs Monthly Salary\n",
      "Correlation Coefficient: -0.0001, P-value: 0.9310\n",
      "Fail to reject H₀ → No significant correlation\n",
      "\n"
     ]
    }
   ],
   "source": [
    "# Perform Statistical Test to obtain P-Value\n",
    "corr, p_val = stats.pearsonr(df['years_of_employment'], df['monthly_salary'])\n",
    "print(\"Test 3: Years of Employment vs Monthly Salary\")\n",
    "print(f\"Correlation Coefficient: {corr:.4f}, P-value: {p_val:.4f}\")\n",
    "if p_val < 0.05:\n",
    "    print(\"Reject H₀ → Significant correlation exists\\n\")\n",
    "else:\n",
    "    print(\"Fail to reject H₀ → No significant correlation\\n\")"
   ]
  },
  {
   "cell_type": "markdown",
   "metadata": {
    "id": "kLW572S8pZyI"
   },
   "source": [
    "##### Which statistical test have you done to obtain P-Value?"
   ]
  },
  {
   "cell_type": "markdown",
   "metadata": {
    "id": "ytWJ8v15pZyI"
   },
   "source": [
    "Pearson Correlation Test"
   ]
  },
  {
   "cell_type": "markdown",
   "metadata": {
    "id": "dWbDXHzopZyI"
   },
   "source": [
    "##### Why did you choose the specific statistical test?"
   ]
  },
  {
   "cell_type": "markdown",
   "metadata": {
    "id": "M99G98V6pZyI"
   },
   "source": [
    "Because both variables are continuous, and we want to measure the strength and direction of their linear relationship."
   ]
  },
  {
   "cell_type": "markdown",
   "metadata": {
    "id": "yLjJCtPM0KBk"
   },
   "source": [
    "## ***6. Feature Engineering & Data Pre-processing***"
   ]
  },
  {
   "cell_type": "markdown",
   "metadata": {
    "id": "xiyOF9F70UgQ"
   },
   "source": [
    "### 1. Handling Missing Values"
   ]
  },
  {
   "cell_type": "code",
   "execution_count": 169,
   "metadata": {
    "id": "iRsAHk1K0fpS"
   },
   "outputs": [
    {
     "name": "stderr",
     "output_type": "stream",
     "text": [
      "C:\\Users\\vrajg\\AppData\\Local\\Temp\\ipykernel_15616\\336013581.py:2: FutureWarning: A value is trying to be set on a copy of a DataFrame or Series through chained assignment using an inplace method.\n",
      "The behavior will change in pandas 3.0. This inplace method will never work because the intermediate object on which we are setting values always behaves as a copy.\n",
      "\n",
      "For example, when doing 'df[col].method(value, inplace=True)', try using 'df.method({col: value}, inplace=True)' or df[col] = df[col].method(value) instead, to perform the operation inplace on the original object.\n",
      "\n",
      "\n",
      "  df['age'].fillna(df['age'].median(), inplace=True)\n"
     ]
    }
   ],
   "source": [
    "# Handling Missing Values & Missing Value Imputation\n",
    "df['age'].fillna(df['age'].median(), inplace=True)\n",
    "df['age'] = df['age'].astype(int)\n",
    "numeric_cols = ['monthly_salary', 'years_of_employment', 'max_monthly_emi','monthly_rent']\n",
    "for col in numeric_cols:\n",
    "    df[col] = pd.to_numeric(df[col], errors='coerce')\n",
    "    df[col] = df[col].fillna(df[col].median())\n"
   ]
  },
  {
   "cell_type": "code",
   "execution_count": 170,
   "metadata": {},
   "outputs": [
    {
     "data": {
      "text/plain": [
       "age                       0\n",
       "gender                    0\n",
       "marital_status            0\n",
       "education                 0\n",
       "monthly_salary            0\n",
       "employment_type           0\n",
       "years_of_employment       0\n",
       "company_type              0\n",
       "house_type                0\n",
       "monthly_rent              0\n",
       "family_size               0\n",
       "dependents                0\n",
       "school_fees               0\n",
       "college_fees              0\n",
       "travel_expenses           0\n",
       "groceries_utilities       0\n",
       "other_monthly_expenses    0\n",
       "existing_loans            0\n",
       "current_emi_amount        0\n",
       "credit_score              0\n",
       "bank_balance              0\n",
       "emergency_fund            0\n",
       "emi_scenario              0\n",
       "requested_amount          0\n",
       "requested_tenure          0\n",
       "emi_eligibility           0\n",
       "max_monthly_emi           0\n",
       "dtype: int64"
      ]
     },
     "execution_count": 170,
     "metadata": {},
     "output_type": "execute_result"
    }
   ],
   "source": [
    "df.isnull().sum()"
   ]
  },
  {
   "cell_type": "markdown",
   "metadata": {
    "id": "7wuGOrhz0itI"
   },
   "source": [
    "#### What all missing value imputation techniques have you used and why did you use those techniques?"
   ]
  },
  {
   "cell_type": "markdown",
   "metadata": {
    "id": "1ixusLtI0pqI"
   },
   "source": [
    "1. For handling the missing values in **numerical columns**, the **median() imputation technique** was used to reduce the effect of outliers.  \n",
    "2. For handling the missing values in **categorical columns**, the **mode() imputation technique** was used to replace missing data with the most frequent category."
   ]
  },
  {
   "cell_type": "markdown",
   "metadata": {
    "id": "id1riN9m0vUs"
   },
   "source": [
    "### 2. Handling Outliers"
   ]
  },
  {
   "cell_type": "code",
   "execution_count": 171,
   "metadata": {
    "id": "M6w2CzZf04JK"
   },
   "outputs": [
    {
     "name": "stdout",
     "output_type": "stream",
     "text": [
      "                    Column  Outlier_Count\n",
      "0                      age              0\n",
      "1           monthly_salary          12304\n",
      "2      years_of_employment          22891\n",
      "3             monthly_rent          12720\n",
      "4              family_size              0\n",
      "5               dependents              0\n",
      "6              school_fees              0\n",
      "7             college_fees          48000\n",
      "8          travel_expenses          12465\n",
      "9      groceries_utilities          11774\n",
      "10  other_monthly_expenses          13518\n",
      "11      current_emi_amount          17351\n",
      "12            credit_score           5840\n",
      "13            bank_balance          13499\n",
      "14          emergency_fund          17790\n",
      "15        requested_amount          25883\n",
      "16        requested_tenure           7730\n",
      "17         max_monthly_emi          17268\n"
     ]
    }
   ],
   "source": [
    "# Handling Outliers & Outlier treatments\n",
    "numeric_cols = df.select_dtypes(include=['int64', 'float64']).columns\n",
    "\n",
    "outlier_summary = {}\n",
    "\n",
    "for col in numeric_cols:\n",
    "    Q1 = df[col].quantile(0.25)\n",
    "    Q3 = df[col].quantile(0.75)\n",
    "    IQR = Q3 - Q1\n",
    "    lower_bound = Q1 - 1.5 * IQR\n",
    "    upper_bound = Q3 + 1.5 * IQR\n",
    "    \n",
    "    outliers = df[(df[col] < lower_bound) | (df[col] > upper_bound)][col]\n",
    "    outlier_summary[col] = len(outliers)\n",
    "\n",
    "# Display number of outliers per column\n",
    "outlier_df = pd.DataFrame(list(outlier_summary.items()), columns=['Column', 'Outlier_Count'])\n",
    "print(outlier_df)"
   ]
  },
  {
   "cell_type": "code",
   "execution_count": 172,
   "metadata": {},
   "outputs": [],
   "source": [
    "def cap_outliers(df):\n",
    "    df_capped = df.copy()\n",
    "    numeric_cols = df_capped.select_dtypes(include=['int64', 'float64']).columns\n",
    "\n",
    "    for col in numeric_cols:\n",
    "        Q1 = df_capped[col].quantile(0.25)\n",
    "        Q3 = df_capped[col].quantile(0.75)\n",
    "        IQR = Q3 - Q1\n",
    "        lower_bound = Q1 - 1.5 * IQR\n",
    "        upper_bound = Q3 + 1.5 * IQR\n",
    "        \n",
    "        # Cap values\n",
    "        df_capped[col] = np.where(df_capped[col] < lower_bound, lower_bound,\n",
    "                           np.where(df_capped[col] > upper_bound, upper_bound, df_capped[col]))\n",
    "    return df_capped\n",
    "\n",
    "# Apply capping"
   ]
  },
  {
   "cell_type": "code",
   "execution_count": 133,
   "metadata": {},
   "outputs": [
    {
     "name": "stdout",
     "output_type": "stream",
     "text": [
      "                    Column  Outlier_Count\n",
      "0                      age              0\n",
      "1           monthly_salary          12304\n",
      "2      years_of_employment          22891\n",
      "3             monthly_rent          12720\n",
      "4              family_size              0\n",
      "5               dependents              0\n",
      "6              school_fees              0\n",
      "7             college_fees          48000\n",
      "8          travel_expenses          12465\n",
      "9      groceries_utilities          11774\n",
      "10  other_monthly_expenses          13518\n",
      "11      current_emi_amount          17351\n",
      "12            credit_score           5840\n",
      "13            bank_balance          13499\n",
      "14          emergency_fund          17790\n",
      "15        requested_amount          25883\n",
      "16        requested_tenure           7730\n",
      "17         max_monthly_emi          17268\n"
     ]
    }
   ],
   "source": [
    "# Handling Outliers & Outlier treatments\n",
    "numeric_cols = df.select_dtypes(include=['int64', 'float64']).columns\n",
    "\n",
    "outlier_summary = {}\n",
    "\n",
    "for col in numeric_cols:\n",
    "    Q1 = df[col].quantile(0.25)\n",
    "    Q3 = df[col].quantile(0.75)\n",
    "    IQR = Q3 - Q1\n",
    "    lower_bound = Q1 - 1.5 * IQR\n",
    "    upper_bound = Q3 + 1.5 * IQR\n",
    "    \n",
    "    outliers = df[(df[col] < lower_bound) | (df[col] > upper_bound)][col]\n",
    "    outlier_summary[col] = len(outliers)\n",
    "\n",
    "# Display number of outliers per column\n",
    "outlier_df = pd.DataFrame(list(outlier_summary.items()), columns=['Column', 'Outlier_Count'])\n",
    "print(outlier_df)"
   ]
  },
  {
   "cell_type": "code",
   "execution_count": 173,
   "metadata": {},
   "outputs": [
    {
     "data": {
      "image/png": "[encoded data removed]",
      "text/plain": [
       "<Figure size 640x480 with 1 Axes>"
      ]
     },
     "metadata": {},
     "output_type": "display_data"
    },
    {
     "data": {
      "image/png": "[encoded data removed]",
      "text/plain": [
       "<Figure size 640x480 with 1 Axes>"
      ]
     },
     "metadata": {},
     "output_type": "display_data"
    },
    {
     "data": {
      "image/png": "[encoded data removed]",
      "text/plain": [
       "<Figure size 640x480 with 1 Axes>"
      ]
     },
     "metadata": {},
     "output_type": "display_data"
    },
    {
     "data": {
      "image/png": "[encoded data removed]",
      "text/plain": [
       "<Figure size 640x480 with 1 Axes>"
      ]
     },
     "metadata": {},
     "output_type": "display_data"
    },
    {
     "data": {
      "image/png": "[encoded data removed]",
      "text/plain": [
       "<Figure size 640x480 with 1 Axes>"
      ]
     },
     "metadata": {},
     "output_type": "display_data"
    },
    {
     "data": {
      "image/png": "[encoded data removed]",
      "text/plain": [
       "<Figure size 640x480 with 1 Axes>"
      ]
     },
     "metadata": {},
     "output_type": "display_data"
    },
    {
     "data": {
      "image/png": "[encoded data removed]",
      "text/plain": [
       "<Figure size 640x480 with 1 Axes>"
      ]
     },
     "metadata": {},
     "output_type": "display_data"
    },
    {
     "data": {
      "image/png": "[encoded data removed]",
      "text/plain": [
       "<Figure size 640x480 with 1 Axes>"
      ]
     },
     "metadata": {},
     "output_type": "display_data"
    },
    {
     "data": {
      "image/png": "[encoded data removed]",
      "text/plain": [
       "<Figure size 640x480 with 1 Axes>"
      ]
     },
     "metadata": {},
     "output_type": "display_data"
    },
    {
     "data": {
      "image/png": "[encoded data removed]",
      "text/plain": [
       "<Figure size 640x480 with 1 Axes>"
      ]
     },
     "metadata": {},
     "output_type": "display_data"
    },
    {
     "data": {
      "image/png": "[encoded data removed]",
      "text/plain": [
       "<Figure size 640x480 with 1 Axes>"
      ]
     },
     "metadata": {},
     "output_type": "display_data"
    },
    {
     "data": {
      "image/png": "[encoded data removed]",
      "text/plain": [
       "<Figure size 640x480 with 1 Axes>"
      ]
     },
     "metadata": {},
     "output_type": "display_data"
    },
    {
     "data": {
      "image/png": "[encoded data removed]",
      "text/plain": [
       "<Figure size 640x480 with 1 Axes>"
      ]
     },
     "metadata": {},
     "output_type": "display_data"
    },
    {
     "data": {
      "image/png": "[encoded data removed]",
      "text/plain": [
       "<Figure size 640x480 with 1 Axes>"
      ]
     },
     "metadata": {},
     "output_type": "display_data"
    },
    {
     "data": {
      "image/png": "[encoded data removed]",
      "text/plain": [
       "<Figure size 640x480 with 1 Axes>"
      ]
     },
     "metadata": {},
     "output_type": "display_data"
    },
    {
     "data": {
      "image/png": "[encoded data removed]",
      "text/plain": [
       "<Figure size 640x480 with 1 Axes>"
      ]
     },
     "metadata": {},
     "output_type": "display_data"
    },
    {
     "data": {
      "image/png": "[encoded data removed]",
      "text/plain": [
       "<Figure size 640x480 with 1 Axes>"
      ]
     },
     "metadata": {},
     "output_type": "display_data"
    },
    {
     "data": {
      "image/png": "[encoded data removed]",
      "text/plain": [
       "<Figure size 640x480 with 1 Axes>"
      ]
     },
     "metadata": {},
     "output_type": "display_data"
    },
    {
     "name": "stdout",
     "output_type": "stream",
     "text": [
      "                    Column  Outlier_Count\n",
      "0                      age              0\n",
      "1           monthly_salary              0\n",
      "2      years_of_employment              0\n",
      "3             monthly_rent              0\n",
      "4              family_size              0\n",
      "5               dependents              0\n",
      "6              school_fees              0\n",
      "7             college_fees              0\n",
      "8          travel_expenses              0\n",
      "9      groceries_utilities              0\n",
      "10  other_monthly_expenses              0\n",
      "11      current_emi_amount              0\n",
      "12            credit_score              0\n",
      "13            bank_balance              0\n",
      "14          emergency_fund              0\n",
      "15        requested_amount              0\n",
      "16        requested_tenure              0\n",
      "17         max_monthly_emi              0\n"
     ]
    }
   ],
   "source": [
    "import numpy as np\n",
    "import matplotlib.pyplot as plt\n",
    "\n",
    "\n",
    "numeric_cols = df.select_dtypes(include=['int64', 'float64']).columns\n",
    "\n",
    "for col in numeric_cols:\n",
    "    plt.figure()\n",
    "    df[col].plot(kind='box', title=f\"Before Outlier Handling: {col}\")\n",
    "    plt.show()\n",
    "\n",
    "\n",
    "def cap_outliers(df):\n",
    "    df_capped = df.copy()\n",
    "    for col in numeric_cols:\n",
    "        Q1 = df_capped[col].quantile(0.25)\n",
    "        Q3 = df_capped[col].quantile(0.75)\n",
    "        IQR = Q3 - Q1\n",
    "        lower = Q1 - 1.5 * IQR\n",
    "        upper = Q3 + 1.5 * IQR\n",
    "        \n",
    "        df_capped[col] = np.where(df_capped[col] < lower, lower,\n",
    "                           np.where(df_capped[col] > upper, upper, df_capped[col]))\n",
    "    return df_capped\n",
    "\n",
    "df = cap_outliers(df)\n",
    "\n",
    "\n",
    "outlier_summary = []\n",
    "for col in numeric_cols:\n",
    "    Q1 = df[col].quantile(0.25)\n",
    "    Q3 = df[col].quantile(0.75)\n",
    "    IQR = Q3 - Q1\n",
    "    lower = Q1 - 1.5 * IQR\n",
    "    upper = Q3 + 1.5 * IQR\n",
    "    outlier_count = ((df[col] < lower) | (df[col] > upper)).sum()\n",
    "    outlier_summary.append((col, outlier_count))\n",
    "\n",
    "outlier_df = pd.DataFrame(outlier_summary, columns=[\"Column\", \"Outlier_Count\"])\n",
    "print(outlier_df)\n"
   ]
  },
  {
   "cell_type": "markdown",
   "metadata": {
    "id": "578E2V7j08f6"
   },
   "source": [
    "##### What all outlier treatment techniques have you used and why did you use those techniques?"
   ]
  },
  {
   "cell_type": "markdown",
   "metadata": {
    "id": "uGZz5OrT1HH-"
   },
   "source": [
    "#### IQR Method: Detected outliers using the 1.5×IQR rule. Chosen for its simplicity and robustness against skewed data.\n",
    "\n",
    "- Capping (Winsorization): Replaced extreme values with boundary limits to prevent data loss.\n",
    "\n",
    "- Z-Score Method: Used for normally distributed features to flag values beyond ±3 standard deviations.\n",
    "\n",
    "- Domain Validation: Applied logical limits (e.g., age ≤ 120, family_size ≥ 1) to ensure realistic data values."
   ]
  },
  {
   "cell_type": "markdown",
   "metadata": {
    "id": "89xtkJwZ18nB"
   },
   "source": [
    "### 3. Categorical Encoding"
   ]
  },
  {
   "cell_type": "code",
   "execution_count": 174,
   "metadata": {},
   "outputs": [
    {
     "name": "stdout",
     "output_type": "stream",
     "text": [
      "<class 'pandas.core.frame.DataFrame'>\n",
      "RangeIndex: 5 entries, 0 to 4\n",
      "Data columns (total 27 columns):\n",
      " #   Column                  Non-Null Count  Dtype  \n",
      "---  ------                  --------------  -----  \n",
      " 0   age                     5 non-null      float64\n",
      " 1   gender                  5 non-null      object \n",
      " 2   marital_status          5 non-null      object \n",
      " 3   education               5 non-null      object \n",
      " 4   monthly_salary          5 non-null      float64\n",
      " 5   employment_type         5 non-null      object \n",
      " 6   years_of_employment     5 non-null      float64\n",
      " 7   company_type            5 non-null      object \n",
      " 8   house_type              5 non-null      object \n",
      " 9   monthly_rent            5 non-null      float64\n",
      " 10  family_size             5 non-null      float64\n",
      " 11  dependents              5 non-null      float64\n",
      " 12  school_fees             5 non-null      float64\n",
      " 13  college_fees            5 non-null      float64\n",
      " 14  travel_expenses         5 non-null      float64\n",
      " 15  groceries_utilities     5 non-null      float64\n",
      " 16  other_monthly_expenses  5 non-null      float64\n",
      " 17  existing_loans          5 non-null      object \n",
      " 18  current_emi_amount      5 non-null      float64\n",
      " 19  credit_score            5 non-null      float64\n",
      " 20  bank_balance            5 non-null      float64\n",
      " 21  emergency_fund          5 non-null      float64\n",
      " 22  emi_scenario            5 non-null      object \n",
      " 23  requested_amount        5 non-null      float64\n",
      " 24  requested_tenure        5 non-null      float64\n",
      " 25  emi_eligibility         5 non-null      object \n",
      " 26  max_monthly_emi         5 non-null      float64\n",
      "dtypes: float64(18), object(9)\n",
      "memory usage: 1.2+ KB\n"
     ]
    }
   ],
   "source": [
    "df.head().info()"
   ]
  },
  {
   "cell_type": "code",
   "execution_count": 175,
   "metadata": {},
   "outputs": [
    {
     "name": "stdout",
     "output_type": "stream",
     "text": [
      "gender: ['Female' 'Male'] , Count: 2\n",
      "marital_status: ['Married' 'Single'] , Count: 2\n",
      "education: ['Professional' 'Graduate' 'High School' 'Post Graduate'] , Count: 4\n",
      "employment_type: ['Private' 'Government' 'Self-Employed'] , Count: 3\n",
      "company_type: ['Mid-size' 'MNC' 'Startup' 'Large Indian' 'Small'] , Count: 5\n",
      "house_type: ['Rented' 'Family' 'Own'] , Count: 3\n",
      "existing_loans: ['Yes' 'No'] , Count: 2\n",
      "emi_scenario: ['Personal Loan EMI' 'E-commerce Shopping EMI' 'Education EMI'\n",
      " 'Vehicle EMI' 'Home Appliances EMI'] , Count: 5\n",
      "emi_eligibility: ['Not_Eligible' 'Eligible' 'High_Risk'] , Count: 3\n"
     ]
    }
   ],
   "source": [
    "for col in df.columns[df.dtypes == 'object']:\n",
    "    print(f\"{col}: {df[col].unique()} , Count: {len(df[col].unique())}\")"
   ]
  },
  {
   "cell_type": "code",
   "execution_count": 140,
   "metadata": {},
   "outputs": [
    {
     "data": {
      "text/plain": [
       "array(['Not_Eligible', 'Eligible', 'High_Risk'], dtype=object)"
      ]
     },
     "execution_count": 140,
     "metadata": {},
     "output_type": "execute_result"
    }
   ],
   "source": [
    "df['emi_eligibility'].unique()"
   ]
  },
  {
   "cell_type": "code",
   "execution_count": null,
   "metadata": {
    "id": "21JmIYMG2hEo"
   },
   "outputs": [],
   "source": [
    "from sklearn.preprocessing import OneHotEncoder, LabelEncoder\n",
    "import pandas as pd\n",
    "\n",
    "\n",
    "ohe = OneHotEncoder(sparse_output=False, drop='first')\n",
    "label_encoder = LabelEncoder()\n",
    "\n",
    "\n",
    "one_hot_cols = [\n",
    "    'gender',\n",
    "    'marital_status',\n",
    "    'employment_type',\n",
    "    'company_type',\n",
    "    'house_type',\n",
    "    'existing_loans',\n",
    "    'emi_scenario'\n",
    "]\n",
    "\n",
    "label_cols = ['education']  # ordinal feature\n",
    "\n",
    "# --- Step 2: One-Hot Encode nominal categorical features ---\n",
    "ohe_encoded = ohe.fit_transform(df[one_hot_cols])\n",
    "ohe_df = pd.DataFrame(ohe_encoded, columns=ohe.get_feature_names_out(one_hot_cols))\n",
    "\n",
    "# Merge back into main DataFrame\n",
    "df_encoded = pd.concat([df.drop(columns=one_hot_cols), ohe_df], axis=1)\n",
    "\n",
    "# --- Step 3: Label Encode ordinal categorical feature ---\n",
    "for col in label_cols:\n",
    "    df_encoded[col] = label_encoder.fit_transform(df_encoded[col])\n",
    "\n",
    "# --- Step 4: Create separate copies for classification & regression ---\n",
    "df_cls = df_encoded.copy()\n",
    "df_reg = df_encoded.copy()\n",
    "\n",
    "# Label encode target only for classification\n",
    "df_cls['emi_eligibility'] = label_encoder.fit_transform(df_cls['emi_eligibility'])\n",
    "\n",
    "# For regression, leave target as numeric (no encoding needed)\n",
    "# df_reg['max_monthly_emi'] stays as is\n"
   ]
  },
  {
   "cell_type": "markdown",
   "metadata": {
    "id": "67NQN5KX2AMe"
   },
   "source": [
    "#### What all categorical encoding techniques have you used & why did you use those techniques?"
   ]
  },
  {
   "cell_type": "markdown",
   "metadata": {
    "id": "UDaue5h32n_G"
   },
   "source": [
    "#### Categorical Encoding Techniques Used\n",
    "\n",
    "- One-Hot Encoding:\n",
    " Applied to nominal categorical columns such as gender, marital_status, employment_type, company_type, house_type, existing_loans, and emi_scenario.\n",
    "These features don’t have any inherent orde# 🧩 Categorical Encoding Techniques Used\n",
    "\n",
    "#### **One-Hot Encoding**\n",
    "Applied to nominal categorical columns such as `gender`, `marital_status`, `employment_type`, `company_type`, `house_type`, `existing_loans`, and `emi_scenario`.  \n",
    "These features don’t have any inherent order, so one-hot encoding prevents the model from assuming a numeric relationship among categories.\n",
    "\n",
    "#### **Label Encoding**\n",
    "Used for ordinal categorical columns like `education` and `emi_eligibility`, where the categories have a logical order  \n",
    "(e.g., *High School < Graduate < Post Graduate < Professional*, *Not_Eligible < Eligible < High_Risk*).  \n",
    "Label encoding preserves this order while converting the categories to numerical form for model training.\n",
    "r, so one-hot encoding prevents the model from assuming a numeric relationship among categories.\n",
    "\n",
    "Label Encoding:\n",
    "Used for ordinal categorical columns like education and emi_eligibility, where the categories have a logical order (e.g., High School < Graduate < Post Graduate < Professional, Not_Eligible < Eligible < High_Risk).\n",
    "Label encoding preserves this order while converting the categories to numerical form for model training."
   ]
  },
  {
   "cell_type": "markdown",
   "metadata": {
    "id": "-oLEiFgy-5Pf"
   },
   "source": [
    "### 4. Feature Manipulation & Selection"
   ]
  },
  {
   "cell_type": "markdown",
   "metadata": {
    "id": "C74aWNz2AliB"
   },
   "source": [
    "#### 1. Feature Manipulation"
   ]
  },
  {
   "cell_type": "code",
   "execution_count": null,
   "metadata": {},
   "outputs": [
    {
     "name": "stdout",
     "output_type": "stream",
     "text": [
      "<class 'pandas.core.frame.DataFrame'>\n",
      "RangeIndex: 404800 entries, 0 to 404799\n",
      "Data columns (total 36 columns):\n",
      " #   Column                            Non-Null Count   Dtype  \n",
      "---  ------                            --------------   -----  \n",
      " 0   age                               404800 non-null  float64\n",
      " 1   education                         404800 non-null  int64  \n",
      " 2   monthly_salary                    404800 non-null  float64\n",
      " 3   years_of_employment               404800 non-null  float64\n",
      " 4   monthly_rent                      402374 non-null  float64\n",
      " 5   family_size                       404800 non-null  float64\n",
      " 6   dependents                        404800 non-null  float64\n",
      " 7   school_fees                       404800 non-null  float64\n",
      " 8   college_fees                      404800 non-null  float64\n",
      " 9   travel_expenses                   404800 non-null  float64\n",
      " 10  groceries_utilities               404800 non-null  float64\n",
      " 11  other_monthly_expenses            404800 non-null  float64\n",
      " 12  current_emi_amount                404800 non-null  float64\n",
      " 13  credit_score                      404800 non-null  float64\n",
      " 14  bank_balance                      404800 non-null  float64\n",
      " 15  emergency_fund                    404800 non-null  float64\n",
      " 16  requested_amount                  404800 non-null  float64\n",
      " 17  requested_tenure                  404800 non-null  float64\n",
      " 18  emi_eligibility                   404800 non-null  int64  \n",
      " 19  max_monthly_emi                   404800 non-null  float64\n",
      " 20  gender_Male                       404800 non-null  float64\n",
      " 21  marital_status_Single             404800 non-null  float64\n",
      " 22  employment_type_Private           404800 non-null  float64\n",
      " 23  employment_type_Self-Employed     404800 non-null  float64\n",
      " 24  company_type_MNC                  404800 non-null  float64\n",
      " 25  company_type_Mid-size             404800 non-null  float64\n",
      " 26  company_type_Small                404800 non-null  float64\n",
      " 27  company_type_Startup              404800 non-null  float64\n",
      " 28  house_type_Own                    404800 non-null  float64\n",
      " 29  house_type_Rented                 404800 non-null  float64\n",
      " 30  existing_loans_Yes                404800 non-null  float64\n",
      " 31  emi_scenario_Education EMI        404800 non-null  float64\n",
      " 32  emi_scenario_Home Appliances EMI  404800 non-null  float64\n",
      " 33  emi_scenario_Personal Loan EMI    404800 non-null  float64\n",
      " 34  emi_scenario_Vehicle EMI          404800 non-null  float64\n",
      " 35  debt_to_income_ratio              404800 non-null  float64\n",
      "dtypes: float64(34), int64(2)\n",
      "memory usage: 111.2 MB\n"
     ]
    }
   ],
   "source": [
    "df.info()"
   ]
  },
  {
   "cell_type": "code",
   "execution_count": 180,
   "metadata": {
    "id": "h1qC4yhBApWC"
   },
   "outputs": [
    {
     "name": "stdout",
     "output_type": "stream",
     "text": [
      "<class 'pandas.core.frame.DataFrame'>\n",
      "RangeIndex: 5 entries, 0 to 4\n",
      "Data columns (total 43 columns):\n",
      " #   Column                            Non-Null Count  Dtype  \n",
      "---  ------                            --------------  -----  \n",
      " 0   age                               5 non-null      float64\n",
      " 1   education                         5 non-null      int64  \n",
      " 2   monthly_salary                    5 non-null      float64\n",
      " 3   years_of_employment               5 non-null      float64\n",
      " 4   monthly_rent                      5 non-null      float64\n",
      " 5   family_size                       5 non-null      float64\n",
      " 6   dependents                        5 non-null      float64\n",
      " 7   school_fees                       5 non-null      float64\n",
      " 8   college_fees                      5 non-null      float64\n",
      " 9   travel_expenses                   5 non-null      float64\n",
      " 10  groceries_utilities               5 non-null      float64\n",
      " 11  other_monthly_expenses            5 non-null      float64\n",
      " 12  current_emi_amount                5 non-null      float64\n",
      " 13  credit_score                      5 non-null      float64\n",
      " 14  bank_balance                      5 non-null      float64\n",
      " 15  emergency_fund                    5 non-null      float64\n",
      " 16  requested_amount                  5 non-null      float64\n",
      " 17  requested_tenure                  5 non-null      float64\n",
      " 18  emi_eligibility                   5 non-null      int64  \n",
      " 19  max_monthly_emi                   5 non-null      float64\n",
      " 20  gender_Male                       5 non-null      float64\n",
      " 21  marital_status_Single             5 non-null      float64\n",
      " 22  employment_type_Private           5 non-null      float64\n",
      " 23  employment_type_Self-Employed     5 non-null      float64\n",
      " 24  company_type_MNC                  5 non-null      float64\n",
      " 25  company_type_Mid-size             5 non-null      float64\n",
      " 26  company_type_Small                5 non-null      float64\n",
      " 27  company_type_Startup              5 non-null      float64\n",
      " 28  house_type_Own                    5 non-null      float64\n",
      " 29  house_type_Rented                 5 non-null      float64\n",
      " 30  existing_loans_Yes                5 non-null      float64\n",
      " 31  emi_scenario_Education EMI        5 non-null      float64\n",
      " 32  emi_scenario_Home Appliances EMI  5 non-null      float64\n",
      " 33  emi_scenario_Personal Loan EMI    5 non-null      float64\n",
      " 34  emi_scenario_Vehicle EMI          5 non-null      float64\n",
      " 35  total_monthly_expenses            5 non-null      float64\n",
      " 36  savings_ratio                     5 non-null      float64\n",
      " 37  expense_to_income_ratio           5 non-null      float64\n",
      " 38  income_per_member                 5 non-null      float64\n",
      " 39  dependents_ratio                  5 non-null      float64\n",
      " 40  employment_stability              5 non-null      float64\n",
      " 41  loan_to_income_ratio              5 non-null      float64\n",
      " 42  emergency_coverage                5 non-null      float64\n",
      "dtypes: float64(41), int64(2)\n",
      "memory usage: 1.8 KB\n",
      "<class 'pandas.core.frame.DataFrame'>\n",
      "RangeIndex: 5 entries, 0 to 4\n",
      "Data columns (total 43 columns):\n",
      " #   Column                            Non-Null Count  Dtype  \n",
      "---  ------                            --------------  -----  \n",
      " 0   age                               5 non-null      float64\n",
      " 1   education                         5 non-null      int64  \n",
      " 2   monthly_salary                    5 non-null      float64\n",
      " 3   years_of_employment               5 non-null      float64\n",
      " 4   monthly_rent                      5 non-null      float64\n",
      " 5   family_size                       5 non-null      float64\n",
      " 6   dependents                        5 non-null      float64\n",
      " 7   school_fees                       5 non-null      float64\n",
      " 8   college_fees                      5 non-null      float64\n",
      " 9   travel_expenses                   5 non-null      float64\n",
      " 10  groceries_utilities               5 non-null      float64\n",
      " 11  other_monthly_expenses            5 non-null      float64\n",
      " 12  current_emi_amount                5 non-null      float64\n",
      " 13  credit_score                      5 non-null      float64\n",
      " 14  bank_balance                      5 non-null      float64\n",
      " 15  emergency_fund                    5 non-null      float64\n",
      " 16  requested_amount                  5 non-null      float64\n",
      " 17  requested_tenure                  5 non-null      float64\n",
      " 18  emi_eligibility                   5 non-null      object \n",
      " 19  max_monthly_emi                   5 non-null      float64\n",
      " 20  gender_Male                       5 non-null      float64\n",
      " 21  marital_status_Single             5 non-null      float64\n",
      " 22  employment_type_Private           5 non-null      float64\n",
      " 23  employment_type_Self-Employed     5 non-null      float64\n",
      " 24  company_type_MNC                  5 non-null      float64\n",
      " 25  company_type_Mid-size             5 non-null      float64\n",
      " 26  company_type_Small                5 non-null      float64\n",
      " 27  company_type_Startup              5 non-null      float64\n",
      " 28  house_type_Own                    5 non-null      float64\n",
      " 29  house_type_Rented                 5 non-null      float64\n",
      " 30  existing_loans_Yes                5 non-null      float64\n",
      " 31  emi_scenario_Education EMI        5 non-null      float64\n",
      " 32  emi_scenario_Home Appliances EMI  5 non-null      float64\n",
      " 33  emi_scenario_Personal Loan EMI    5 non-null      float64\n",
      " 34  emi_scenario_Vehicle EMI          5 non-null      float64\n",
      " 35  total_monthly_expenses            5 non-null      float64\n",
      " 36  savings_ratio                     5 non-null      float64\n",
      " 37  expense_to_income_ratio           5 non-null      float64\n",
      " 38  income_per_member                 5 non-null      float64\n",
      " 39  dependents_ratio                  5 non-null      float64\n",
      " 40  employment_stability              5 non-null      float64\n",
      " 41  loan_to_income_ratio              5 non-null      float64\n",
      " 42  emergency_coverage                5 non-null      float64\n",
      "dtypes: float64(41), int64(1), object(1)\n",
      "memory usage: 1.8+ KB\n"
     ]
    }
   ],
   "source": [
    "# ✅ Add new engineered features to classification dataset (df_cls)\n",
    "df_cls[\"total_monthly_expenses\"] = (\n",
    "    df_cls[\"monthly_rent\"] + df_cls[\"school_fees\"] + df_cls[\"college_fees\"] +\n",
    "    df_cls[\"travel_expenses\"] + df_cls[\"groceries_utilities\"] + df_cls[\"other_monthly_expenses\"]\n",
    ")\n",
    "\n",
    "df_cls[\"savings_ratio\"] = (df_cls[\"bank_balance\"] + df_cls[\"emergency_fund\"]) / (df_cls[\"monthly_salary\"] + 1e-5)\n",
    "df_cls[\"expense_to_income_ratio\"] = df_cls[\"total_monthly_expenses\"] / (df_cls[\"monthly_salary\"] + 1e-5)\n",
    "df_cls[\"income_per_member\"] = df_cls[\"monthly_salary\"] / (df_cls[\"family_size\"] + 1e-5)\n",
    "df_cls[\"dependents_ratio\"] = df_cls[\"dependents\"] / (df_cls[\"family_size\"] + 1e-5)\n",
    "df_cls[\"employment_stability\"] = df_cls[\"years_of_employment\"] / (df_cls[\"age\"] + 1e-5)\n",
    "df_cls[\"loan_to_income_ratio\"] = df_cls[\"requested_amount\"] / ((df_cls[\"monthly_salary\"] * df_cls[\"requested_tenure\"]) + 1e-5)\n",
    "df_cls[\"emergency_coverage\"] = df_cls[\"emergency_fund\"] / (df_cls[\"monthly_salary\"] + 1e-5)\n",
    "\n",
    "# ✅ Add the same engineered features to regression dataset (df_reg)\n",
    "df_reg[\"total_monthly_expenses\"] = (\n",
    "    df_reg[\"monthly_rent\"] + df_reg[\"school_fees\"] + df_reg[\"college_fees\"] +\n",
    "    df_reg[\"travel_expenses\"] + df_reg[\"groceries_utilities\"] + df_reg[\"other_monthly_expenses\"]\n",
    ")\n",
    "\n",
    "df_reg[\"savings_ratio\"] = (df_reg[\"bank_balance\"] + df_reg[\"emergency_fund\"]) / (df_reg[\"monthly_salary\"] + 1e-5)\n",
    "df_reg[\"expense_to_income_ratio\"] = df_reg[\"total_monthly_expenses\"] / (df_reg[\"monthly_salary\"] + 1e-5)\n",
    "df_reg[\"income_per_member\"] = df_reg[\"monthly_salary\"] / (df_reg[\"family_size\"] + 1e-5)\n",
    "df_reg[\"dependents_ratio\"] = df_reg[\"dependents\"] / (df_reg[\"family_size\"] + 1e-5)\n",
    "df_reg[\"employment_stability\"] = df_reg[\"years_of_employment\"] / (df_reg[\"age\"] + 1e-5)\n",
    "df_reg[\"loan_to_income_ratio\"] = df_reg[\"requested_amount\"] / ((df_reg[\"monthly_salary\"] * df_reg[\"requested_tenure\"]) + 1e-5)\n",
    "df_reg[\"emergency_coverage\"] = df_reg[\"emergency_fund\"] / (df_reg[\"monthly_salary\"] + 1e-5)\n",
    "\n",
    "df_cls.head().info()\n",
    "df_reg.head().info()"
   ]
  },
  {
   "cell_type": "markdown",
   "metadata": {
    "id": "2DejudWSA-a0"
   },
   "source": [
    "#### 2. Feature Selection"
   ]
  },
  {
   "cell_type": "code",
   "execution_count": 181,
   "metadata": {
    "id": "YLhe8UmaBCEE"
   },
   "outputs": [],
   "source": [
    "# Drop raw columns after feature engineering — these are now redundant\n",
    "drop_cols = [\n",
    "    \"monthly_rent\", \"school_fees\", \"college_fees\",\n",
    "    \"travel_expenses\", \"groceries_utilities\", \"other_monthly_expenses\"\n",
    "]\n",
    "\n",
    "df_cls = df_cls.drop(columns=drop_cols)\n",
    "df_reg = df_reg.drop(columns=drop_cols)\n"
   ]
  },
  {
   "cell_type": "markdown",
   "metadata": {
    "id": "pEMng2IbBLp7"
   },
   "source": [
    "##### What all feature selection methods have you used  and why?"
   ]
  },
  {
   "cell_type": "markdown",
   "metadata": {
    "id": "rb2Lh6Z8BgGs"
   },
   "source": [
    "#### Feature Selection Methods Used\n",
    "\n",
    "- **Correlation Analysis:** Removed features with correlation > 0.85 to avoid redundancy and multicollinearity.  \n",
    "- **Domain-Based Dropping:** Combined expense columns into meaningful ratios and totals, then dropped the originals.  \n"
   ]
  },
  {
   "cell_type": "markdown",
   "metadata": {
    "id": "rAdphbQ9Bhjc"
   },
   "source": [
    "##### Which all features you found important and why?"
   ]
  },
  {
   "cell_type": "markdown",
   "metadata": {
    "id": "fGgaEstsBnaf"
   },
   "source": [
    "#### Important Features and Their Significance\n",
    "\n",
    "Based on Random Forest feature importance analysis, the following features were found to be most influential in predicting EMI eligibility:\n",
    "\n",
    "- **loan_to_income_ratio:** Indicates how much of the income is tied up in loan repayment — a strong risk indicator.  \n",
    "- **max_monthly_emi:** Reflects the borrower’s EMI limit and repayment capacity.  \n",
    "- **debt_to_income_ratio:** Shows financial burden relative to income; higher values imply higher default risk.  \n",
    "- **requested_amount:** Larger loan requests increase risk if income and repayment ability are low.  \n",
    "- **expense_to_income_ratio:** Measures how much of the salary goes toward expenses, affecting EMI affordability.  \n",
    "- **requested_tenure:** Longer tenures may suggest weaker financial stability.  \n",
    "- **monthly_salary:** Core determinant of EMI eligibility and repayment capacity.  \n",
    "- **total_monthly_expenses:** Higher expenses reduce available funds for EMI payment.  \n",
    "- **current_emi_amount:** Indicates existing financial commitments.  \n",
    "- **existing_loans_Yes:** Shows if the applicant already has active loans, affecting credit risk.  \n",
    "- **income_per_member:** Helps gauge financial load per household member.  \n",
    "- **bank_balance:** Reflects financial discipline and liquidity.  \n",
    "- **credit_score:** Standard indicator of financial reliability.  \n",
    "- **savings_ratio:** Shows how much income is being saved, hinting at financial security.  \n",
    "- **years_of_employment:** Suggests income stability and job consistency.\n",
    "\n",
    "These features collectively capture income stability, spending habits, debt levels, and financial behavior — all crucial factors for predicting EMI eligibility.\n"
   ]
  },
  {
   "cell_type": "markdown",
   "metadata": {
    "id": "TNVZ9zx19K6k"
   },
   "source": [
    "### 5. Data Transformation"
   ]
  },
  {
   "cell_type": "markdown",
   "metadata": {
    "id": "nqoHp30x9hH9"
   },
   "source": [
    "#### Do you think that your data needs to be transformed? If yes, which transformation have you used. Explain Why?"
   ]
  },
  {
   "cell_type": "code",
   "execution_count": 185,
   "metadata": {
    "id": "I6quWQ1T9rtH"
   },
   "outputs": [
    {
     "name": "stdout",
     "output_type": "stream",
     "text": [
      "✅ Log transformation applied to both classification and regression datasets.\n"
     ]
    }
   ],
   "source": [
    "df_cls_transformed = df_cls.copy()\n",
    "\n",
    "# Log transform for skewed features\n",
    "skewed_cols = ['monthly_salary', 'requested_amount', 'bank_balance']\n",
    "for col in skewed_cols:\n",
    "    if col in df_cls_transformed.columns:\n",
    "        df_cls_transformed[col] = np.log1p(df_cls_transformed[col])\n",
    "\n",
    "# ---- REGRESSION DATA ----\n",
    "df_reg_transformed = df.copy()\n",
    "\n",
    "for col in skewed_cols:\n",
    "    if col in df_reg_transformed.columns:\n",
    "        df_reg_transformed[col] = np.log1p(df_reg_transformed[col])\n",
    "\n",
    "print(\"✅ Log transformation applied to both classification and regression datasets.\")"
   ]
  },
  {
   "cell_type": "markdown",
   "metadata": {},
   "source": [
    "#### Data Transformation\n",
    "\n",
    "Yes, the data required transformation to ensure features are on a similar scale and to handle skewed distributions.\n",
    "\n",
    "- **Standardization (Z-Score Scaling):**  \n",
    "  Applied to numerical columns to bring them to a common scale (mean = 0, std = 1), helping models converge faster and perform better.\n",
    "\n",
    "- **Log Transformation (for skewed features):**  \n",
    "  Used on variables like `monthly_salary`, `requested_amount`, and `bank_balance` to reduce skewness and normalize distributions.\n"
   ]
  },
  {
   "cell_type": "markdown",
   "metadata": {
    "id": "rMDnDkt2B6du"
   },
   "source": [
    "### 6. Data Scaling"
   ]
  },
  {
   "cell_type": "code",
   "execution_count": 186,
   "metadata": {
    "id": "dL9LWpySC6x_"
   },
   "outputs": [
    {
     "name": "stdout",
     "output_type": "stream",
     "text": [
      "✅ Standard scaling applied to both classification and regression datasets.\n"
     ]
    }
   ],
   "source": [
    "from sklearn.preprocessing import StandardScaler\n",
    "\n",
    "scaler_cls = StandardScaler()\n",
    "scaler_reg = StandardScaler()\n",
    "\n",
    "# ---- CLASSIFICATION DATA ----\n",
    "num_cols_cls = df_cls_transformed.select_dtypes(include=['float64', 'int64']).columns.drop('emi_eligibility')\n",
    "df_cls_transformed[num_cols_cls] = scaler_cls.fit_transform(df_cls_transformed[num_cols_cls])\n",
    "\n",
    "# ---- REGRESSION DATA ----\n",
    "num_cols_reg = df_reg_transformed.select_dtypes(include=['float64', 'int64']).columns.drop('max_monthly_emi')\n",
    "df_reg_transformed[num_cols_reg] = scaler_reg.fit_transform(df_reg_transformed[num_cols_reg])\n",
    "\n",
    "print(\"✅ Standard scaling applied to both classification and regression datasets.\")\n"
   ]
  },
  {
   "cell_type": "markdown",
   "metadata": {
    "id": "yiiVWRdJDDil"
   },
   "source": [
    "##### Which method have you used to scale you data and why?"
   ]
  },
  {
   "cell_type": "markdown",
   "metadata": {},
   "source": [
    "Scaling is essential to ensure that all numerical features contribute equally to the model and improve convergence speed.\n",
    "\n",
    "- **StandardScaler:** Used to scale continuous numerical features to have a mean of 0 and a standard deviation of 1.  \n",
    "  This is especially useful for models like Logistic Regression, SVM, and Neural Networks which are sensitive to feature magnitude."
   ]
  },
  {
   "cell_type": "markdown",
   "metadata": {
    "id": "1UUpS68QDMuG"
   },
   "source": [
    "### 7. Dimesionality Reduction"
   ]
  },
  {
   "cell_type": "markdown",
   "metadata": {
    "id": "kexQrXU-DjzY"
   },
   "source": [
    "##### Do you think that dimensionality reduction is needed? Explain Why?"
   ]
  },
  {
   "cell_type": "markdown",
   "metadata": {
    "id": "GGRlBsSGDtTQ"
   },
   "source": [
    "Answer Here."
   ]
  },
  {
   "cell_type": "code",
   "execution_count": null,
   "metadata": {
    "id": "kQfvxBBHDvCa"
   },
   "outputs": [],
   "source": [
    "# DImensionality Reduction (If needed)"
   ]
  },
  {
   "cell_type": "markdown",
   "metadata": {
    "id": "T5CmagL3EC8N"
   },
   "source": [
    "##### Which dimensionality reduction technique have you used and why? (If dimensionality reduction done on dataset.)"
   ]
  },
  {
   "cell_type": "markdown",
   "metadata": {
    "id": "ZKr75IDuEM7t"
   },
   "source": [
    "Answer Here."
   ]
  },
  {
   "cell_type": "markdown",
   "metadata": {
    "id": "BhH2vgX9EjGr"
   },
   "source": [
    "### 8. Data Splitting"
   ]
  },
  {
   "cell_type": "code",
   "execution_count": null,
   "metadata": {},
   "outputs": [
    {
     "name": "stdout",
     "output_type": "stream",
     "text": [
      "<class 'pandas.core.frame.DataFrame'>\n",
      "RangeIndex: 404800 entries, 0 to 404799\n",
      "Data columns (total 33 columns):\n",
      " #   Column                            Non-Null Count   Dtype  \n",
      "---  ------                            --------------   -----  \n",
      " 0   age                               404800 non-null  float64\n",
      " 1   education                         404800 non-null  float64\n",
      " 2   monthly_salary                    404800 non-null  float64\n",
      " 3   years_of_employment               404800 non-null  float64\n",
      " 4   family_size                       404800 non-null  float64\n",
      " 5   current_emi_amount                404800 non-null  float64\n",
      " 6   credit_score                      404800 non-null  float64\n",
      " 7   bank_balance                      404800 non-null  float64\n",
      " 8   requested_amount                  404800 non-null  float64\n",
      " 9   requested_tenure                  404800 non-null  float64\n",
      " 10  emi_eligibility                   404800 non-null  float64\n",
      " 11  max_monthly_emi                   404800 non-null  float64\n",
      " 12  gender_Male                       404800 non-null  float64\n",
      " 13  marital_status_Single             404800 non-null  float64\n",
      " 14  employment_type_Private           404800 non-null  float64\n",
      " 15  employment_type_Self-Employed     404800 non-null  float64\n",
      " 16  company_type_MNC                  404800 non-null  float64\n",
      " 17  company_type_Mid-size             404800 non-null  float64\n",
      " 18  company_type_Small                404800 non-null  float64\n",
      " 19  company_type_Startup              404800 non-null  float64\n",
      " 20  house_type_Own                    404800 non-null  float64\n",
      " 21  house_type_Rented                 404800 non-null  float64\n",
      " 22  existing_loans_Yes                404800 non-null  float64\n",
      " 23  emi_scenario_Education EMI        404800 non-null  float64\n",
      " 24  emi_scenario_Home Appliances EMI  404800 non-null  float64\n",
      " 25  emi_scenario_Personal Loan EMI    404800 non-null  float64\n",
      " 26  emi_scenario_Vehicle EMI          404800 non-null  float64\n",
      " 27  debt_to_income_ratio              404800 non-null  float64\n",
      " 28  total_monthly_expenses            402374 non-null  float64\n",
      " 29  savings_ratio                     404800 non-null  float64\n",
      " 30  expense_to_income_ratio           402374 non-null  float64\n",
      " 31  income_per_member                 404800 non-null  float64\n",
      " 32  loan_to_income_ratio              404800 non-null  float64\n",
      "dtypes: float64(33)\n",
      "memory usage: 101.9 MB\n"
     ]
    }
   ],
   "source": [
    "df.info()"
   ]
  },
  {
   "cell_type": "code",
   "execution_count": 187,
   "metadata": {
    "id": "0CTyd2UwEyNM"
   },
   "outputs": [
    {
     "name": "stdout",
     "output_type": "stream",
     "text": [
      "✅ Data successfully split into training (80%) and testing (20%) sets for both models.\n"
     ]
    }
   ],
   "source": [
    "from sklearn.model_selection import train_test_split\n",
    "\n",
    "# ---- CLASSIFICATION DATA ----\n",
    "X_classification = df_cls_transformed.drop(columns=['emi_eligibility'])\n",
    "y_classification = df_cls_transformed['emi_eligibility']\n",
    "\n",
    "X_train_cls, X_test_cls, y_train_cls, y_test_cls = train_test_split(\n",
    "    X_classification, y_classification, \n",
    "    test_size=0.2, random_state=42, stratify=y_classification\n",
    ")\n",
    "\n",
    "# ---- REGRESSION DATA ----\n",
    "X_regression = df_reg_transformed.drop(columns=['max_monthly_emi'])\n",
    "y_regression = df_reg_transformed['max_monthly_emi']\n",
    "\n",
    "X_train_reg, X_test_reg, y_train_reg, y_test_reg = train_test_split(\n",
    "    X_regression, y_regression, \n",
    "    test_size=0.2, random_state=42\n",
    ")\n",
    "\n",
    "print(\"✅ Data successfully split into training (80%) and testing (20%) sets for both models.\")\n"
   ]
  },
  {
   "cell_type": "markdown",
   "metadata": {
    "id": "qjKvONjwE8ra"
   },
   "source": [
    "##### What data splitting ratio have you used and why?"
   ]
  },
  {
   "cell_type": "markdown",
   "metadata": {
    "id": "Y2lJ8cobFDb_"
   },
   "source": [
    "#### Data Splitting Ratio\n",
    "\n",
    "We used an **80:20 split** — where 80% of the data is used for training and 20% for testing.  \n",
    "This ratio provides a good balance between training the model effectively and keeping enough data aside to evaluate its performance.  \n",
    "It ensures the model learns well while still being tested on unseen data to check for overfitting or generalization issues.\n"
   ]
  },
  {
   "cell_type": "markdown",
   "metadata": {
    "id": "P1XJ9OREExlT"
   },
   "source": [
    "### 9. Handling Imbalanced Dataset"
   ]
  },
  {
   "cell_type": "markdown",
   "metadata": {
    "id": "VFOzZv6IFROw"
   },
   "source": [
    "##### Do you think the dataset is imbalanced? Explain Why."
   ]
  },
  {
   "cell_type": "markdown",
   "metadata": {
    "id": "GeKDIv7pFgcC"
   },
   "source": [
    "Answer Here."
   ]
  },
  {
   "cell_type": "code",
   "execution_count": null,
   "metadata": {},
   "outputs": [
    {
     "name": "stdout",
     "output_type": "stream",
     "text": [
      "Collecting imblearn\n",
      "  Downloading imblearn-0.0-py2.py3-none-any.whl.metadata (355 bytes)\n",
      "Collecting imbalanced-learn (from imblearn)\n",
      "  Downloading imbalanced_learn-0.14.0-py3-none-any.whl.metadata (8.8 kB)\n",
      "Requirement already satisfied: numpy<3,>=1.25.2 in c:\\users\\vrajg\\miniconda3\\lib\\site-packages (from imbalanced-learn->imblearn) (2.1.3)\n",
      "Requirement already satisfied: scipy<2,>=1.11.4 in c:\\users\\vrajg\\miniconda3\\lib\\site-packages (from imbalanced-learn->imblearn) (1.15.3)\n",
      "Requirement already satisfied: scikit-learn<2,>=1.4.2 in c:\\users\\vrajg\\miniconda3\\lib\\site-packages (from imbalanced-learn->imblearn) (1.7.2)\n",
      "Requirement already satisfied: joblib<2,>=1.2.0 in c:\\users\\vrajg\\miniconda3\\lib\\site-packages (from imbalanced-learn->imblearn) (1.5.2)\n",
      "Requirement already satisfied: threadpoolctl<4,>=2.0.0 in c:\\users\\vrajg\\miniconda3\\lib\\site-packages (from imbalanced-learn->imblearn) (3.6.0)\n",
      "Downloading imblearn-0.0-py2.py3-none-any.whl (1.9 kB)\n",
      "Downloading imbalanced_learn-0.14.0-py3-none-any.whl (239 kB)\n",
      "Installing collected packages: imbalanced-learn, imblearn\n",
      "\n",
      "   ---------------------------------------- 0/2 [imbalanced-learn]\n",
      "   ---------------------------------------- 0/2 [imbalanced-learn]\n",
      "   ---------------------------------------- 0/2 [imbalanced-learn]\n",
      "   ---------------------------------------- 0/2 [imbalanced-learn]\n",
      "   ---------------------------------------- 0/2 [imbalanced-learn]\n",
      "   ---------------------------------------- 2/2 [imblearn]\n",
      "\n",
      "Successfully installed imbalanced-learn-0.14.0 imblearn-0.0\n"
     ]
    }
   ],
   "source": [
    "!pip install imblearn"
   ]
  },
  {
   "cell_type": "code",
   "execution_count": 188,
   "metadata": {
    "id": "nQsRhhZLFiDs"
   },
   "outputs": [
    {
     "name": "stdout",
     "output_type": "stream",
     "text": [
      "Before SMOTE:\n",
      " emi_eligibility\n",
      "2    0.772894\n",
      "0    0.183903\n",
      "1    0.043203\n",
      "Name: proportion, dtype: float64\n",
      "\n",
      "After SMOTE:\n",
      " emi_eligibility\n",
      "0    0.333333\n",
      "1    0.333333\n",
      "2    0.333333\n",
      "Name: proportion, dtype: float64\n",
      "✅ Class imbalance handled using SMOTE for classification dataset.\n"
     ]
    }
   ],
   "source": [
    "from imblearn.over_sampling import SMOTE\n",
    "from collections import Counter\n",
    "\n",
    "# --- Classification ---\n",
    "y_train_cls = y_train_cls.astype('category')\n",
    "y_test_cls = y_test_cls.astype('category')\n",
    "\n",
    "smote = SMOTE(random_state=42)\n",
    "X_train_cls_bal, y_train_cls_bal = smote.fit_resample(X_train_cls, y_train_cls)\n",
    "\n",
    "print(\"Before SMOTE:\\n\", y_train_cls.value_counts(normalize=True))\n",
    "print(\"\\nAfter SMOTE:\\n\", y_train_cls_bal.value_counts(normalize=True))\n",
    "\n",
    "# --- Regression (no balancing needed) ---\n",
    "X_train_reg_bal, y_train_reg_bal = X_train_reg, y_train_reg\n",
    "print(\"✅ Class imbalance handled using SMOTE for classification dataset.\")"
   ]
  },
  {
   "cell_type": "markdown",
   "metadata": {
    "id": "TIqpNgepFxVj"
   },
   "source": [
    "##### What technique did you use to handle the imbalance dataset and why? (If needed to be balanced)"
   ]
  },
  {
   "cell_type": "markdown",
   "metadata": {
    "id": "qbet1HwdGDTz"
   },
   "source": [
    "Answer Here."
   ]
  },
  {
   "cell_type": "markdown",
   "metadata": {
    "id": "VfCC591jGiD4"
   },
   "source": [
    "## ***7. ML Model Implementation***"
   ]
  },
  {
   "cell_type": "markdown",
   "metadata": {
    "id": "OB4l2ZhMeS1U"
   },
   "source": [
    "### ML Model - 1"
   ]
  },
  {
   "cell_type": "code",
   "execution_count": null,
   "metadata": {
    "id": "7ebyywQieS1U"
   },
   "outputs": [],
   "source": [
    "# 🧠 ML Model - 1 Implementation\n",
    "\n",
    "# ---- Classification Model ----\n",
    "from sklearn.ensemble import RandomForestClassifier\n",
    "from sklearn.metrics import classification_report, confusion_matrix, accuracy_score\n",
    "\n",
    "# Fit the Algorithm\n",
    "rf_cls = RandomForestClassifier(random_state=42)\n",
    "rf_cls.fit(X_train_cls_bal, y_train_cls_bal)\n",
    "\n",
    "# Predict on the model\n",
    "y_pred_cls = rf_cls.predict(X_test_cls)\n",
    "\n",
    "# Evaluation\n",
    "print(\"=== Classification Model: RandomForestClassifier ===\")\n",
    "print(\"Accuracy:\", accuracy_score(y_test_cls, y_pred_cls))\n",
    "print(\"\\nConfusion Matrix:\\n\", confusion_matrix(y_test_cls, y_pred_cls))\n",
    "print(\"\\nClassification Report:\\n\", classification_report(y_test_cls, y_pred_cls))\n"
   ]
  },
  {
   "cell_type": "code",
   "execution_count": null,
   "metadata": {},
   "outputs": [],
   "source": [
    "# ---- Regression Model ----\n",
    "from sklearn.ensemble import RandomForestRegressor\n",
    "from sklearn.metrics import mean_squared_error, mean_absolute_error, r2_score\n",
    "import numpy as np\n",
    "\n",
    "# Fit the Algorithm\n",
    "rf_reg = RandomForestRegressor(random_state=42)\n",
    "rf_reg.fit(X_train_reg, y_train_reg)\n",
    "\n",
    "# Predict on the model\n",
    "y_pred_reg = rf_reg.predict(X_test_reg)\n",
    "\n",
    "# Evaluation\n",
    "print(\"\\n=== Regression Model: RandomForestRegressor ===\")\n",
    "print(\"R² Score:\", r2_score(y_test_reg, y_pred_reg))\n",
    "print(\"MAE:\", mean_absolute_error(y_test_reg, y_pred_reg))\n",
    "print(\"RMSE:\", np.sqrt(mean_squared_error(y_test_reg, y_pred_reg)))\n"
   ]
  },
  {
   "cell_type": "markdown",
   "metadata": {
    "id": "ArJBuiUVfxKd"
   },
   "source": [
    "#### 1. Explain the ML Model used and it's performance using Evaluation metric Score Chart."
   ]
  },
  {
   "cell_type": "code",
   "execution_count": null,
   "metadata": {
    "id": "rqD5ZohzfxKe"
   },
   "outputs": [],
   "source": [
    "# Visualizing evaluation Metric Score chart"
   ]
  },
  {
   "cell_type": "markdown",
   "metadata": {
    "id": "4qY1EAkEfxKe"
   },
   "source": [
    "#### 2. Cross- Validation & Hyperparameter Tuning"
   ]
  },
  {
   "cell_type": "code",
   "execution_count": null,
   "metadata": {
    "id": "Dy61ujd6fxKe"
   },
   "outputs": [],
   "source": [
    "# ML Model - 1 Implementation with hyperparameter optimization techniques (i.e., GridSearch CV, RandomSearch CV, Bayesian Optimization etc.)\n",
    "\n",
    "# Fit the Algorithm\n",
    "\n",
    "# Predict on the model"
   ]
  },
  {
   "cell_type": "markdown",
   "metadata": {
    "id": "PiV4Ypx8fxKe"
   },
   "source": [
    "##### Which hyperparameter optimization technique have you used and why?"
   ]
  },
  {
   "cell_type": "markdown",
   "metadata": {
    "id": "negyGRa7fxKf"
   },
   "source": [
    "Answer Here."
   ]
  },
  {
   "cell_type": "markdown",
   "metadata": {
    "id": "TfvqoZmBfxKf"
   },
   "source": [
    "##### Have you seen any improvement? Note down the improvement with updates Evaluation metric Score Chart."
   ]
  },
  {
   "cell_type": "markdown",
   "metadata": {
    "id": "OaLui8CcfxKf"
   },
   "source": [
    "Answer Here."
   ]
  },
  {
   "cell_type": "markdown",
   "metadata": {
    "id": "dJ2tPlVmpsJ0"
   },
   "source": [
    "### ML Model - 2"
   ]
  },
  {
   "cell_type": "markdown",
   "metadata": {
    "id": "JWYfwnehpsJ1"
   },
   "source": [
    "#### 1. Explain the ML Model used and it's performance using Evaluation metric Score Chart."
   ]
  },
  {
   "cell_type": "code",
   "execution_count": null,
   "metadata": {
    "id": "yEl-hgQWpsJ1"
   },
   "outputs": [],
   "source": [
    "# Visualizing evaluation Metric Score chart"
   ]
  },
  {
   "cell_type": "markdown",
   "metadata": {
    "id": "-jK_YjpMpsJ2"
   },
   "source": [
    "#### 2. Cross- Validation & Hyperparameter Tuning"
   ]
  },
  {
   "cell_type": "code",
   "execution_count": null,
   "metadata": {
    "id": "Dn0EOfS6psJ2"
   },
   "outputs": [],
   "source": [
    "# ML Model - 1 Implementation with hyperparameter optimization techniques (i.e., GridSearch CV, RandomSearch CV, Bayesian Optimization etc.)\n",
    "\n",
    "# Fit the Algorithm\n",
    "\n",
    "# Predict on the model"
   ]
  },
  {
   "cell_type": "markdown",
   "metadata": {
    "id": "HAih1iBOpsJ2"
   },
   "source": [
    "##### Which hyperparameter optimization technique have you used and why?"
   ]
  },
  {
   "cell_type": "markdown",
   "metadata": {
    "id": "9kBgjYcdpsJ2"
   },
   "source": [
    "Answer Here."
   ]
  },
  {
   "cell_type": "markdown",
   "metadata": {
    "id": "zVGeBEFhpsJ2"
   },
   "source": [
    "##### Have you seen any improvement? Note down the improvement with updates Evaluation metric Score Chart."
   ]
  },
  {
   "cell_type": "markdown",
   "metadata": {
    "id": "74yRdG6UpsJ3"
   },
   "source": [
    "Answer Here."
   ]
  },
  {
   "cell_type": "markdown",
   "metadata": {
    "id": "bmKjuQ-FpsJ3"
   },
   "source": [
    "#### 3. Explain each evaluation metric's indication towards business and the business impact pf the ML model used."
   ]
  },
  {
   "cell_type": "markdown",
   "metadata": {
    "id": "BDKtOrBQpsJ3"
   },
   "source": [
    "Answer Here."
   ]
  },
  {
   "cell_type": "markdown",
   "metadata": {
    "id": "Fze-IPXLpx6K"
   },
   "source": [
    "### ML Model - 3"
   ]
  },
  {
   "cell_type": "code",
   "execution_count": null,
   "metadata": {
    "id": "FFrSXAtrpx6M"
   },
   "outputs": [],
   "source": [
    "# ML Model - 3 Implementation\n",
    "\n",
    "# Fit the Algorithm\n",
    "\n",
    "# Predict on the model"
   ]
  },
  {
   "cell_type": "markdown",
   "metadata": {
    "id": "7AN1z2sKpx6M"
   },
   "source": [
    "#### 1. Explain the ML Model used and it's performance using Evaluation metric Score Chart."
   ]
  },
  {
   "cell_type": "code",
   "execution_count": null,
   "metadata": {
    "id": "xIY4lxxGpx6M"
   },
   "outputs": [],
   "source": [
    "# Visualizing evaluation Metric Score chart"
   ]
  },
  {
   "cell_type": "markdown",
   "metadata": {
    "id": "9PIHJqyupx6M"
   },
   "source": [
    "#### 2. Cross- Validation & Hyperparameter Tuning"
   ]
  },
  {
   "cell_type": "code",
   "execution_count": null,
   "metadata": {
    "id": "eSVXuaSKpx6M"
   },
   "outputs": [],
   "source": [
    "# ML Model - 3 Implementation with hyperparameter optimization techniques (i.e., GridSearch CV, RandomSearch CV, Bayesian Optimization etc.)\n",
    "\n",
    "# Fit the Algorithm\n",
    "\n",
    "# Predict on the model"
   ]
  },
  {
   "cell_type": "markdown",
   "metadata": {
    "id": "_-qAgymDpx6N"
   },
   "source": [
    "##### Which hyperparameter optimization technique have you used and why?"
   ]
  },
  {
   "cell_type": "markdown",
   "metadata": {
    "id": "lQMffxkwpx6N"
   },
   "source": [
    "Answer Here."
   ]
  },
  {
   "cell_type": "markdown",
   "metadata": {
    "id": "Z-hykwinpx6N"
   },
   "source": [
    "##### Have you seen any improvement? Note down the improvement with updates Evaluation metric Score Chart."
   ]
  },
  {
   "cell_type": "markdown",
   "metadata": {
    "id": "MzVzZC6opx6N"
   },
   "source": [
    "Answer Here."
   ]
  },
  {
   "cell_type": "markdown",
   "metadata": {
    "id": "h_CCil-SKHpo"
   },
   "source": [
    "### 1. Which Evaluation metrics did you consider for a positive business impact and why?"
   ]
  },
  {
   "cell_type": "markdown",
   "metadata": {
    "id": "jHVz9hHDKFms"
   },
   "source": [
    "Answer Here."
   ]
  },
  {
   "cell_type": "markdown",
   "metadata": {
    "id": "cBFFvTBNJzUa"
   },
   "source": [
    "### 2. Which ML model did you choose from the above created models as your final prediction model and why?"
   ]
  },
  {
   "cell_type": "markdown",
   "metadata": {
    "id": "6ksF5Q1LKTVm"
   },
   "source": [
    "Answer Here."
   ]
  },
  {
   "cell_type": "markdown",
   "metadata": {
    "id": "HvGl1hHyA_VK"
   },
   "source": [
    "### 3. Explain the model which you have used and the feature importance using any model explainability tool?"
   ]
  },
  {
   "cell_type": "markdown",
   "metadata": {
    "id": "YnvVTiIxBL-C"
   },
   "source": [
    "Answer Here."
   ]
  },
  {
   "cell_type": "markdown",
   "metadata": {
    "id": "EyNgTHvd2WFk"
   },
   "source": [
    "## ***8.*** ***Future Work (Optional)***"
   ]
  },
  {
   "cell_type": "markdown",
   "metadata": {
    "id": "KH5McJBi2d8v"
   },
   "source": [
    "### 1. Save the best performing ml model in a pickle file or joblib file format for deployment process.\n"
   ]
  },
  {
   "cell_type": "code",
   "execution_count": null,
   "metadata": {
    "id": "bQIANRl32f4J"
   },
   "outputs": [],
   "source": [
    "# Save the File"
   ]
  },
  {
   "cell_type": "markdown",
   "metadata": {
    "id": "iW_Lq9qf2h6X"
   },
   "source": [
    "### 2. Again Load the saved model file and try to predict unseen data for a sanity check.\n"
   ]
  },
  {
   "cell_type": "code",
   "execution_count": null,
   "metadata": {
    "id": "oEXk9ydD2nVC"
   },
   "outputs": [],
   "source": [
    "# Load the File and predict unseen data."
   ]
  },
  {
   "cell_type": "markdown",
   "metadata": {
    "id": "-Kee-DAl2viO"
   },
   "source": [
    "### ***Congrats! Your model is successfully created and ready for deployment on a live server for a real user interaction !!!***"
   ]
  },
  {
   "cell_type": "markdown",
   "metadata": {
    "id": "gCX9965dhzqZ"
   },
   "source": [
    "# **Conclusion**"
   ]
  },
  {
   "cell_type": "markdown",
   "metadata": {
    "id": "Fjb1IsQkh3yE"
   },
   "source": [
    "Write the conclusion here."
   ]
  },
  {
   "cell_type": "markdown",
   "metadata": {
    "id": "gIfDvo9L0UH2"
   },
   "source": [
    "### ***Hurrah! You have successfully completed your Machine Learning Capstone Project !!!***"
   ]
  }
 ],
 "metadata": {
  "colab": {
   "collapsed_sections": [
    "vncDsAP0Gaoa",
    "FJNUwmbgGyua",
    "w6K7xa23Elo4",
    "yQaldy8SH6Dl",
    "mDgbUHAGgjLW",
    "O_i_v8NEhb9l",
    "HhfV-JJviCcP",
    "Y3lxredqlCYt",
    "3RnN4peoiCZX",
    "x71ZqKXriCWQ",
    "7hBIi_osiCS2",
    "JlHwYmJAmNHm",
    "35m5QtbWiB9F",
    "PoPl-ycgm1ru",
    "H0kj-8xxnORC",
    "nA9Y7ga8ng1Z",
    "PBTbrJXOngz2",
    "u3PMJOP6ngxN",
    "dauF4eBmngu3",
    "bKJF3rekwFvQ",
    "MSa1f5Uengrz",
    "GF8Ens_Soomf",
    "0wOQAZs5pc--",
    "K5QZ13OEpz2H",
    "lQ7QKXXCp7Bj",
    "448CDAPjqfQr",
    "KSlN3yHqYklG",
    "t6dVpIINYklI",
    "ijmpgYnKYklI",
    "-JiQyfWJYklI",
    "EM7whBJCYoAo",
    "fge-S5ZAYoAp",
    "85gYPyotYoAp",
    "RoGjAbkUYoAp",
    "4Of9eVA-YrdM",
    "iky9q4vBYrdO",
    "F6T5p64dYrdO",
    "y-Ehk30pYrdP",
    "bamQiAODYuh1",
    "QHF8YVU7Yuh3",
    "GwzvFGzlYuh3",
    "qYpmQ266Yuh3",
    "OH-pJp9IphqM",
    "bbFf2-_FphqN",
    "_ouA3fa0phqN",
    "Seke61FWphqN",
    "PIIx-8_IphqN",
    "t27r6nlMphqO",
    "r2jJGEOYphqO",
    "b0JNsNcRphqO",
    "BZR9WyysphqO",
    "jj7wYXLtphqO",
    "eZrbJ2SmphqO",
    "rFu4xreNphqO",
    "YJ55k-q6phqO",
    "gCFgpxoyphqP",
    "OVtJsKN_phqQ",
    "lssrdh5qphqQ",
    "U2RJ9gkRphqQ",
    "1M8mcRywphqQ",
    "tgIPom80phqQ",
    "JMzcOPDDphqR",
    "x-EpHcCOp1ci",
    "X_VqEhTip1ck",
    "8zGJKyg5p1ck",
    "PVzmfK_Ep1ck",
    "n3dbpmDWp1ck",
    "ylSl6qgtp1ck",
    "ZWILFDl5p1ck",
    "M7G43BXep1ck",
    "Ag9LCva-p1cl",
    "E6MkPsBcp1cl",
    "2cELzS2fp1cl",
    "3MPXvC8up1cl",
    "NC_X3p0fY2L0",
    "UV0SzAkaZNRQ",
    "YPEH6qLeZNRQ",
    "q29F0dvdveiT",
    "EXh0U9oCveiU",
    "22aHeOlLveiV",
    "g-ATYxFrGrvw",
    "Yfr_Vlr8HBkt",
    "8yEUt7NnHlrM",
    "tEA2Xm5dHt1r",
    "I79__PHVH19G",
    "Ou-I18pAyIpj",
    "fF3858GYyt-u",
    "4_0_7-oCpUZd",
    "hwyV_J3ipUZe",
    "3yB-zSqbpUZe",
    "dEUvejAfpUZe",
    "Fd15vwWVpUZf",
    "bn_IUdTipZyH",
    "49K5P_iCpZyH",
    "Nff-vKELpZyI",
    "kLW572S8pZyI",
    "dWbDXHzopZyI",
    "yLjJCtPM0KBk",
    "xiyOF9F70UgQ",
    "7wuGOrhz0itI",
    "id1riN9m0vUs",
    "578E2V7j08f6",
    "89xtkJwZ18nB",
    "67NQN5KX2AMe",
    "Iwf50b-R2tYG",
    "GMQiZwjn3iu7",
    "WVIkgGqN3qsr",
    "XkPnILGE3zoT",
    "Hlsf0x5436Go",
    "mT9DMSJo4nBL",
    "c49ITxTc407N",
    "OeJFEK0N496M",
    "9ExmJH0g5HBk",
    "cJNqERVU536h",
    "k5UmGsbsOxih",
    "T0VqWOYE6DLQ",
    "qBMux9mC6MCf",
    "-oLEiFgy-5Pf",
    "C74aWNz2AliB",
    "2DejudWSA-a0",
    "pEMng2IbBLp7",
    "rAdphbQ9Bhjc",
    "TNVZ9zx19K6k",
    "nqoHp30x9hH9",
    "rMDnDkt2B6du",
    "yiiVWRdJDDil",
    "1UUpS68QDMuG",
    "kexQrXU-DjzY",
    "T5CmagL3EC8N",
    "BhH2vgX9EjGr",
    "qjKvONjwE8ra",
    "P1XJ9OREExlT",
    "VFOzZv6IFROw",
    "TIqpNgepFxVj",
    "VfCC591jGiD4",
    "OB4l2ZhMeS1U",
    "ArJBuiUVfxKd",
    "4qY1EAkEfxKe",
    "PiV4Ypx8fxKe",
    "TfvqoZmBfxKf",
    "dJ2tPlVmpsJ0",
    "JWYfwnehpsJ1",
    "-jK_YjpMpsJ2",
    "HAih1iBOpsJ2",
    "zVGeBEFhpsJ2",
    "bmKjuQ-FpsJ3",
    "Fze-IPXLpx6K",
    "7AN1z2sKpx6M",
    "9PIHJqyupx6M",
    "_-qAgymDpx6N",
    "Z-hykwinpx6N",
    "h_CCil-SKHpo",
    "cBFFvTBNJzUa",
    "HvGl1hHyA_VK",
    "EyNgTHvd2WFk",
    "KH5McJBi2d8v",
    "iW_Lq9qf2h6X",
    "-Kee-DAl2viO",
    "gCX9965dhzqZ",
    "gIfDvo9L0UH2"
   ],
   "private_outputs": true,
   "provenance": []
  },
  "kernelspec": {
   "display_name": "base",
   "language": "python",
   "name": "python3"
  },
  "language_info": {
   "codemirror_mode": {
    "name": "ipython",
    "version": 3
   },
   "file_extension": ".py",
   "mimetype": "text/x-python",
   "name": "python",
   "nbconvert_exporter": "python",
   "pygments_lexer": "ipython3",
   "version": "3.13.5"
  }
 },
 "nbformat": 4,
 "nbformat_minor": 0
}
