{
 "cells": [
  {
   "cell_type": "markdown",
   "id": "9dc84abf",
   "metadata": {},
   "source": []
  }
 ],
 "metadata": {
  "language_info": {
   "name": "python"
  }
 },
 "nbformat": 4,
 "nbformat_minor": 5
}
